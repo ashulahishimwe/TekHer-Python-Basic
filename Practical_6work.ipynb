{
 "cells": [
  {
   "cell_type": "markdown",
   "id": "bd6f6199",
   "metadata": {},
   "source": [
    "# Practical_6: Numpy"
   ]
  },
  {
   "cell_type": "code",
   "execution_count": 3,
   "id": "f32e8828-807f-46be-a427-ea2b0d84ecc1",
   "metadata": {},
   "outputs": [],
   "source": [
    "import numpy as np"
   ]
  },
  {
   "cell_type": "markdown",
   "id": "de325ed6",
   "metadata": {},
   "source": [
    "---\n",
    "\n",
    "### Exercise 1:\n",
    "Create a NumPy array of integers from 1 to 10.\n"
   ]
  },
  {
   "cell_type": "code",
   "execution_count": 11,
   "id": "9b904697",
   "metadata": {},
   "outputs": [
    {
     "data": {
      "text/plain": [
       "array([ 1,  2,  3,  4,  5,  6,  7,  8,  9, 10])"
      ]
     },
     "execution_count": 11,
     "metadata": {},
     "output_type": "execute_result"
    }
   ],
   "source": [
    "arra1=np.arange(1,11)\n",
    "arra1"
   ]
  },
  {
   "cell_type": "markdown",
   "id": "745710c7",
   "metadata": {},
   "source": [
    "\n",
    "---\n",
    "\n",
    "### Exercise 2:\n",
    "Create a 3x3 NumPy array filled with zeros.\n"
   ]
  },
  {
   "cell_type": "code",
   "execution_count": 15,
   "id": "875235f1",
   "metadata": {},
   "outputs": [
    {
     "name": "stdout",
     "output_type": "stream",
     "text": [
      "[[0. 0. 0.]\n",
      " [0. 0. 0.]\n",
      " [0. 0. 0.]]\n"
     ]
    }
   ],
   "source": [
    "arr2 = np.zeros((3, 3))\n",
    "print(arr2)"
   ]
  },
  {
   "cell_type": "markdown",
   "id": "a542ea80",
   "metadata": {},
   "source": [
    "\n",
    "---\n",
    "\n",
    "### Exercise 3:\n",
    "Create a NumPy array of 10 evenly spaced numbers between 0 and 5.\n"
   ]
  },
  {
   "cell_type": "code",
   "execution_count": 17,
   "id": "97c6ba4a",
   "metadata": {},
   "outputs": [
    {
     "data": {
      "text/plain": [
       "array([0.        , 0.55555556, 1.11111111, 1.66666667, 2.22222222,\n",
       "       2.77777778, 3.33333333, 3.88888889, 4.44444444, 5.        ])"
      ]
     },
     "execution_count": 17,
     "metadata": {},
     "output_type": "execute_result"
    }
   ],
   "source": [
    "# Exercise 3\n",
    "arr3 = np.linspace(0, 5, 10)\n",
    "arr3"
   ]
  },
  {
   "cell_type": "markdown",
   "id": "e92d80cc",
   "metadata": {},
   "source": [
    "\n",
    "---\n",
    "\n",
    "### Exercise 4:\n",
    "Create a 5x5 identity matrix using NumPy.\n"
   ]
  },
  {
   "cell_type": "code",
   "execution_count": 23,
   "id": "c5213bd2",
   "metadata": {},
   "outputs": [
    {
     "name": "stdout",
     "output_type": "stream",
     "text": [
      "\n",
      "Exercise 4:\n",
      " [[1. 0. 0. 0. 0.]\n",
      " [0. 1. 0. 0. 0.]\n",
      " [0. 0. 1. 0. 0.]\n",
      " [0. 0. 0. 1. 0.]\n",
      " [0. 0. 0. 0. 1.]]\n"
     ]
    }
   ],
   "source": [
    "# Exercise 4\n",
    "matrixarr= np.eye(5)\n",
    "print(\"\\nExercise 4:\\n\", matrixarr)\n"
   ]
  },
  {
   "cell_type": "markdown",
   "id": "a16f88e7",
   "metadata": {},
   "source": [
    "\n",
    "---\n",
    "\n",
    "### Exercise 5:\n",
    "Create a 4x4 matrix with random values between 0 and 1.\n"
   ]
  },
  {
   "cell_type": "code",
   "execution_count": 29,
   "id": "2b16922b",
   "metadata": {},
   "outputs": [
    {
     "data": {
      "text/plain": [
       "array([[0.57269586, 0.79341244, 0.2995988 , 0.48985148],\n",
       "       [0.30397438, 0.17627025, 0.51146736, 0.14493555],\n",
       "       [0.47887653, 0.33734178, 0.49356935, 0.47459249],\n",
       "       [0.01241917, 0.47434067, 0.57512843, 0.55441923]])"
      ]
     },
     "execution_count": 29,
     "metadata": {},
     "output_type": "execute_result"
    }
   ],
   "source": [
    "# Exercise 5\n",
    "randomarr=np.random.rand(4,4)\n",
    "randomarr"
   ]
  },
  {
   "cell_type": "markdown",
   "id": "cc9af8fd",
   "metadata": {},
   "source": [
    "\n",
    "---\n",
    "\n",
    "### Exercise 6:\n",
    "Find the shape of a NumPy array.\n"
   ]
  },
  {
   "cell_type": "code",
   "execution_count": 31,
   "id": "359864d2",
   "metadata": {},
   "outputs": [
    {
     "name": "stdout",
     "output_type": "stream",
     "text": [
      "(4,)\n"
     ]
    }
   ],
   "source": [
    "# Exercise 6\n",
    "numarr=np.arange(1,5)\n",
    "print(numarr.shape)"
   ]
  },
  {
   "cell_type": "markdown",
   "id": "ada0aff6",
   "metadata": {},
   "source": [
    "\n",
    "---\n",
    "\n",
    "### Exercise 7:\n",
    "Reshape a 1D NumPy array of 16 elements into a 4x4 matrix.\n"
   ]
  },
  {
   "cell_type": "code",
   "execution_count": 33,
   "id": "43fcb4b3",
   "metadata": {},
   "outputs": [
    {
     "data": {
      "text/plain": [
       "array([[ 0,  1,  2,  3],\n",
       "       [ 4,  5,  6,  7],\n",
       "       [ 8,  9, 10, 11],\n",
       "       [12, 13, 14, 15]])"
      ]
     },
     "execution_count": 33,
     "metadata": {},
     "output_type": "execute_result"
    }
   ],
   "source": [
    "# Exercise 7\n",
    "arr7 = np.arange(16).reshape(4, 4)\n",
    "arr7"
   ]
  },
  {
   "cell_type": "markdown",
   "id": "d384142a",
   "metadata": {},
   "source": [
    "\n",
    "---\n",
    "\n",
    "### Exercise 8:\n",
    "Find the data type of the elements in a NumPy array.\n"
   ]
  },
  {
   "cell_type": "code",
   "execution_count": 35,
   "id": "bf4dca5a",
   "metadata": {},
   "outputs": [
    {
     "data": {
      "text/plain": [
       "numpy.ndarray"
      ]
     },
     "execution_count": 35,
     "metadata": {},
     "output_type": "execute_result"
    }
   ],
   "source": [
    "# Exercise 8\n",
    "arr7 = np.arange(16).reshape(4, 4)\n",
    "type(arr7)"
   ]
  },
  {
   "cell_type": "markdown",
   "id": "c295ca54",
   "metadata": {},
   "source": [
    "\n",
    "---\n",
    "\n",
    "### Exercise 9:\n",
    "Create a NumPy array of integers from 1 to 100 and find all even numbers in the array.\n"
   ]
  },
  {
   "cell_type": "code",
   "execution_count": 41,
   "id": "28a61c5e",
   "metadata": {},
   "outputs": [
    {
     "name": "stdout",
     "output_type": "stream",
     "text": [
      "\n",
      "Exercise 9: [  2   4   6   8  10  12  14  16  18  20  22  24  26  28  30  32  34  36\n",
      "  38  40  42  44  46  48  50  52  54  56  58  60  62  64  66  68  70  72\n",
      "  74  76  78  80  82  84  86  88  90  92  94  96  98 100]\n"
     ]
    }
   ],
   "source": [
    "# Exercise 9\n",
    "arr9 = np.arange(1, 101)\n",
    "evens = arr9[arr9 % 2 == 0]\n",
    "print(\"Exercise 9:\", evens)\n"
   ]
  },
  {
   "cell_type": "markdown",
   "id": "72103956",
   "metadata": {},
   "source": [
    "\n",
    "---\n",
    "\n",
    "### Exercise 10:\n",
    "Generate a 6x6 matrix of random integers between 10 and 50.\n"
   ]
  },
  {
   "cell_type": "code",
   "execution_count": 47,
   "id": "ce04300e",
   "metadata": {},
   "outputs": [
    {
     "name": "stdout",
     "output_type": "stream",
     "text": [
      "\n",
      "Exercise 10:\n",
      " [[34 30 22 40 33 34]\n",
      " [49 40 30 19 48 17]\n",
      " [36 15 31 42 22 20]\n",
      " [49 32 25 37 39 34]\n",
      " [49 25 15 15 18 31]\n",
      " [18 34 46 45 11 43]]\n"
     ]
    }
   ],
   "source": [
    "# Exercise 10\n",
    "arr10 = np.random.randint(10, 50, size=(6, 6))\n",
    "print(\"\\nExercise 10:\\n\", arr10)"
   ]
  },
  {
   "cell_type": "markdown",
   "id": "3dd1a085",
   "metadata": {},
   "source": [
    "\n",
    "---\n",
    "\n",
    "### Exercise 11:\n",
    "Slice a 2D NumPy array to extract a submatrix.\n"
   ]
  },
  {
   "cell_type": "code",
   "execution_count": 49,
   "id": "b8fc90ba",
   "metadata": {},
   "outputs": [
    {
     "name": "stdout",
     "output_type": "stream",
     "text": [
      "\n",
      "Exercise 11:\n",
      " [[30 19]\n",
      " [31 42]]\n"
     ]
    }
   ],
   "source": [
    "# Exercise 11\n",
    "submatrix = arr10[1:3, 2:4]\n",
    "print(\"\\nExercise 11:\\n\", submatrix)\n"
   ]
  },
  {
   "cell_type": "markdown",
   "id": "73a4344c",
   "metadata": {},
   "source": [
    "\n",
    "---\n",
    "\n",
    "### Exercise 12:\n",
    "Calculate the sum of all elements in a NumPy array.\n"
   ]
  },
  {
   "cell_type": "code",
   "execution_count": 57,
   "id": "3c417ff3",
   "metadata": {},
   "outputs": [
    {
     "name": "stdout",
     "output_type": "stream",
     "text": [
      "\n",
      "Exercise 11:\n",
      " [[30 19]\n",
      " [31 42]]\n"
     ]
    },
    {
     "data": {
      "text/plain": [
       "122"
      ]
     },
     "execution_count": 57,
     "metadata": {},
     "output_type": "execute_result"
    }
   ],
   "source": [
    "# Exercise 12\n",
    "submatrix = arr10[1:3, 2:4]\n",
    "print(\"\\nExercise 11:\\n\", submatrix)\n",
    "submatrix.sum()"
   ]
  },
  {
   "cell_type": "markdown",
   "id": "c2346362",
   "metadata": {},
   "source": [
    "\n",
    "---\n",
    "\n",
    "### Exercise 13:\n",
    "Calculate the mean, median, and standard deviation of a NumPy array.\n"
   ]
  },
  {
   "cell_type": "code",
   "execution_count": 59,
   "id": "95e57182",
   "metadata": {},
   "outputs": [
    {
     "name": "stdout",
     "output_type": "stream",
     "text": [
      "Mean: 31.333333333333332\n",
      "Median: 32.5\n",
      "Std: 11.147994338793762\n"
     ]
    }
   ],
   "source": [
    "# Exercise 13\n",
    "print(\"Mean:\", np.mean(arr10))\n",
    "print(\"Median:\", np.median(arr10))\n",
    "print(\"Std:\", np.std(arr10))\n"
   ]
  },
  {
   "cell_type": "markdown",
   "id": "67a4fdbd",
   "metadata": {},
   "source": [
    "\n",
    "---\n",
    "\n",
    "### Exercise 14:\n",
    "Find the maximum and minimum values in a NumPy array.\n"
   ]
  },
  {
   "cell_type": "code",
   "execution_count": 61,
   "id": "7959c765",
   "metadata": {},
   "outputs": [
    {
     "name": "stdout",
     "output_type": "stream",
     "text": [
      "Max: 49\n",
      "Min: 11\n"
     ]
    }
   ],
   "source": [
    "# Exercise 14\n",
    "print(\"Max:\", arr10.max())\n",
    "print(\"Min:\", arr10.min())\n"
   ]
  },
  {
   "cell_type": "markdown",
   "id": "8a705cd1",
   "metadata": {},
   "source": [
    "\n",
    "---\n",
    "\n",
    "### Exercise 15:\n",
    "Create a NumPy array of 20 random integers and find the index of the maximum value.\n"
   ]
  },
  {
   "cell_type": "code",
   "execution_count": 65,
   "id": "c6748d73",
   "metadata": {},
   "outputs": [
    {
     "name": "stdout",
     "output_type": "stream",
     "text": [
      "3\n"
     ]
    }
   ],
   "source": [
    "# Exercise 15\n",
    "arr15 = np.random.randint(0, 100, 20)\n",
    "print(arr15.argmax())\n"
   ]
  },
  {
   "cell_type": "markdown",
   "id": "467ca6ac",
   "metadata": {},
   "source": [
    "\n",
    "---\n",
    "\n",
    "### Exercise 16:\n",
    "Create a NumPy array and reverse its elements.\n"
   ]
  },
  {
   "cell_type": "code",
   "execution_count": 67,
   "id": "0a178eb6",
   "metadata": {},
   "outputs": [
    {
     "name": "stdout",
     "output_type": "stream",
     "text": [
      "\n",
      "Exercise 16: [61 72 62 42  7 18 68 63 37 76 19 44 51  1 16 64 84 27 14 30]\n"
     ]
    }
   ],
   "source": [
    "# Exercise 16\n",
    "print(\"\\nExercise 16:\", arr15[::-1])"
   ]
  },
  {
   "cell_type": "markdown",
   "id": "b7d8ec92",
   "metadata": {},
   "source": [
    "\n",
    "---\n",
    "\n",
    "### Exercise 17:\n",
    "Create a 3x3 matrix and multiply it element-wise by another 3x3 matrix.\n"
   ]
  },
  {
   "cell_type": "code",
   "execution_count": 69,
   "id": "847ddc05",
   "metadata": {},
   "outputs": [
    {
     "name": "stdout",
     "output_type": "stream",
     "text": [
      "\n",
      "Exercise 17:\n",
      " [[16  4  8]\n",
      " [12 12  8]\n",
      " [12 12  4]]\n"
     ]
    }
   ],
   "source": [
    "# Exercise 17\n",
    "mat1 = np.random.randint(1, 5, (3, 3))\n",
    "mat2 = np.random.randint(1, 5, (3, 3))\n",
    "print(\"\\nExercise 17:\\n\", mat1 * mat2)\n"
   ]
  },
  {
   "cell_type": "markdown",
   "id": "58512446",
   "metadata": {},
   "source": [
    "\n",
    "---\n",
    "\n",
    "### Exercise 18:\n",
    "Create a diagonal matrix from a given 1D array.\n"
   ]
  },
  {
   "cell_type": "code",
   "execution_count": 73,
   "id": "bd7e9321",
   "metadata": {},
   "outputs": [
    {
     "name": "stdout",
     "output_type": "stream",
     "text": [
      "[[1 0 0 0]\n",
      " [0 2 0 0]\n",
      " [0 0 3 0]\n",
      " [0 0 0 4]]\n"
     ]
    }
   ],
   "source": [
    "# Exercise 18\n",
    "arr18 = np.diag([1, 2, 3, 4])\n",
    "print(\n",
    "    arr18)"
   ]
  },
  {
   "cell_type": "markdown",
   "id": "10be19e0",
   "metadata": {},
   "source": [
    "\n",
    "---\n",
    "\n",
    "### Exercise 19:\n",
    "Perform matrix multiplication on two 2D NumPy arrays.\n"
   ]
  },
  {
   "cell_type": "code",
   "execution_count": 77,
   "id": "c287973c",
   "metadata": {},
   "outputs": [
    {
     "name": "stdout",
     "output_type": "stream",
     "text": [
      "[[38 30 32]\n",
      " [36 28 32]\n",
      " [25 19 22]]\n"
     ]
    }
   ],
   "source": [
    "# Exercise 19\n",
    "print(np.dot(mat1, mat2))"
   ]
  },
  {
   "cell_type": "markdown",
   "id": "932aa100",
   "metadata": {},
   "source": [
    "\n",
    "---\n",
    "\n",
    "### Exercise 20:\n",
    "Flatten a 2D NumPy array into a 1D array.\n"
   ]
  },
  {
   "cell_type": "code",
   "execution_count": 79,
   "id": "0b2a7505",
   "metadata": {},
   "outputs": [
    {
     "name": "stdout",
     "output_type": "stream",
     "text": [
      "\n",
      "Exercise 20: [4 2 4 4 4 2 3 3 1]\n"
     ]
    }
   ],
   "source": [
    "# Exercise 20\n",
    "print(\"\\nExercise 20:\", mat1.flatten())\n"
   ]
  },
  {
   "cell_type": "markdown",
   "id": "43e4204e",
   "metadata": {},
   "source": [
    "\n",
    "---\n",
    "\n",
    "### Exercise 21:\n",
    "Stack two NumPy arrays vertically.\n"
   ]
  },
  {
   "cell_type": "code",
   "execution_count": 83,
   "id": "2fab6ed6",
   "metadata": {},
   "outputs": [
    {
     "name": "stdout",
     "output_type": "stream",
     "text": [
      "\n",
      "Exercise 21:\n",
      " [[4 2 4]\n",
      " [4 4 2]\n",
      " [3 3 1]\n",
      " [4 2 2]\n",
      " [3 3 4]\n",
      " [4 4 4]]\n"
     ]
    }
   ],
   "source": [
    "# Exercise 21\n",
    "print(\"\\nExercise 21:\\n\", np.vstack((mat1, mat2)))"
   ]
  },
  {
   "cell_type": "markdown",
   "id": "54a62aed",
   "metadata": {},
   "source": [
    "\n",
    "---\n",
    "\n",
    "### Exercise 22:\n",
    "Stack two NumPy arrays horizontally.\n"
   ]
  },
  {
   "cell_type": "code",
   "execution_count": 87,
   "id": "38c62fcb",
   "metadata": {},
   "outputs": [
    {
     "name": "stdout",
     "output_type": "stream",
     "text": [
      "[[4 2 4 4 2 2]\n",
      " [4 4 2 3 3 4]\n",
      " [3 3 1 4 4 4]]\n"
     ]
    }
   ],
   "source": [
    "# Exercise 22\n",
    "print(np.hstack((mat1, mat2)))"
   ]
  },
  {
   "cell_type": "markdown",
   "id": "348ee442",
   "metadata": {},
   "source": [
    "\n",
    "---\n",
    "\n",
    "### Exercise 23:\n",
    "Split a NumPy array into multiple sub-arrays.\n"
   ]
  },
  {
   "cell_type": "code",
   "execution_count": 89,
   "id": "bb591997",
   "metadata": {},
   "outputs": [
    {
     "name": "stdout",
     "output_type": "stream",
     "text": [
      "\n",
      "Exercise 23:\n",
      " [array([[0, 1, 2, 3]]), array([[4, 5, 6, 7]]), array([[ 8,  9, 10, 11]]), array([[12, 13, 14, 15]])]\n"
     ]
    }
   ],
   "source": [
    "# Exercise 23\n",
    "print(\"\\nExercise 23:\\n\", np.split(arr7, 4))"
   ]
  },
  {
   "cell_type": "markdown",
   "id": "b1f38f5f",
   "metadata": {},
   "source": [
    "\n",
    "---\n",
    "\n",
    "### Exercise 24:\n",
    "Generate a random NumPy array and round each element to two decimal places.\n"
   ]
  },
  {
   "cell_type": "code",
   "execution_count": 91,
   "id": "9627a34c",
   "metadata": {},
   "outputs": [
    {
     "name": "stdout",
     "output_type": "stream",
     "text": [
      "\n",
      "Exercise 24: [0.58 0.01 0.46 0.54 0.46]\n"
     ]
    }
   ],
   "source": [
    "# Exercise 24\n",
    "arr24 = np.random.random(5)\n",
    "print(\"\\nExercise 24:\", np.round(arr24, 2))"
   ]
  },
  {
   "cell_type": "markdown",
   "id": "33eff49a",
   "metadata": {},
   "source": [
    "\n",
    "---\n",
    "\n",
    "### Exercise 25:\n",
    "Find the unique elements of a NumPy array.\n"
   ]
  },
  {
   "cell_type": "code",
   "execution_count": 95,
   "id": "820d6014",
   "metadata": {},
   "outputs": [
    {
     "name": "stdout",
     "output_type": "stream",
     "text": [
      "[1 2 3 4]\n"
     ]
    }
   ],
   "source": [
    "# Exercise 25\n",
    "arr25 = np.array([1, 2, 2, 3, 4, 4, 4])\n",
    "print(np.unique(arr25))"
   ]
  },
  {
   "cell_type": "markdown",
   "id": "a82dfd26",
   "metadata": {},
   "source": [
    "\n",
    "---\n",
    "\n",
    "### Exercise 26:\n",
    "Replace all elements in a NumPy array that are less than a specific value with that value.\n"
   ]
  },
  {
   "cell_type": "code",
   "execution_count": 103,
   "id": "9317d8ff",
   "metadata": {},
   "outputs": [
    {
     "name": "stdout",
     "output_type": "stream",
     "text": [
      "[80 56 20 80 42 74 21 20 40 20]\n"
     ]
    }
   ],
   "source": [
    "# Exercise 26\n",
    "arrless= np.random.randint(0, 100, 10)\n",
    "print(np.clip(arrless, 20, 80))"
   ]
  },
  {
   "cell_type": "markdown",
   "id": "0b211e1c",
   "metadata": {},
   "source": [
    "\n",
    "---\n",
    "\n",
    "### Exercise 27:\n",
    "Find the cumulative sum of the elements in a NumPy array.\n"
   ]
  },
  {
   "cell_type": "code",
   "execution_count": 105,
   "id": "d03b7264",
   "metadata": {},
   "outputs": [
    {
     "name": "stdout",
     "output_type": "stream",
     "text": [
      "[ 81 137 141 236 278 352 373 383 423 432]\n"
     ]
    }
   ],
   "source": [
    "# Exercise 27\n",
    "print(np.cumsum(arrless))"
   ]
  },
  {
   "cell_type": "markdown",
   "id": "837642b7",
   "metadata": {},
   "source": [
    "\n",
    "---\n",
    "\n",
    "### Exercise 28:\n",
    "Create a NumPy array and find the number of non-zero elements in it.\n"
   ]
  },
  {
   "cell_type": "code",
   "execution_count": 111,
   "id": "fa2565c6",
   "metadata": {},
   "outputs": [
    {
     "name": "stdout",
     "output_type": "stream",
     "text": [
      "\n",
      " non zero 10\n"
     ]
    }
   ],
   "source": [
    "# Exercise 28\n",
    "print(\"\\n non zero\", np.count_nonzero(arrless))"
   ]
  },
  {
   "cell_type": "markdown",
   "id": "7d1f3704",
   "metadata": {},
   "source": [
    "\n",
    "---\n",
    "\n",
    "### Exercise 29:\n",
    "Create a NumPy array of random integers and sort it in ascending order.\n"
   ]
  },
  {
   "cell_type": "code",
   "execution_count": 113,
   "id": "dfa23a6e",
   "metadata": {},
   "outputs": [
    {
     "name": "stdout",
     "output_type": "stream",
     "text": [
      "[ 4  9 10 21 40 42 56 74 81 95]\n"
     ]
    }
   ],
   "source": [
    "# Exercise 29\n",
    "print(np.sort(arrless))"
   ]
  },
  {
   "cell_type": "markdown",
   "id": "295b7ea8",
   "metadata": {},
   "source": [
    "\n",
    "---\n",
    "\n",
    "### Exercise 30:\n",
    "Find the row-wise and column-wise sum of a 3x3 matrix.\n"
   ]
  },
  {
   "cell_type": "code",
   "execution_count": 115,
   "id": "963df701",
   "metadata": {},
   "outputs": [
    {
     "name": "stdout",
     "output_type": "stream",
     "text": [
      "\n",
      "Exercise 30:\n",
      "Row sums: [193 203 166 216 153 197]\n",
      "Column sums: [235 176 169 198 171 179]\n"
     ]
    }
   ],
   "source": [
    "# Exercise 30\n",
    "print(\"\\nExercise 30:\")\n",
    "print(\"Row sums:\", arr10.sum(axis=1))\n",
    "print(\"Column sums:\", arr10.sum(axis=0))"
   ]
  },
  {
   "cell_type": "markdown",
   "id": "158756fa",
   "metadata": {},
   "source": [
    "\n",
    "---\n",
    "\n",
    "### Exercise 31:\n",
    "Generate a 2D NumPy array with random values and normalize it (scale the values between 0 and 1).\n"
   ]
  },
  {
   "cell_type": "code",
   "execution_count": 119,
   "id": "32ba8b29",
   "metadata": {},
   "outputs": [
    {
     "name": "stdout",
     "output_type": "stream",
     "text": [
      "[[0.26757941 0.         0.53988097]\n",
      " [0.1999638  1.         0.4143454 ]\n",
      " [0.52477431 0.86089603 0.59318215]]\n"
     ]
    }
   ],
   "source": [
    "# Exercise 31\n",
    "arr31 = np.random.random((3, 3))\n",
    "normalized = (arr31 - arr31.min()) / (arr31.max() - arr31.min())\n",
    "print(normalized)\n"
   ]
  },
  {
   "cell_type": "markdown",
   "id": "d3eeceaa",
   "metadata": {},
   "source": [
    "\n",
    "---\n",
    "\n",
    "### Exercise 32:\n",
    "Create two NumPy arrays and find the dot product.\n"
   ]
  },
  {
   "cell_type": "code",
   "execution_count": 123,
   "id": "5722e16b",
   "metadata": {},
   "outputs": [
    {
     "name": "stdout",
     "output_type": "stream",
     "text": [
      "32\n"
     ]
    }
   ],
   "source": [
    "# Exercise 32\n",
    "vec1 = np.array([1, 2, 3])\n",
    "vec2 = np.array([4, 5, 6])\n",
    "print(np.dot(vec1, vec2))"
   ]
  },
  {
   "cell_type": "markdown",
   "id": "5b0c848f",
   "metadata": {},
   "source": [
    "\n",
    "---\n",
    "\n",
    "### Exercise 33:\n",
    "Find the trace of a square NumPy matrix.\n"
   ]
  },
  {
   "cell_type": "code",
   "execution_count": 125,
   "id": "6d6e90c2",
   "metadata": {},
   "outputs": [
    {
     "name": "stdout",
     "output_type": "stream",
     "text": [
      "203\n"
     ]
    }
   ],
   "source": [
    "# Exercise 33\n",
    "print(np.trace(arr10))"
   ]
  },
  {
   "cell_type": "markdown",
   "id": "74f1f77e",
   "metadata": {},
   "source": [
    "\n",
    "---\n",
    "\n",
    "### Exercise 34:\n",
    "Create a 2D array and swap two rows.\n"
   ]
  },
  {
   "cell_type": "code",
   "execution_count": 127,
   "id": "24621129",
   "metadata": {},
   "outputs": [
    {
     "data": {
      "text/plain": [
       "array([[34, 30, 22, 40, 33, 34],\n",
       "       [36, 15, 31, 42, 22, 20],\n",
       "       [49, 40, 30, 19, 48, 17],\n",
       "       [49, 32, 25, 37, 39, 34],\n",
       "       [49, 25, 15, 15, 18, 31],\n",
       "       [18, 34, 46, 45, 11, 43]])"
      ]
     },
     "execution_count": 127,
     "metadata": {},
     "output_type": "execute_result"
    }
   ],
   "source": [
    "# Exercise 34\n",
    "arr2D = arr10.copy()\n",
    "arr2D[[1, 2]] = arr2D[[2, 1]]\n",
    "arr2D"
   ]
  },
  {
   "cell_type": "markdown",
   "id": "7875d348",
   "metadata": {},
   "source": [
    "\n",
    "---\n",
    "\n",
    "### Exercise 35:\n",
    "Create a 1D NumPy array and convert it into a column vector.\n"
   ]
  },
  {
   "cell_type": "code",
   "execution_count": 129,
   "id": "0039acda",
   "metadata": {},
   "outputs": [
    {
     "name": "stdout",
     "output_type": "stream",
     "text": [
      "[[0]\n",
      " [1]\n",
      " [2]\n",
      " [3]\n",
      " [4]]\n"
     ]
    }
   ],
   "source": [
    "# Exercise 35\n",
    "arr35 = np.arange(5).reshape(-1, 1)\n",
    "print(arr35)"
   ]
  },
  {
   "cell_type": "markdown",
   "id": "234e605c",
   "metadata": {},
   "source": [
    "\n",
    "---\n",
    "\n",
    "### Exercise 36:\n",
    "Find the determinant of a 3x3 matrix.\n"
   ]
  },
  {
   "cell_type": "code",
   "execution_count": 133,
   "id": "9798d9c7",
   "metadata": {},
   "outputs": [
    {
     "name": "stdout",
     "output_type": "stream",
     "text": [
      "80.99999999999996\n"
     ]
    }
   ],
   "source": [
    "# Exercise 36\n",
    "mat36 = np.random.randint(1, 10, (3, 3))\n",
    "print(np.linalg.det(mat36))"
   ]
  },
  {
   "cell_type": "markdown",
   "id": "6656af00",
   "metadata": {},
   "source": [
    "\n",
    "---\n",
    "\n",
    "### Exercise 37:\n",
    "Find the eigenvalues and eigenvectors of a 2x2 matrix.\n"
   ]
  },
  {
   "cell_type": "code",
   "execution_count": 137,
   "id": "89d64421",
   "metadata": {},
   "outputs": [
    {
     "name": "stdout",
     "output_type": "stream",
     "text": [
      "Eigenvalues: [5. 2.]\n",
      "Eigenvectors:\n",
      " [[ 0.89442719 -0.70710678]\n",
      " [ 0.4472136   0.70710678]]\n"
     ]
    }
   ],
   "source": [
    "# Exercise 37\n",
    "mat37 = np.array([[4, 2], [1, 3]])\n",
    "eigenvalues, eigenvectors = np.linalg.eig(mat37)\n",
    "print(\"Eigenvalues:\", eigenvalues)\n",
    "print(\"Eigenvectors:\\n\", eigenvectors)"
   ]
  },
  {
   "cell_type": "markdown",
   "id": "7dc92bbb",
   "metadata": {},
   "source": [
    "\n",
    "---\n",
    "\n",
    "### Exercise 38:\n",
    "Solve a system of linear equations using NumPy.\n"
   ]
  },
  {
   "cell_type": "code",
   "execution_count": 141,
   "id": "9aad2d7e",
   "metadata": {},
   "outputs": [
    {
     "name": "stdout",
     "output_type": "stream",
     "text": [
      "[2. 3.]\n"
     ]
    }
   ],
   "source": [
    "# Exercise 38\n",
    "A = np.array([[3, 1], [1, 2]])\n",
    "b = np.array([9, 8])\n",
    "print(np.linalg.solve(A, b))"
   ]
  },
  {
   "cell_type": "markdown",
   "id": "4f146ae7",
   "metadata": {},
   "source": [
    "\n",
    "---\n",
    "\n",
    "### Exercise 39:\n",
    "Add Gaussian noise to a NumPy array.\n"
   ]
  },
  {
   "cell_type": "code",
   "execution_count": 145,
   "id": "1162c82d",
   "metadata": {},
   "outputs": [
    {
     "name": "stdout",
     "output_type": "stream",
     "text": [
      "[4.78942086 6.11568671 5.04289689 6.01743529 5.8693113  5.45438417\n",
      " 4.71881842 3.24689212 3.96900588 4.62040726]\n"
     ]
    }
   ],
   "source": [
    "# Exercise 39\n",
    "arr39 = np.zeros(10) + 5\n",
    "noise = np.random.normal(0, 1, 10)\n",
    "print(arr39 + noise)"
   ]
  },
  {
   "cell_type": "markdown",
   "id": "24f6d12f",
   "metadata": {},
   "source": [
    "\n",
    "---\n",
    "\n",
    "### Exercise 40:\n",
    "Create a 4x4 matrix and extract the diagonal elements.\n"
   ]
  },
  {
   "cell_type": "code",
   "execution_count": 147,
   "id": "228d823c",
   "metadata": {},
   "outputs": [
    {
     "name": "stdout",
     "output_type": "stream",
     "text": [
      "[34 40 31 37 18 43]\n"
     ]
    }
   ],
   "source": [
    "# Exercise 40\n",
    "print(np.diag(arr10))"
   ]
  },
  {
   "cell_type": "markdown",
   "id": "6fe4e0e1",
   "metadata": {},
   "source": [
    "\n",
    "---\n",
    "\n",
    "### Exercise 41:\n",
    "Generate a NumPy array of 100 random values and clip the values to a range between 10 and 50.\n"
   ]
  },
  {
   "cell_type": "code",
   "execution_count": 151,
   "id": "250c818c",
   "metadata": {},
   "outputs": [
    {
     "name": "stdout",
     "output_type": "stream",
     "text": [
      "[50 50 14 36 50 50 10 10 50 50 50 50 50 15 50 20 50 50 15 50 50 50 50 40\n",
      " 10 10 28 50 50 28 10 10 29 10 30 50 16 10 35 22 35 12 21 50 50 39 50 50\n",
      " 50 11 10 50 42 50 50 23 50 10 50 50 10 13 33 50 50 12 50 50 28 50 40 50\n",
      " 50 33 36 50 50 10 50 35 27 50 32 50 11 50 50 50 50 44 50 50 50 50 20 50\n",
      " 50 50 40 15]\n"
     ]
    }
   ],
   "source": [
    "# Exercise 41\n",
    "arrclip = np.random.randint(0, 100, 100)\n",
    "print(np.clip(arrclip, 10, 50))"
   ]
  },
  {
   "cell_type": "markdown",
   "id": "0aa4963a",
   "metadata": {},
   "source": [
    "\n",
    "---\n",
    "\n",
    "### Exercise 42:\n",
    "Create a 2D NumPy array and replace all negative values with zero.\n"
   ]
  },
  {
   "cell_type": "code",
   "execution_count": null,
   "id": "c33cf5e2",
   "metadata": {},
   "outputs": [],
   "source": [
    "# Exercise 42"
   ]
  },
  {
   "cell_type": "markdown",
   "id": "9902ee70",
   "metadata": {},
   "source": [
    "\n",
    "---\n",
    "\n",
    "### Exercise 43:\n",
    "Find the inner and outer products of two NumPy arrays.\n"
   ]
  },
  {
   "cell_type": "code",
   "execution_count": null,
   "id": "36f488c8",
   "metadata": {},
   "outputs": [],
   "source": [
    "# Exercise 43"
   ]
  },
  {
   "cell_type": "markdown",
   "id": "7dce9fa3",
   "metadata": {},
   "source": [
    "\n",
    "---\n",
    "\n",
    "### Exercise 44:\n",
    "Calculate the pairwise distances between points in a NumPy array.\n"
   ]
  },
  {
   "cell_type": "code",
   "execution_count": null,
   "id": "94067655",
   "metadata": {},
   "outputs": [],
   "source": [
    "# Exercise 44"
   ]
  },
  {
   "cell_type": "markdown",
   "id": "d4b272d3",
   "metadata": {},
   "source": [
    "\n",
    "---\n",
    "\n",
    "### Exercise 45:\n",
    "Create a structured NumPy array with fields for `name`, `age`, and `height`.\n"
   ]
  },
  {
   "cell_type": "code",
   "execution_count": null,
   "id": "9b18e4f0",
   "metadata": {},
   "outputs": [],
   "source": [
    "# Exercise 45"
   ]
  },
  {
   "cell_type": "markdown",
   "id": "577f3e80",
   "metadata": {},
   "source": [
    "\n",
    "---\n",
    "\n",
    "### Exercise 46:\n",
    "Create a 5x5 matrix of random integers and count the occurrences of each unique value.\n"
   ]
  },
  {
   "cell_type": "code",
   "execution_count": null,
   "id": "639b01fd",
   "metadata": {},
   "outputs": [],
   "source": [
    "# Exercise 46"
   ]
  },
  {
   "cell_type": "markdown",
   "id": "e716555f",
   "metadata": {},
   "source": [
    "\n",
    "---\n",
    "\n",
    "### Exercise 47:\n",
    "Generate a random 3x3 NumPy array and subtract the mean of each row from the corresponding row.\n"
   ]
  },
  {
   "cell_type": "code",
   "execution_count": null,
   "id": "03747d27",
   "metadata": {},
   "outputs": [],
   "source": [
    "# Exercise 47"
   ]
  },
  {
   "cell_type": "markdown",
   "id": "89148fb1",
   "metadata": {},
   "source": [
    "\n",
    "---\n",
    "\n",
    "### Exercise 48:\n",
    "Create a NumPy array of random integers and check if any of the values are greater than 50.\n"
   ]
  },
  {
   "cell_type": "code",
   "execution_count": null,
   "id": "d329ca63",
   "metadata": {},
   "outputs": [],
   "source": [
    "# Exercise 48"
   ]
  },
  {
   "cell_type": "markdown",
   "id": "806622f5",
   "metadata": {},
   "source": [
    "\n",
    "---\n",
    "\n",
    "### Exercise 49:\n",
    "Calculate the moving average of a 1D NumPy array.\n"
   ]
  },
  {
   "cell_type": "code",
   "execution_count": null,
   "id": "866232ff",
   "metadata": {},
   "outputs": [],
   "source": [
    "# Exercise 49"
   ]
  },
  {
   "cell_type": "markdown",
   "id": "9313446b",
   "metadata": {},
   "source": [
    "\n",
    "---\n",
    "\n",
    "### Exercise 50:\n",
    "Find the Pearson correlation coefficient between two NumPy arrays.\n"
   ]
  },
  {
   "cell_type": "code",
   "execution_count": null,
   "id": "09c184ab",
   "metadata": {},
   "outputs": [],
   "source": [
    "# Exercise 50"
   ]
  },
  {
   "cell_type": "markdown",
   "id": "8ee11395",
   "metadata": {},
   "source": [
    "\n",
    "---\n",
    "\n",
    "### Exercise 51:\n",
    "Convert a NumPy array of radians to degrees.\n"
   ]
  },
  {
   "cell_type": "code",
   "execution_count": null,
   "id": "34ac5b8c",
   "metadata": {},
   "outputs": [],
   "source": [
    "# Exercise 51"
   ]
  },
  {
   "cell_type": "markdown",
   "id": "f4fd9563",
   "metadata": {},
   "source": [
    "\n",
    "---\n",
    "\n",
    "### Exercise 52:\n",
    "Create a random NumPy array and compute its variance and standard deviation.\n"
   ]
  },
  {
   "cell_type": "code",
   "execution_count": null,
   "id": "0559791a",
   "metadata": {},
   "outputs": [],
   "source": [
    "# Exercise 52"
   ]
  },
  {
   "cell_type": "markdown",
   "id": "b5bed93d",
   "metadata": {},
   "source": [
    "\n",
    "---\n",
    "\n",
    "### Exercise 53:\n",
    "Create a 2D NumPy array and find the indices of the maximum values along each axis.\n"
   ]
  },
  {
   "cell_type": "code",
   "execution_count": null,
   "id": "37168529",
   "metadata": {},
   "outputs": [],
   "source": [
    "# Exercise 53"
   ]
  },
  {
   "cell_type": "markdown",
   "id": "fd672293",
   "metadata": {},
   "source": [
    "\n",
    "---\n",
    "\n",
    "### Exercise 54:\n",
    "Compute the inverse of a 2x2 NumPy matrix.\n"
   ]
  },
  {
   "cell_type": "code",
   "execution_count": null,
   "id": "d9eebfee",
   "metadata": {},
   "outputs": [],
   "source": [
    "# Exercise 54"
   ]
  },
  {
   "cell_type": "markdown",
   "id": "d635d87b",
   "metadata": {},
   "source": [
    "\n",
    "---\n",
    "\n",
    "### Exercise 55:\n",
    "Create a NumPy array of 10 random values and standardize it (mean 0, variance 1).\n"
   ]
  },
  {
   "cell_type": "code",
   "execution_count": null,
   "id": "dc8ffa7d",
   "metadata": {},
   "outputs": [],
   "source": [
    "# Exercise 55"
   ]
  },
  {
   "cell_type": "markdown",
   "id": "6db1e281",
   "metadata": {},
   "source": [
    "\n",
    "---\n",
    "\n",
    "### Exercise 56:\n",
    "Perform element-wise addition and subtraction on two NumPy arrays.\n"
   ]
  },
  {
   "cell_type": "code",
   "execution_count": null,
   "id": "e8d4d852",
   "metadata": {},
   "outputs": [],
   "source": [
    "# Exercise 56"
   ]
  },
  {
   "cell_type": "markdown",
   "id": "843ba956",
   "metadata": {},
   "source": [
    "\n",
    "---\n",
    "\n",
    "### Exercise 57:\n",
    "Create a NumPy array of random values and find the maximum element's index.\n"
   ]
  },
  {
   "cell_type": "code",
   "execution_count": null,
   "id": "e4cbc318",
   "metadata": {},
   "outputs": [],
   "source": [
    "# Exercise 57"
   ]
  },
  {
   "cell_type": "markdown",
   "id": "e8356250",
   "metadata": {},
   "source": [
    "\n",
    "---\n",
    "\n",
    "### Exercise 58:\n",
    "Create a 3x3 NumPy array and rotate it by 90 degrees.\n"
   ]
  },
  {
   "cell_type": "code",
   "execution_count": null,
   "id": "f80c6616",
   "metadata": {},
   "outputs": [],
   "source": [
    "# Exercise 58"
   ]
  },
  {
   "cell_type": "markdown",
   "id": "5bdbf96d",
   "metadata": {},
   "source": [
    "\n",
    "---\n",
    "\n",
    "### Exercise 59:\n",
    "Compute the Frobenius norm of a matrix.\n"
   ]
  },
  {
   "cell_type": "code",
   "execution_count": null,
   "id": "bb81b41a",
   "metadata": {},
   "outputs": [],
   "source": [
    "# Exercise 59"
   ]
  },
  {
   "cell_type": "markdown",
   "id": "9388b0db",
   "metadata": {},
   "source": [
    "\n",
    "---\n",
    "\n",
    "### Exercise 60:\n",
    "Create a 3D NumPy array and slice out a subarray.\n"
   ]
  },
  {
   "cell_type": "code",
   "execution_count": null,
   "id": "f051d3a2",
   "metadata": {},
   "outputs": [],
   "source": [
    "# Exercise 60"
   ]
  },
  {
   "cell_type": "markdown",
   "id": "9cb79001",
   "metadata": {},
   "source": [
    "\n",
    "---"
   ]
  }
 ],
 "metadata": {
  "kernelspec": {
   "display_name": "Python 3 (ipykernel)",
   "language": "python",
   "name": "python3"
  },
  "language_info": {
   "codemirror_mode": {
    "name": "ipython",
    "version": 3
   },
   "file_extension": ".py",
   "mimetype": "text/x-python",
   "name": "python",
   "nbconvert_exporter": "python",
   "pygments_lexer": "ipython3",
   "version": "3.12.7"
  }
 },
 "nbformat": 4,
 "nbformat_minor": 5
}
