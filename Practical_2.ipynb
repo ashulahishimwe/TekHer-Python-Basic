{
 "cells": [
  {
   "cell_type": "markdown",
   "id": "d68c1dee",
   "metadata": {},
   "source": [
    "# Practical_2: String and files"
   ]
  },
  {
   "cell_type": "markdown",
   "id": "64c24aef-dc3e-473f-9a45-ae9af8f5422d",
   "metadata": {},
   "source": [
    "## Exercise 1"
   ]
  },
  {
   "cell_type": "code",
   "execution_count": 2,
   "id": "f8ee7f95-7414-4bbd-b44a-b2af1fac0cbd",
   "metadata": {},
   "outputs": [
    {
     "name": "stdout",
     "output_type": "stream",
     "text": [
      "Python is amazing!\n"
     ]
    }
   ],
   "source": [
    "text= \"Python is amazing!\"\n",
    "print(text)"
   ]
  },
  {
   "cell_type": "markdown",
   "id": "4ad26735-141a-42a4-9433-fc49691ca741",
   "metadata": {},
   "source": [
    "## Exercise 2"
   ]
  },
  {
   "cell_type": "code",
   "execution_count": 4,
   "id": "ccfbffea-1a62-4b0e-80e3-dc7749beca13",
   "metadata": {},
   "outputs": [
    {
     "name": "stdout",
     "output_type": "stream",
     "text": [
      "13\n"
     ]
    }
   ],
   "source": [
    "length = len(\"Hello, World!\") \n",
    "print(length)"
   ]
  },
  {
   "cell_type": "markdown",
   "id": "6c2beaf8-62bd-4e29-b77f-dea9a9fbaad3",
   "metadata": {},
   "source": [
    "### Exercise 3"
   ]
  },
  {
   "cell_type": "code",
   "execution_count": 8,
   "id": "86606668-bd1d-4c61-9762-ca9e3dd3a1f1",
   "metadata": {},
   "outputs": [
    {
     "name": "stdout",
     "output_type": "stream",
     "text": [
      "PYTHON PROGRAMMING\n"
     ]
    }
   ],
   "source": [
    "upper_text = \"python programming\".upper()\n",
    "print(upper_text)"
   ]
  },
  {
   "cell_type": "markdown",
   "id": "5c080af2-b306-42f2-8322-c3157a1a3670",
   "metadata": {},
   "source": [
    "## Exercise 4"
   ]
  },
  {
   "cell_type": "code",
   "execution_count": 10,
   "id": "4477ba5e-ae76-4aec-836d-9601cf6fe642",
   "metadata": {},
   "outputs": [
    {
     "name": "stdout",
     "output_type": "stream",
     "text": [
      "Artif\n"
     ]
    }
   ],
   "source": [
    "first_five = \"Artificial Intelligence\"[:5]\n",
    "print(first_five)"
   ]
  },
  {
   "cell_type": "markdown",
   "id": "df43b55b-38e5-4079-9a2d-2da896f9800e",
   "metadata": {},
   "source": [
    "## Exercise 5"
   ]
  },
  {
   "cell_type": "code",
   "execution_count": 15,
   "id": "bb617201-01b5-4356-a560-451c54dec20f",
   "metadata": {},
   "outputs": [
    {
     "name": "stdout",
     "output_type": "stream",
     "text": [
      "Hello World\n"
     ]
    }
   ],
   "source": [
    "combined = \"Hello\" + \" \" + \"World\"\n",
    "print(combined)"
   ]
  },
  {
   "cell_type": "markdown",
   "id": "6b324151-a9ab-46b1-9781-37a979fa6ca2",
   "metadata": {},
   "source": [
    "## Exercise 6"
   ]
  },
  {
   "cell_type": "code",
   "execution_count": 17,
   "id": "c69fcac1-38ab-4c36-a589-82518bf7f1e3",
   "metadata": {},
   "outputs": [
    {
     "name": "stdout",
     "output_type": "stream",
     "text": [
      "The quick brown dog jumps over the lazy dog.\n",
      "The quick brown cat jumps over the lazy cat.\n"
     ]
    }
   ],
   "source": [
    "sentence = \"The quick brown dog jumps over the lazy dog.\"\n",
    "replaced = sentence.replace(\"dog\", \"cat\")\n",
    "print(sentence)\n",
    "print(replaced)"
   ]
  },
  {
   "cell_type": "markdown",
   "id": "fe00f609-9ae7-4714-a0d7-883d0667a977",
   "metadata": {},
   "source": [
    "## Exercise 7"
   ]
  },
  {
   "cell_type": "code",
   "execution_count": 19,
   "id": "4287b63a-00ab-4995-9cd1-84da0177125b",
   "metadata": {},
   "outputs": [
    {
     "name": "stdout",
     "output_type": "stream",
     "text": [
      "['apple', 'banana', 'orange']\n"
     ]
    }
   ],
   "source": [
    "fruits_list = \"apple,banana,orange\".split(',')\n",
    "print(fruits_list)"
   ]
  },
  {
   "cell_type": "markdown",
   "id": "13c69751-2bdf-4eb3-8046-af29b1873e10",
   "metadata": {},
   "source": [
    "## Exercise 8"
   ]
  },
  {
   "cell_type": "code",
   "execution_count": 23,
   "id": "f17937d4-60bd-4168-98aa-8d3dea3c4ff7",
   "metadata": {},
   "outputs": [
    {
     "name": "stdout",
     "output_type": "stream",
     "text": [
      "Alice 25\n",
      "My name is Alice and I am 25 years old.\n"
     ]
    }
   ],
   "source": [
    "name, age = \"Alice\", 25\n",
    "formatted = f\"My name is {name} and I am {age} years old.\"\n",
    "print(name,age)\n",
    "print(formatted)"
   ]
  },
  {
   "cell_type": "markdown",
   "id": "3865bb86-b885-4775-ac4b-01b96d4e084c",
   "metadata": {},
   "source": [
    "## Exercise 9"
   ]
  },
  {
   "cell_type": "code",
   "execution_count": 25,
   "id": "0c216b1a-94af-4ac2-8550-646e2378ef9c",
   "metadata": {},
   "outputs": [
    {
     "name": "stdout",
     "output_type": "stream",
     "text": [
      "True\n"
     ]
    }
   ],
   "source": [
    "contains = \"python\" in \"I love python programming\"\n",
    "print(contains)"
   ]
  },
  {
   "cell_type": "markdown",
   "id": "97264ca2-edf2-4469-9e0c-3097ba1820e3",
   "metadata": {},
   "source": [
    "### Exercise 10"
   ]
  },
  {
   "cell_type": "code",
   "execution_count": 29,
   "id": "f6dfeb05-3049-49dd-ad1e-5babc028ac53",
   "metadata": {},
   "outputs": [
    {
     "data": {
      "text/plain": [
       "4"
      ]
     },
     "execution_count": 29,
     "metadata": {},
     "output_type": "execute_result"
    }
   ],
   "source": [
    "count = \"Elephant is an elegant animal\".lower().count('e')\n",
    "count"
   ]
  },
  {
   "cell_type": "markdown",
   "id": "6049f072-eec7-46a4-b41b-0a9e4b85acbb",
   "metadata": {},
   "source": [
    "### Exercise 11"
   ]
  },
  {
   "cell_type": "code",
   "execution_count": 32,
   "id": "98ddcc1d-d779-433d-8e13-847a223df0c2",
   "metadata": {},
   "outputs": [
    {
     "name": "stdout",
     "output_type": "stream",
     "text": [
      "Data Science\n"
     ]
    }
   ],
   "source": [
    "trimmed = \"   Data Science   \".strip()\n",
    "print(trimmed)"
   ]
  },
  {
   "cell_type": "markdown",
   "id": "2829c9a9-9256-470e-92f0-81a3d1a8e584",
   "metadata": {},
   "source": [
    "### Exercise 12"
   ]
  },
  {
   "cell_type": "code",
   "execution_count": 35,
   "id": "9adb1e68-6cb1-495d-b4fc-7a209f074dae",
   "metadata": {},
   "outputs": [
    {
     "name": "stdout",
     "output_type": "stream",
     "text": [
      "100\n"
     ]
    }
   ],
   "source": [
    "int_value = int(\"100\")\n",
    "print(int_value)"
   ]
  },
  {
   "cell_type": "markdown",
   "id": "964a93a3-b165-4bfb-bd20-ffd7d76fd858",
   "metadata": {},
   "source": [
    "## Exercise 13"
   ]
  },
  {
   "cell_type": "code",
   "execution_count": 37,
   "id": "8dca06a9-c7e9-4a85-9866-55939532022f",
   "metadata": {},
   "outputs": [
    {
     "name": "stdout",
     "output_type": "stream",
     "text": [
      "pro\n"
     ]
    }
   ],
   "source": [
    "substring = \"programming\"[0:3]\n",
    "print(substring)"
   ]
  },
  {
   "cell_type": "markdown",
   "id": "6baf6867-87c4-45a9-a58d-410650645daa",
   "metadata": {},
   "source": [
    "## Exercise 14"
   ]
  },
  {
   "cell_type": "code",
   "execution_count": 39,
   "id": "f9741525-2b50-4394-91bd-3a83f02ef3fd",
   "metadata": {},
   "outputs": [
    {
     "name": "stdout",
     "output_type": "stream",
     "text": [
      "True\n"
     ]
    }
   ],
   "source": [
    "check = \"data\".startswith(\"da\") and \"data\".endswith(\"ta\")\n",
    "print(check)"
   ]
  },
  {
   "cell_type": "markdown",
   "id": "67620152-a234-4ebd-a86d-7d2ea32fa819",
   "metadata": {},
   "source": [
    "## Exercise 15"
   ]
  },
  {
   "cell_type": "code",
   "execution_count": 48,
   "id": "726cc90b-2e43-439b-a861-d6ec631c79e7",
   "metadata": {},
   "outputs": [
    {
     "name": "stdout",
     "output_type": "stream",
     "text": [
      "gninrael enihcam\n"
     ]
    }
   ],
   "source": [
    "reversed_text = \"machine learning\"[::-1]\n",
    "print(reversed_text)"
   ]
  },
  {
   "cell_type": "markdown",
   "id": "de1826cf-1ac3-4f90-a668-29dae9fa454b",
   "metadata": {},
   "source": [
    "### Exercise 16\n"
   ]
  },
  {
   "cell_type": "code",
   "execution_count": 51,
   "id": "2df6973e-7a40-4cea-93c8-81ba5e92b446",
   "metadata": {},
   "outputs": [
    {
     "name": "stdout",
     "output_type": "stream",
     "text": [
      "Machine Learning Is Fun\n"
     ]
    }
   ],
   "source": [
    "title_case = \"machine learning is fun\".title()\n",
    "print (title_case)"
   ]
  },
  {
   "cell_type": "markdown",
   "id": "63a92e70-9f41-4c8c-aa59-d86a7cb68589",
   "metadata": {},
   "source": [
    "## Exercise 17"
   ]
  },
  {
   "cell_type": "code",
   "execution_count": 45,
   "id": "14697e56-92b8-4d85-b350-243fa69dce13",
   "metadata": {},
   "outputs": [
    {
     "name": "stdout",
     "output_type": "stream",
     "text": [
      "Roses are red,\n",
      "Violets are blue,\n",
      "Python is awesome,\n",
      "And so are you!\n"
     ]
    }
   ],
   "source": [
    "poem = \"\"\"Roses are red,\n",
    "Violets are blue,\n",
    "Python is awesome,\n",
    "And so are you!\"\"\"\n",
    "print(poem)"
   ]
  },
  {
   "cell_type": "markdown",
   "id": "a365f67e-5d4e-4c0d-a1f9-cd6f49df9fd8",
   "metadata": {},
   "source": [
    "## About Operations"
   ]
  },
  {
   "cell_type": "markdown",
   "id": "985d5bbe-886b-4c00-8efe-d947667a91d7",
   "metadata": {},
   "source": [
    "### Exercise 18"
   ]
  },
  {
   "cell_type": "code",
   "execution_count": 60,
   "id": "24691ecd-4dfb-4ca2-ab6e-d02c2ac44bfb",
   "metadata": {},
   "outputs": [],
   "source": [
    "with open(\"output.txt\", \"w\") as f:\n",
    " f.write(\"This is some text in my file.\")"
   ]
  },
  {
   "cell_type": "markdown",
   "id": "d7411465-7c07-47ae-987f-287b8b2ab1e9",
   "metadata": {},
   "source": [
    "### exercise 19"
   ]
  },
  {
   "cell_type": "code",
   "execution_count": 70,
   "id": "cb7f9f68-f08d-41ae-a6b3-9c8f9b797a6e",
   "metadata": {},
   "outputs": [
    {
     "name": "stdout",
     "output_type": "stream",
     "text": [
      "Name,Age,Score\n",
      "Alice,23,85\n",
      "Bob,30,90\n",
      "Charlie,25,88\n"
     ]
    }
   ],
   "source": [
    "data = \"\"\"Name,Age,Score\n",
    "Alice,23,85\n",
    "Bob,30,90\n",
    "Charlie,25,88\"\"\"\n",
    "\n",
    "with open(\"data.txt\", \"w\") as f:\n",
    "    f.write(data)\n",
    "\n",
    "# Then read and print the file line by line\n",
    "with open(\"data.txt\") as f:\n",
    "    for line in f:\n",
    "        print(line.strip())\n"
   ]
  },
  {
   "cell_type": "markdown",
   "id": "a1fa6fd2-ab40-448e-9d8d-c74b3fdedaff",
   "metadata": {},
   "source": [
    "## Exercise 20"
   ]
  },
  {
   "cell_type": "code",
   "execution_count": 80,
   "id": "3df4bc5c-620a-45fc-97af-a6cefbd3a9d1",
   "metadata": {},
   "outputs": [],
   "source": [
    "import os\n",
    "\n",
    "with open(\"example.txt\", \"a\") as f:  # 'a' mode for append\n",
    "    f.write(\"This is an example text file used for demonstration.\\n\")\n"
   ]
  },
  {
   "cell_type": "markdown",
   "id": "d60d9988-0f57-4801-bc20-9f0d682faaaa",
   "metadata": {},
   "source": [
    "### Exercise21"
   ]
  },
  {
   "cell_type": "code",
   "execution_count": 82,
   "id": "ec8461e1-576c-41c4-bebe-8c9d824208f8",
   "metadata": {},
   "outputs": [],
   "source": [
    "with open(\"notes.txt\", \"a\") as f:\n",
    "    f.write(\"\\nThis is a new line\")\n"
   ]
  },
  {
   "cell_type": "markdown",
   "id": "349438a3-0e92-4b7f-be76-ef0967e64b99",
   "metadata": {},
   "source": [
    "## Exercise 22"
   ]
  },
  {
   "cell_type": "code",
   "execution_count": 91,
   "id": "ed6bc493-e2cb-4687-9a3e-b9b0a9b03f25",
   "metadata": {},
   "outputs": [],
   "source": [
    "new_entries = [\n",
    "    \"2024-05-20 10:00:00 INFO Program started\",\n",
    "    \"2024-05-20 10:05:00 ERROR Invalid input\"\n",
    "]\n",
    "\n",
    "with open(\"log.txt\", \"a\") as f:  # 'a' mode appends to existing file\n",
    "    for entry in new_entries:\n",
    "        f.write(entry + \"\\n\")"
   ]
  },
  {
   "cell_type": "markdown",
   "id": "7348ad19-7d22-4be5-9431-bb4c756220ba",
   "metadata": {},
   "source": [
    "### Exercise 23"
   ]
  },
  {
   "cell_type": "code",
   "execution_count": 106,
   "id": "0b4d5461-4f1e-41e4-b33f-4c645bfcde0b",
   "metadata": {},
   "outputs": [],
   "source": [
    "report_data = \"\"\"Report Title: Data Analysis Summary\n",
    "Date: 2024-05-20\"\"\"\n",
    "\n",
    "# Write to the file (will create new file or overwrite existing one)\n",
    "with open(\"report.txt\", \"w\") as f:\n",
    "    f.write(\"report_data analysis\")\n"
   ]
  },
  {
   "cell_type": "markdown",
   "id": "2c30cdd2-a2c6-4be4-956b-0815ccb9e693",
   "metadata": {},
   "source": [
    "### Exercise 24"
   ]
  },
  {
   "cell_type": "code",
   "execution_count": 96,
   "id": "acea9f5d-6225-4290-960d-3bb6ac549b62",
   "metadata": {},
   "outputs": [],
   "source": [
    "with open(\"log.txt\") as f:\n",
    "    content = f.read()\n",
    "with open(\"log.txt\", \"w\") as f:\n",
    "    f.write(content.replace(\"error\", \"issue\"))"
   ]
  },
  {
   "cell_type": "markdown",
   "id": "7431736f-229e-4fa7-825f-62436f112c9b",
   "metadata": {},
   "source": [
    "### Exercise 25"
   ]
  },
  {
   "cell_type": "code",
   "execution_count": 112,
   "id": "26950149-a9d7-4b78-ba18-92136f83b15d",
   "metadata": {},
   "outputs": [
    {
     "name": "stdout",
     "output_type": "stream",
     "text": [
      "The document contains 12 words.\n"
     ]
    }
   ],
   "source": [
    "text = \"\"\"This document contains notes on data science.\n",
    "It is intended for beginners.\"\"\"\n",
    "\n",
    "# Write the text to document.txt\n",
    "with open(\"document.txt\", \"w\") as f:\n",
    "    f.write(text)\n",
    "\n",
    "# Count the words in the file\n",
    "with open(\"document.txt\") as f:\n",
    "    word_count = len(f.read().split())\n",
    "\n",
    "print(f\"The document contains {word_count} words.\")  "
   ]
  },
  {
   "cell_type": "markdown",
   "id": "cae718b2-cd4f-416b-a12d-35eb97317034",
   "metadata": {},
   "source": [
    "## Exercise 26 "
   ]
  },
  {
   "cell_type": "code",
   "execution_count": 119,
   "id": "f2141bfd-fbc7-4b7c-b40f-3bbb384e81ee",
   "metadata": {},
   "outputs": [
    {
     "name": "stdout",
     "output_type": "stream",
     "text": [
      "Lines: 1, Words: 10, Chars: 64\n"
     ]
    }
   ],
   "source": [
    "# First create the file with content\n",
    "with open(\"essay.txt\", \"w\") as f:\n",
    "    f.write(\"The impact of technology on society is profound and far-reaching\")\n",
    "\n",
    "# Then analyze it\n",
    "with open(\"essay.txt\") as f:\n",
    "    lines = f.readlines()\n",
    "    line_count = len(lines)\n",
    "    word_count = sum(len(line.split()) for line in lines)\n",
    "    char_count = sum(len(line) for line in lines)\n",
    "    print(f\"Lines: {line_count}, Words: {word_count}, Chars: {char_count}\")"
   ]
  },
  {
   "cell_type": "markdown",
   "id": "783cc789-bb5e-48e2-a2b9-6afbfaab9ea1",
   "metadata": {},
   "source": [
    "## Exercise 27"
   ]
  },
  {
   "cell_type": "code",
   "execution_count": 129,
   "id": "5b57eddf-cb69-4eb7-8bb0-676897c8aa4b",
   "metadata": {},
   "outputs": [
    {
     "name": "stdout",
     "output_type": "stream",
     "text": [
      "Destination file contains: The quick brown fox jumps over the lazy dog.\n"
     ]
    }
   ],
   "source": [
    "with open(\"source.txt\", \"w\") as f:\n",
    "    f.write(\"The quick brown fox jumps over the lazy dog.\")\n",
    "\n",
    "# Now copy from source.txt to destination.txt\n",
    "with open(\"source.txt\") as src, open(\"destination.txt\", \"w\") as dest:\n",
    "    dest.write(src.read())\n",
    "\n",
    "# Verify both files contain the same text\n",
    "with open(\"destination.txt\") as f:\n",
    "    print(\"Destination file contains:\", f.read())\n",
    "\n"
   ]
  },
  {
   "cell_type": "markdown",
   "id": "44549212-d144-4e35-bd9b-b52748290dd3",
   "metadata": {},
   "source": [
    "## Exercise 28"
   ]
  },
  {
   "cell_type": "code",
   "execution_count": 125,
   "id": "fa3763c4-da93-4ac0-ac8d-cbbf6b5770cb",
   "metadata": {},
   "outputs": [],
   "source": [
    "def count_lines(filename):\n",
    "    with open(filename) as f:\n",
    "        return len(f.readlines())"
   ]
  },
  {
   "cell_type": "markdown",
   "id": "9c1f303d-7768-4396-95af-725ec66e2de3",
   "metadata": {},
   "source": [
    "## Exercise 29"
   ]
  },
  {
   "cell_type": "code",
   "execution_count": 131,
   "id": "c4e8c9d2-fb35-4378-a768-f598da66cc99",
   "metadata": {},
   "outputs": [
    {
     "name": "stdout",
     "output_type": "stream",
     "text": [
      "Words longer than 5 characters: ['sample', 'article', 'applications.', 'multiple', 'lines.']\n"
     ]
    }
   ],
   "source": [
    "\n",
    "content = \"\"\"This is a sample article about AI and its applications.\n",
    "It spans multiple lines.\"\"\"\n",
    "\n",
    "with open(\"article.txt\", \"w\") as f:\n",
    "    f.write(content)\n",
    "\n",
    "with open(\"article.txt\") as f:\n",
    "    long_words = [word for word in f.read().split() if len(word) > 5]\n",
    "\n",
    "print(\"Words longer than 5 characters:\", long_words)"
   ]
  },
  {
   "cell_type": "markdown",
   "id": "bdc11a62-a506-4990-9b0e-0f2aa6230d21",
   "metadata": {},
   "source": [
    "### Exercise 30"
   ]
  },
  {
   "cell_type": "code",
   "execution_count": 133,
   "id": "7488a7db-5546-4107-9e6d-61c8d36fcf06",
   "metadata": {},
   "outputs": [],
   "source": [
    "with open(\"notes.txt\") as f:\n",
    "    content = f.read().upper()\n",
    "with open(\"uppercase_notes.txt\", \"w\") as f:\n",
    "    f.write(content)\n"
   ]
  },
  {
   "cell_type": "markdown",
   "id": "e78f9790-3728-4271-8d16-57116291e56a",
   "metadata": {},
   "source": [
    "## Exercise 31"
   ]
  },
  {
   "cell_type": "code",
   "execution_count": 347,
   "id": "1615cd18-d1fd-4312-84d9-63166d6edd12",
   "metadata": {},
   "outputs": [
    {
     "name": "stdout",
     "output_type": "stream",
     "text": [
      "Processed 'C:\\Users\\Ashulah\\Desktop\\klabfinal\\TekHer-Python-Basic\\data\\document.txt' successfully!\n"
     ]
    }
   ],
   "source": [
    "import os\n",
    "\n",
    "# defining file path\n",
    "file_path = r\"C:\\Users\\Ashulah\\Desktop\\klabfinal\\TekHer-Python-Basic\\data\\document.txt\"\n",
    "\n",
    "try:\n",
    "    with open(file_path) as f:\n",
    "        lines = [line for line in f if line.strip()]  # Remove empty lines\n",
    "\n",
    "    with open(file_path, \"w\") as f:\n",
    "        f.writelines(lines)\n",
    "\n",
    "    print(f\"Processed '{file_path}' successfully!\")\n",
    "except FileNotFoundError:\n",
    "    print(f\"Error: File not found at {file_path}\")\n",
    "except Exception as e:\n",
    "    print(f\"An error occurred: {str(e)}\")\n"
   ]
  },
  {
   "cell_type": "markdown",
   "id": "747768cb-3c6b-4afe-94c3-d5af7310bce6",
   "metadata": {},
   "source": [
    "### Exercise 32"
   ]
  },
  {
   "cell_type": "code",
   "execution_count": 147,
   "id": "32a4513b-dda3-4e0f-aa64-356d42d4ba89",
   "metadata": {},
   "outputs": [
    {
     "name": "stdout",
     "output_type": "stream",
     "text": [
      "Current config:\n",
      "setting1=true\n",
      "setting2=false\n",
      "threshold=0.8\n",
      "\n",
      "Updated config:\n",
      "setting1=true\n",
      "setting2=false\n",
      "threshold=0.9\n"
     ]
    }
   ],
   "source": [
    "config_content = \"\"\"setting1=true\n",
    "setting2=false\n",
    "threshold=0.8\"\"\"\n",
    "\n",
    "# Write the initial config\n",
    "with open(\"config.txt\", \"w\") as f:\n",
    "    f.write(config_content)\n",
    "\n",
    "# Now open in r+ mode to read and potentially modify\n",
    "with open(\"config.txt\", \"r+\") as f:\n",
    "    # Read existing content\n",
    "    content = f.read()\n",
    "    print(\"Current config:\")\n",
    "    print(content)\n",
    "    \n",
    "    # Example modification: Update threshold\n",
    "    new_content = content.replace(\"threshold=0.8\", \"threshold=0.9\")\n",
    "    \n",
    "    # Write back the changes\n",
    "    f.seek(0)  # Move to start of file\n",
    "    f.write(new_content)\n",
    "    f.truncate()  # Remove any remaining old content\n",
    "\n",
    "# Verify the update\n",
    "with open(\"config.txt\") as f:\n",
    "    print(\"\\nUpdated config:\")\n",
    "    print(f.read())"
   ]
  },
  {
   "cell_type": "markdown",
   "id": "7821bbb6-c9f3-4af9-842e-659053c44464",
   "metadata": {},
   "source": [
    "### Exercise 33"
   ]
  },
  {
   "cell_type": "code",
   "execution_count": 351,
   "id": "35e2b9e7-20d1-4866-8c56-3c757e281fb1",
   "metadata": {},
   "outputs": [
    {
     "name": "stdout",
     "output_type": "stream",
     "text": [
      "This is a much longer line than the others\n"
     ]
    }
   ],
   "source": [
    "with open(\"sample.txt\", \"w\") as file:\n",
    "    file.write(\"Short line\\n\")\n",
    "    file.write(\"This is a much longer line than the others\\n\")\n",
    "    file.write(\"Medium length\\n\")\n",
    "\n",
    "# Step 2: Define the function\n",
    "def print_longest_line(filename):\n",
    "    with open(filename, \"r\") as file:\n",
    "        lines = file.readlines()\n",
    "        longest = max(lines, key=len)\n",
    "        print(longest.strip())\n",
    "\n",
    "\n",
    "print_longest_line(\"sample.txt\")"
   ]
  },
  {
   "cell_type": "markdown",
   "id": "b6ca2cce-5a9f-43a6-ba48-19c64716859a",
   "metadata": {},
   "source": [
    "## Advanced File Operations Exercises 34-50"
   ]
  },
  {
   "cell_type": "markdown",
   "id": "d11055db-be9d-461c-a180-0c6398ea87a2",
   "metadata": {},
   "source": [
    "### Exercise 34"
   ]
  },
  {
   "cell_type": "code",
   "execution_count": 225,
   "id": "d599f04f-a179-4d44-a2fe-948dc06caa4f",
   "metadata": {},
   "outputs": [
    {
     "name": "stdout",
     "output_type": "stream",
     "text": [
      "Counter({'e': 6, 's': 4, 'h': 3, 'l': 3, 'i': 3, 't': 2, 'a': 2, 'o': 1, 'r': 1, 'm': 1, 'g': 1, 'f': 1})\n"
     ]
    }
   ],
   "source": [
    "from collections import Counter\n",
    "with open(r\"C:\\Users\\Ashulah\\Desktop\\klabfinal\\TekHer-Python-Basic\\\\data\\message.txt\",\"r\") as f:\n",
    "    letters = Counter(char.lower() for line in f for char in line if char.isalpha())\n",
    "    freq = Counter(letters)\n",
    "    print(freq)"
   ]
  },
  {
   "cell_type": "markdown",
   "id": "8b0247bc-eff1-4007-8c22-35e1e3e1967a",
   "metadata": {},
   "source": [
    "### Exercise 35"
   ]
  },
  {
   "cell_type": "code",
   "execution_count": 187,
   "id": "b0977158-c920-47a3-ab0f-b5343017207b",
   "metadata": {},
   "outputs": [],
   "source": [
    "with open(r\"C:\\Users\\Ashulah\\Desktop\\klabfinal\\TekHer-Python-Basic\\data\\essay.txt\",\"r\") as f:\n",
    "    count = sum(len(line.replace(\" \", \"\")) for line in f)"
   ]
  },
  {
   "cell_type": "code",
   "execution_count": 185,
   "id": "2a075735-9993-4abc-92ac-d6ec670bfccc",
   "metadata": {},
   "outputs": [
    {
     "name": "stdout",
     "output_type": "stream",
     "text": [
      "Characters (excluding spaces): 51\n"
     ]
    }
   ],
   "source": [
    "with open(\"text.txt\", \"w\") as file:\n",
    "    file.write(\"This is a sample text file.\\nIt has multiple lines and spaces.\")\n",
    "with open(\"text.txt\", \"r\") as file:\n",
    "    text = file.read().replace(\" \", \"\")\n",
    "    print(\"Characters (excluding spaces):\", len(text))"
   ]
  },
  {
   "cell_type": "markdown",
   "id": "0531102f-64d3-4bc8-8c38-ecdcf440a8ee",
   "metadata": {},
   "source": [
    "#### Exercise 36"
   ]
  },
  {
   "cell_type": "code",
   "execution_count": 189,
   "id": "15728f1b-8b84-4468-877b-b8175be9ef61",
   "metadata": {},
   "outputs": [
    {
     "name": "stdout",
     "output_type": "stream",
     "text": [
      "The file is empty.\n"
     ]
    }
   ],
   "source": [
    "with open(\"file.txt\", \"w\") as file:\n",
    "    pass \n",
    "\n",
    "  # Check if file is empty\n",
    "if os.path.getsize(\"file.txt\") == 0:\n",
    "    print(\"The file is empty.\")\n",
    "else:\n",
    "    print(\"The file is not empty.\")"
   ]
  },
  {
   "cell_type": "markdown",
   "id": "0cb80b31-f68e-4d3d-ba0c-27d22cbde89d",
   "metadata": {},
   "source": [
    "### Execise37"
   ]
  },
  {
   "cell_type": "code",
   "execution_count": 295,
   "id": "d5feb90a-8cd2-425c-b92e-06b91d12a647",
   "metadata": {},
   "outputs": [
    {
     "name": "stdout",
     "output_type": "stream",
     "text": [
      "This document contains notes on data science\n",
      "It is intended for beginners\n",
      "\n"
     ]
    }
   ],
   "source": [
    "def remove_custom_punctuation(filename):\n",
    "    \"\"\"Remove only specified punctuation marks from a file\"\"\"\n",
    "    punctuation_to_remove = \"!@#$%^&*()[]{}:;,.<>?/\\\\|`~\\\"'-=_+\"\n",
    "\n",
    "    try:\n",
    "        with open(filename, 'r', encoding='utf-8') as file:\n",
    "            text = file.read()\n",
    "            translator = str.maketrans('', '', punctuation_to_remove)\n",
    "            return text.translate(translator)\n",
    "    except IOError as e:\n",
    "        print(f\"Error: {e}\")\n",
    "        return None\n",
    "cleaned_text = remove_custom_punctuation(r\"C:\\Users\\Ashulah\\Desktop\\klabfinal\\TekHer-Python-Basic\\data\\document.txt\")\n",
    "\n",
    "if cleaned_text:\n",
    "    print(cleaned_text)\n"
   ]
  },
  {
   "cell_type": "markdown",
   "id": "67f07af6-71a8-4fcd-8aa3-fb14a3f39f0a",
   "metadata": {},
   "source": [
    "### EXERCISE38"
   ]
  },
  {
   "cell_type": "code",
   "execution_count": 277,
   "id": "0caa2f2e-d92c-43d2-b24a-e6d140f4c571",
   "metadata": {},
   "outputs": [
    {
     "name": "stdout",
     "output_type": "stream",
     "text": [
      "File content:\n",
      "Python is fun\n",
      "Files are powerful\n",
      "Practice makes perfect\n",
      "Oh my God\n",
      "\n"
     ]
    }
   ],
   "source": [
    "def write_list_to_file(filename, lines):\n",
    "    with open(filename, \"w\") as file:\n",
    "        for line in lines:\n",
    "            file.write(line + \"\\n\")\n",
    "\n",
    "\n",
    "my_lines = [\"Python is fun\", \"Files are powerful\", \"Practice makes perfect\",\"Oh my God\"]\n",
    "\n",
    "# Write to file\n",
    "write_list_to_file(\"myfile.txt\", my_lines)\n",
    "\n",
    "with open(\"myfile.txt\", \"r\") as file:\n",
    "    content = file.read()                  #  Read and print the result\n",
    "    print(\"File content:\\n\" + content)"
   ]
  },
  {
   "cell_type": "markdown",
   "id": "58eef04f-4d00-4698-ad1e-9e39b2ce5dc0",
   "metadata": {},
   "source": [
    "### Exercise 39"
   ]
  },
  {
   "cell_type": "code",
   "execution_count": 209,
   "id": "b131a8fb-7fe6-463e-8c6a-ad582d8a6d6f",
   "metadata": {},
   "outputs": [
    {
     "name": "stdout",
     "output_type": "stream",
     "text": [
      "Lines starting with A: 0\n"
     ]
    }
   ],
   "source": [
    "with open(\"file.txt\", \"r\") as file:\n",
    "    count = sum(1 for line in file if line.startswith(\"A\"))\n",
    "print(\"Lines starting with A:\", count)\n"
   ]
  },
  {
   "cell_type": "markdown",
   "id": "26fbb53b-9262-4ee6-9908-1d42705c1ef6",
   "metadata": {},
   "source": [
    "### Exercise 40"
   ]
  },
  {
   "cell_type": "code",
   "execution_count": 273,
   "id": "31203991-a2c5-43ae-8e08-6099e7d6f907",
   "metadata": {},
   "outputs": [
    {
     "name": "stdout",
     "output_type": "stream",
     "text": [
      "eno yreve olleH\n"
     ]
    }
   ],
   "source": [
    "def write_reversed(text):\n",
    "    reversed_text = text[::-1]\n",
    "    with open(\"output.txt\", \"w\") as file:\n",
    "        file.write(reversed_text)\n",
    "    print(reversed_text)\n",
    "\n",
    "write_reversed(\"Hello every one\")"
   ]
  },
  {
   "cell_type": "markdown",
   "id": "1c0b8313-6a74-48f3-8178-ef6fbd49c1b0",
   "metadata": {},
   "source": [
    "### Exercise41"
   ]
  },
  {
   "cell_type": "code",
   "execution_count": 297,
   "id": "30de7287-70e3-4767-9810-d6fd0a214dbf",
   "metadata": {},
   "outputs": [
    {
     "name": "stdout",
     "output_type": "stream",
     "text": [
      "Python is a great language.\n",
      "Python makes things easier.\n"
     ]
    }
   ],
   "source": [
    "with open(\"file.txt\", \"w\") as file:\n",
    "    file.write(\"Python is a great language.\\n\")\n",
    "    file.write(\"I love coding.\\n\")\n",
    "    file.write(\"Python makes things easier.\\n\")\n",
    "    file.write(\"This line does not mention it.\\n\")\n",
    "\n",
    "# Print lines containing \"Python\"\n",
    "with open(\"file.txt\", \"r\") as file:\n",
    "    for line in file:\n",
    "        if \"Python\" in line:\n",
    "            print(line.strip())\n"
   ]
  },
  {
   "cell_type": "markdown",
   "id": "ec36c786-0b47-44e8-b866-402984c2f803",
   "metadata": {},
   "source": [
    "## Exercise 42"
   ]
  },
  {
   "cell_type": "code",
   "execution_count": 299,
   "id": "527a44dd-9425-48f8-9840-060a49f9d68b",
   "metadata": {},
   "outputs": [
    {
     "name": "stdout",
     "output_type": "stream",
     "text": [
      "Python is a great language.\n",
      "I love coding.\n",
      "Python makes things easier.\n",
      "This line does not mention it.\n",
      "\n"
     ]
    }
   ],
   "source": [
    "with open(\"file.txt\", \"r\") as f:\n",
    "    content = f.read()\n",
    "cleaned = ''.join(c for c in content if not c.isdigit())\n",
    "print(cleaned)"
   ]
  },
  {
   "cell_type": "markdown",
   "id": "23c7de7e-0932-4dab-9003-b0bd9e64218b",
   "metadata": {},
   "source": [
    "### Exercise 43"
   ]
  },
  {
   "cell_type": "code",
   "execution_count": 303,
   "id": "281d7a01-c041-423c-9b03-409cd6999034",
   "metadata": {},
   "outputs": [
    {
     "name": "stdout",
     "output_type": "stream",
     "text": [
      "Most frequent word: a\n"
     ]
    }
   ],
   "source": [
    "from collections import Counter\n",
    "with open(r\"C:\\Users\\Ashulah\\Desktop\\klabfinal\\TekHer-Python-Basic\\data\\book.txt\") as f:\n",
    "    words = f.read().lower().split()\n",
    "    most_common = Counter(words).most_common(1)[0][0]\n",
    "print(\"Most frequent word:\", most_common)"
   ]
  },
  {
   "cell_type": "markdown",
   "id": "1be57c5f-6c8b-4141-b6de-689fe54d4165",
   "metadata": {},
   "source": [
    "#### Exercise44"
   ]
  },
  {
   "cell_type": "code",
   "execution_count": 312,
   "id": "f27ff5a9-497a-4689-966c-d0f475279a69",
   "metadata": {},
   "outputs": [
    {
     "name": "stdout",
     "output_type": "stream",
     "text": [
      "['Python is a great language.']\n"
     ]
    }
   ],
   "source": [
    "with open(\"file.txt\") as f:\n",
    "    five_word_lines = [line.strip() for line in f if len(line.split()) == 5]\n",
    "\n",
    "print(five_word_lines)\n"
   ]
  },
  {
   "cell_type": "markdown",
   "id": "0f3190cc-2023-473c-9838-928ed9e6396d",
   "metadata": {},
   "source": [
    "#### Exercise45"
   ]
  },
  {
   "cell_type": "code",
   "execution_count": 314,
   "id": "6402042a-7172-4baf-a36f-47de2bb068f6",
   "metadata": {},
   "outputs": [
    {
     "name": "stdout",
     "output_type": "stream",
     "text": [
      "First: Python is a great language.\n",
      ", Last: This line does not mention it.\n",
      "\n"
     ]
    }
   ],
   "source": [
    "with open(\"file.txt\") as f:\n",
    "    lines = f.readlines()\n",
    "    print(f\"First: {lines[0]}, Last: {lines[-1]}\")\n"
   ]
  },
  {
   "cell_type": "markdown",
   "id": "440e7bd0-c991-4496-8d19-74cb7b045517",
   "metadata": {},
   "source": [
    "#### Exercise 46"
   ]
  },
  {
   "cell_type": "code",
   "execution_count": 316,
   "id": "bc891089-064d-4f1c-9ff1-563efaba4f6f",
   "metadata": {},
   "outputs": [
    {
     "name": "stdout",
     "output_type": "stream",
     "text": [
      "The file 'document.txt' is NOT writable.\n"
     ]
    }
   ],
   "source": [
    "import os\n",
    "\n",
    "def is_writable(filename):\n",
    "    return os.access(filename, os.W_OK)\n",
    "\n",
    "# Example usage\n",
    "file_path = \"document.txt\"\n",
    "if is_writable(file_path):\n",
    "    print(f\"The file '{file_path}' is writable.\")\n",
    "else:\n",
    "    print(f\"The file '{file_path}' is NOT writable.\")\n"
   ]
  },
  {
   "cell_type": "markdown",
   "id": "ce5ad2b9-68b4-4c8c-9559-8faa4fd31816",
   "metadata": {},
   "source": [
    "#### Exercise 47"
   ]
  },
  {
   "cell_type": "code",
   "execution_count": 318,
   "id": "f9c551c6-4835-49d5-86a5-f37c5d5415d5",
   "metadata": {},
   "outputs": [
    {
     "name": "stdout",
     "output_type": "stream",
     "text": [
      "Unique word count: 8\n"
     ]
    }
   ],
   "source": [
    "with open(\"sample.txt\", \"w\") as file:\n",
    "    file.write(\"Python is fun. Python is easy to learn. Learning is good.\")\n",
    "\n",
    "# Step 2: Define the function\n",
    "def count_unique_words(filename):\n",
    "    with open(filename, \"r\") as file:\n",
    "        words = file.read().lower().split()\n",
    "        return len(set(words))\n",
    "\n",
    "# Step 3: Call the function and print the result\n",
    "unique_word_count = count_unique_words(\"sample.txt\")\n",
    "print(\"Unique word count:\", unique_word_count)"
   ]
  },
  {
   "cell_type": "markdown",
   "id": "0a7dc4d3-8a9b-462a-8ef6-6240aeaf0e30",
   "metadata": {},
   "source": [
    "### Exercise48"
   ]
  },
  {
   "cell_type": "code",
   "execution_count": 320,
   "id": "3bae8a55-ac32-4c9b-a32f-cd4579b392ca",
   "metadata": {},
   "outputs": [
    {
     "name": "stdout",
     "output_type": "stream",
     "text": [
      "This line does not mention it.\n",
      "Python makes things easier.\n",
      "I love coding.\n",
      "Python is a great language.\n"
     ]
    }
   ],
   "source": [
    "with open(\"file.txt\") as f:\n",
    "    lines = f.readlines()\n",
    "    for line in reversed(lines):\n",
    "        print(line.strip())\n"
   ]
  },
  {
   "cell_type": "markdown",
   "id": "d2f61acc-5048-4c0f-93c4-325934f0c52a",
   "metadata": {},
   "source": [
    "### Exercise 49"
   ]
  },
  {
   "cell_type": "code",
   "execution_count": 343,
   "id": "ec739b56-422f-4e47-96ce-62d9d2651dde",
   "metadata": {},
   "outputs": [
    {
     "name": "stdout",
     "output_type": "stream",
     "text": [
      "Most common letter: i\n"
     ]
    }
   ],
   "source": [
    "from collections import Counter\n",
    "\n",
    "def most_common_letter(filename):\n",
    "    with open(filename) as f:\n",
    "        letters = [char.lower() for line in f for char in line if char.isalpha()]\n",
    "        return Counter(letters).most_common(1)[0][0]\n",
    "\n",
    "result = most_common_letter(\"C:\\\\Users\\\\Ashulah\\\\Desktop\\\\klabfinal\\\\TekHer-Python-Basic\\\\data\\\\article.txt\")\n",
    "print(\"Most common letter:\", result)"
   ]
  },
  {
   "cell_type": "markdown",
   "id": "441a532c-4331-4689-acce-a8a7cc1e68ba",
   "metadata": {},
   "source": [
    "#### Exercise 50"
   ]
  },
  {
   "cell_type": "code",
   "execution_count": 333,
   "id": "fc5c4ce7-20ba-4bb8-87eb-d3d47ebcc36b",
   "metadata": {},
   "outputs": [
    {
     "name": "stdout",
     "output_type": "stream",
     "text": [
      "Updated content:\n",
      "Java is amazing.\n",
      "I enjoy Java programming.\n"
     ]
    }
   ],
   "source": [
    "with open(\"file.txt\", \"w\") as file:\n",
    "    file.write(\"Python is amazing.\\nI enjoy Python programming.\")\n",
    "\n",
    "# Replacing \"Python\" with \"Java\"\n",
    "with open(\"file.txt\", \"r\") as file:\n",
    "    content = file.read().replace(\"Python\", \"Java\")\n",
    "with open(\"file.txt\", \"w\") as file:\n",
    "    file.write(content)\n",
    "\n",
    "with open(\"file.txt\", \"r\") as file:\n",
    "    updated_content = file.read()\n",
    "    print(\"Updated content:\\n\" + updated_content)"
   ]
  },
  {
   "cell_type": "code",
   "execution_count": null,
   "id": "dcf6ca38",
   "metadata": {},
   "outputs": [],
   "source": []
  }
 ],
 "metadata": {
  "kernelspec": {
   "display_name": "Python 3 (ipykernel)",
   "language": "python",
   "name": "python3"
  },
  "language_info": {
   "codemirror_mode": {
    "name": "ipython",
    "version": 3
   },
   "file_extension": ".py",
   "mimetype": "text/x-python",
   "name": "python",
   "nbconvert_exporter": "python",
   "pygments_lexer": "ipython3",
   "version": "3.12.7"
  }
 },
 "nbformat": 4,
 "nbformat_minor": 5
}
