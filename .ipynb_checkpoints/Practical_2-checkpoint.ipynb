{
 "cells": [
  {
   "cell_type": "markdown",
   "id": "d68c1dee",
   "metadata": {},
   "source": [
    "# Practical_2: String and files"
   ]
  },
  {
   "cell_type": "markdown",
   "id": "64c24aef-dc3e-473f-9a45-ae9af8f5422d",
   "metadata": {},
   "source": [
    "## Exercise 1"
   ]
  },
  {
   "cell_type": "code",
   "execution_count": 2,
   "id": "f8ee7f95-7414-4bbd-b44a-b2af1fac0cbd",
   "metadata": {},
   "outputs": [
    {
     "name": "stdout",
     "output_type": "stream",
     "text": [
      "Python is amazing!\n"
     ]
    }
   ],
   "source": [
    "text= \"Python is amazing!\"\n",
    "print(text)"
   ]
  },
  {
   "cell_type": "markdown",
   "id": "4ad26735-141a-42a4-9433-fc49691ca741",
   "metadata": {},
   "source": [
    "## Exercise 2"
   ]
  },
  {
   "cell_type": "code",
   "execution_count": 4,
   "id": "ccfbffea-1a62-4b0e-80e3-dc7749beca13",
   "metadata": {},
   "outputs": [
    {
     "name": "stdout",
     "output_type": "stream",
     "text": [
      "13\n"
     ]
    }
   ],
   "source": [
    "length = len(\"Hello, World!\") \n",
    "print(length)"
   ]
  },
  {
   "cell_type": "markdown",
   "id": "6c2beaf8-62bd-4e29-b77f-dea9a9fbaad3",
   "metadata": {},
   "source": [
    "### Exercise 3"
   ]
  },
  {
   "cell_type": "code",
   "execution_count": 8,
   "id": "86606668-bd1d-4c61-9762-ca9e3dd3a1f1",
   "metadata": {},
   "outputs": [
    {
     "name": "stdout",
     "output_type": "stream",
     "text": [
      "PYTHON PROGRAMMING\n"
     ]
    }
   ],
   "source": [
    "upper_text = \"python programming\".upper()\n",
    "print(upper_text)"
   ]
  },
  {
   "cell_type": "markdown",
   "id": "5c080af2-b306-42f2-8322-c3157a1a3670",
   "metadata": {},
   "source": [
    "## Exercise 4"
   ]
  },
  {
   "cell_type": "code",
   "execution_count": 10,
   "id": "4477ba5e-ae76-4aec-836d-9601cf6fe642",
   "metadata": {},
   "outputs": [
    {
     "name": "stdout",
     "output_type": "stream",
     "text": [
      "Artif\n"
     ]
    }
   ],
   "source": [
    "first_five = \"Artificial Intelligence\"[:5]\n",
    "print(first_five)"
   ]
  },
  {
   "cell_type": "markdown",
   "id": "df43b55b-38e5-4079-9a2d-2da896f9800e",
   "metadata": {},
   "source": [
    "## Exercise 5"
   ]
  },
  {
   "cell_type": "code",
   "execution_count": 15,
   "id": "bb617201-01b5-4356-a560-451c54dec20f",
   "metadata": {},
   "outputs": [
    {
     "name": "stdout",
     "output_type": "stream",
     "text": [
      "Hello World\n"
     ]
    }
   ],
   "source": [
    "combined = \"Hello\" + \" \" + \"World\"\n",
    "print(combined)"
   ]
  },
  {
   "cell_type": "markdown",
   "id": "6b324151-a9ab-46b1-9781-37a979fa6ca2",
   "metadata": {},
   "source": [
    "## Exercise 6"
   ]
  },
  {
   "cell_type": "code",
   "execution_count": 17,
   "id": "c69fcac1-38ab-4c36-a589-82518bf7f1e3",
   "metadata": {},
   "outputs": [
    {
     "name": "stdout",
     "output_type": "stream",
     "text": [
      "The quick brown dog jumps over the lazy dog.\n",
      "The quick brown cat jumps over the lazy cat.\n"
     ]
    }
   ],
   "source": [
    "sentence = \"The quick brown dog jumps over the lazy dog.\"\n",
    "replaced = sentence.replace(\"dog\", \"cat\")\n",
    "print(sentence)\n",
    "print(replaced)"
   ]
  },
  {
   "cell_type": "markdown",
   "id": "fe00f609-9ae7-4714-a0d7-883d0667a977",
   "metadata": {},
   "source": [
    "## Exercise 7"
   ]
  },
  {
   "cell_type": "code",
   "execution_count": 19,
   "id": "4287b63a-00ab-4995-9cd1-84da0177125b",
   "metadata": {},
   "outputs": [
    {
     "name": "stdout",
     "output_type": "stream",
     "text": [
      "['apple', 'banana', 'orange']\n"
     ]
    }
   ],
   "source": [
    "fruits_list = \"apple,banana,orange\".split(',')\n",
    "print(fruits_list)"
   ]
  },
  {
   "cell_type": "markdown",
   "id": "13c69751-2bdf-4eb3-8046-af29b1873e10",
   "metadata": {},
   "source": [
    "## Exercise 8"
   ]
  },
  {
   "cell_type": "code",
   "execution_count": 23,
   "id": "f17937d4-60bd-4168-98aa-8d3dea3c4ff7",
   "metadata": {},
   "outputs": [
    {
     "name": "stdout",
     "output_type": "stream",
     "text": [
      "Alice 25\n",
      "My name is Alice and I am 25 years old.\n"
     ]
    }
   ],
   "source": [
    "name, age = \"Alice\", 25\n",
    "formatted = f\"My name is {name} and I am {age} years old.\"\n",
    "print(name,age)\n",
    "print(formatted)"
   ]
  },
  {
   "cell_type": "markdown",
   "id": "3865bb86-b885-4775-ac4b-01b96d4e084c",
   "metadata": {},
   "source": [
    "## Exercise 9"
   ]
  },
  {
   "cell_type": "code",
   "execution_count": 25,
   "id": "0c216b1a-94af-4ac2-8550-646e2378ef9c",
   "metadata": {},
   "outputs": [
    {
     "name": "stdout",
     "output_type": "stream",
     "text": [
      "True\n"
     ]
    }
   ],
   "source": [
    "contains = \"python\" in \"I love python programming\"\n",
    "print(contains)"
   ]
  },
  {
   "cell_type": "markdown",
   "id": "97264ca2-edf2-4469-9e0c-3097ba1820e3",
   "metadata": {},
   "source": [
    "### Exercise 10"
   ]
  },
  {
   "cell_type": "code",
   "execution_count": 29,
   "id": "f6dfeb05-3049-49dd-ad1e-5babc028ac53",
   "metadata": {},
   "outputs": [
    {
     "data": {
      "text/plain": [
       "4"
      ]
     },
     "execution_count": 29,
     "metadata": {},
     "output_type": "execute_result"
    }
   ],
   "source": [
    "count = \"Elephant is an elegant animal\".lower().count('e')\n",
    "count"
   ]
  },
  {
   "cell_type": "markdown",
   "id": "6049f072-eec7-46a4-b41b-0a9e4b85acbb",
   "metadata": {},
   "source": [
    "### Exercise 11"
   ]
  },
  {
   "cell_type": "code",
   "execution_count": 32,
   "id": "98ddcc1d-d779-433d-8e13-847a223df0c2",
   "metadata": {},
   "outputs": [
    {
     "name": "stdout",
     "output_type": "stream",
     "text": [
      "Data Science\n"
     ]
    }
   ],
   "source": [
    "trimmed = \"   Data Science   \".strip()\n",
    "print(trimmed)"
   ]
  },
  {
   "cell_type": "markdown",
   "id": "2829c9a9-9256-470e-92f0-81a3d1a8e584",
   "metadata": {},
   "source": [
    "### Exercise 12"
   ]
  },
  {
   "cell_type": "code",
   "execution_count": 35,
   "id": "9adb1e68-6cb1-495d-b4fc-7a209f074dae",
   "metadata": {},
   "outputs": [
    {
     "name": "stdout",
     "output_type": "stream",
     "text": [
      "100\n"
     ]
    }
   ],
   "source": [
    "int_value = int(\"100\")\n",
    "print(int_value)"
   ]
  },
  {
   "cell_type": "markdown",
   "id": "964a93a3-b165-4bfb-bd20-ffd7d76fd858",
   "metadata": {},
   "source": [
    "## Exercise 13"
   ]
  },
  {
   "cell_type": "code",
   "execution_count": 37,
   "id": "8dca06a9-c7e9-4a85-9866-55939532022f",
   "metadata": {},
   "outputs": [
    {
     "name": "stdout",
     "output_type": "stream",
     "text": [
      "pro\n"
     ]
    }
   ],
   "source": [
    "substring = \"programming\"[0:3]\n",
    "print(substring)"
   ]
  },
  {
   "cell_type": "markdown",
   "id": "6baf6867-87c4-45a9-a58d-410650645daa",
   "metadata": {},
   "source": [
    "## Exercise 14"
   ]
  },
  {
   "cell_type": "code",
   "execution_count": 39,
   "id": "f9741525-2b50-4394-91bd-3a83f02ef3fd",
   "metadata": {},
   "outputs": [
    {
     "name": "stdout",
     "output_type": "stream",
     "text": [
      "True\n"
     ]
    }
   ],
   "source": [
    "check = \"data\".startswith(\"da\") and \"data\".endswith(\"ta\")\n",
    "print(check)"
   ]
  },
  {
   "cell_type": "markdown",
   "id": "67620152-a234-4ebd-a86d-7d2ea32fa819",
   "metadata": {},
   "source": [
    "## Exercise 15"
   ]
  },
  {
   "cell_type": "code",
   "execution_count": 48,
   "id": "726cc90b-2e43-439b-a861-d6ec631c79e7",
   "metadata": {},
   "outputs": [
    {
     "name": "stdout",
     "output_type": "stream",
     "text": [
      "gninrael enihcam\n"
     ]
    }
   ],
   "source": [
    "reversed_text = \"machine learning\"[::-1]\n",
    "print(reversed_text)"
   ]
  },
  {
   "cell_type": "markdown",
   "id": "de1826cf-1ac3-4f90-a668-29dae9fa454b",
   "metadata": {},
   "source": [
    "### Exercise 16\n"
   ]
  },
  {
   "cell_type": "code",
   "execution_count": 51,
   "id": "2df6973e-7a40-4cea-93c8-81ba5e92b446",
   "metadata": {},
   "outputs": [
    {
     "name": "stdout",
     "output_type": "stream",
     "text": [
      "Machine Learning Is Fun\n"
     ]
    }
   ],
   "source": [
    "title_case = \"machine learning is fun\".title()\n",
    "print (title_case)"
   ]
  },
  {
   "cell_type": "markdown",
   "id": "63a92e70-9f41-4c8c-aa59-d86a7cb68589",
   "metadata": {},
   "source": [
    "## Exercise 17"
   ]
  },
  {
   "cell_type": "code",
   "execution_count": 45,
   "id": "14697e56-92b8-4d85-b350-243fa69dce13",
   "metadata": {},
   "outputs": [
    {
     "name": "stdout",
     "output_type": "stream",
     "text": [
      "Roses are red,\n",
      "Violets are blue,\n",
      "Python is awesome,\n",
      "And so are you!\n"
     ]
    }
   ],
   "source": [
    "poem = \"\"\"Roses are red,\n",
    "Violets are blue,\n",
    "Python is awesome,\n",
    "And so are you!\"\"\"\n",
    "print(poem)"
   ]
  },
  {
   "cell_type": "markdown",
   "id": "a365f67e-5d4e-4c0d-a1f9-cd6f49df9fd8",
   "metadata": {},
   "source": [
    "## About Operations"
   ]
  },
  {
   "cell_type": "markdown",
   "id": "985d5bbe-886b-4c00-8efe-d947667a91d7",
   "metadata": {},
   "source": [
    "### Exercise 18"
   ]
  },
  {
   "cell_type": "code",
   "execution_count": 378,
   "id": "2dc99749-b8a0-4622-8784-4ec3776d2f27",
   "metadata": {},
   "outputs": [],
   "source": [
    "import os\n",
    "file = open(r\"C:\\Users\\Ashulah\\Desktop\\klabfinal\\TekHer-Python-Basic\\data\\example.txt\", 'r')\n",
    "# Perform operations on the file\n",
    "file.close()"
   ]
  },
  {
   "cell_type": "code",
   "execution_count": 398,
   "id": "bda3103d-de60-4041-96f2-4c4e8c1f4087",
   "metadata": {},
   "outputs": [
    {
     "data": {
      "text/plain": [
       "'data\\\\data.txt'"
      ]
     },
     "execution_count": 398,
     "metadata": {},
     "output_type": "execute_result"
    }
   ],
   "source": [
    "import os\n"
   ]
  },
  {
   "cell_type": "code",
   "execution_count": 396,
   "id": "3c6c95cb-7037-4006-8588-105b3f759fea",
   "metadata": {},
   "outputs": [
    {
     "name": "stdout",
     "output_type": "stream",
     "text": [
      "Help on module os:\n",
      "\n",
      "NAME\n",
      "    os - OS routines for NT or Posix depending on what system we're on.\n",
      "\n",
      "MODULE REFERENCE\n",
      "    https://docs.python.org/3.12/library/os.html\n",
      "\n",
      "    The following documentation is automatically generated from the Python\n",
      "    source files.  It may be incomplete, incorrect or include features that\n",
      "    are considered implementation detail and may vary between Python\n",
      "    implementations.  When in doubt, consult the module reference at the\n",
      "    location listed above.\n",
      "\n",
      "DESCRIPTION\n",
      "    This exports:\n",
      "      - all functions from posix or nt, e.g. unlink, stat, etc.\n",
      "      - os.path is either posixpath or ntpath\n",
      "      - os.name is either 'posix' or 'nt'\n",
      "      - os.curdir is a string representing the current directory (always '.')\n",
      "      - os.pardir is a string representing the parent directory (always '..')\n",
      "      - os.sep is the (or a most common) pathname separator ('/' or '\\\\')\n",
      "      - os.extsep is the extension separator (always '.')\n",
      "      - os.altsep is the alternate pathname separator (None or '/')\n",
      "      - os.pathsep is the component separator used in $PATH etc\n",
      "      - os.linesep is the line separator in text files ('\\r' or '\\n' or '\\r\\n')\n",
      "      - os.defpath is the default search path for executables\n",
      "      - os.devnull is the file path of the null device ('/dev/null', etc.)\n",
      "\n",
      "    Programs that import and use 'os' stand a better chance of being\n",
      "    portable between different platforms.  Of course, they must then\n",
      "    only use functions that are defined by all platforms (e.g., unlink\n",
      "    and opendir), and leave all pathname manipulation to os.path\n",
      "    (e.g., split and join).\n",
      "\n",
      "CLASSES\n",
      "    builtins.Exception(builtins.BaseException)\n",
      "        builtins.OSError\n",
      "    builtins.object\n",
      "        nt.DirEntry\n",
      "    builtins.tuple(builtins.object)\n",
      "        nt.times_result\n",
      "        nt.uname_result\n",
      "        stat_result\n",
      "        statvfs_result\n",
      "        terminal_size\n",
      "\n",
      "    class DirEntry(builtins.object)\n",
      "     |  Methods defined here:\n",
      "     |\n",
      "     |  __fspath__(self, /)\n",
      "     |      Returns the path for the entry.\n",
      "     |\n",
      "     |  __repr__(self, /)\n",
      "     |      Return repr(self).\n",
      "     |\n",
      "     |  inode(self, /)\n",
      "     |      Return inode of the entry; cached per entry.\n",
      "     |\n",
      "     |  is_dir(self, /, *, follow_symlinks=True)\n",
      "     |      Return True if the entry is a directory; cached per entry.\n",
      "     |\n",
      "     |  is_file(self, /, *, follow_symlinks=True)\n",
      "     |      Return True if the entry is a file; cached per entry.\n",
      "     |\n",
      "     |  is_junction(self, /)\n",
      "     |      Return True if the entry is a junction; cached per entry.\n",
      "     |\n",
      "     |  is_symlink(self, /)\n",
      "     |      Return True if the entry is a symbolic link; cached per entry.\n",
      "     |\n",
      "     |  stat(self, /, *, follow_symlinks=True)\n",
      "     |      Return stat_result object for the entry; cached per entry.\n",
      "     |\n",
      "     |  ----------------------------------------------------------------------\n",
      "     |  Class methods defined here:\n",
      "     |\n",
      "     |  __class_getitem__(...)\n",
      "     |      See PEP 585\n",
      "     |\n",
      "     |  ----------------------------------------------------------------------\n",
      "     |  Data descriptors defined here:\n",
      "     |\n",
      "     |  name\n",
      "     |      the entry's base filename, relative to scandir() \"path\" argument\n",
      "     |\n",
      "     |  path\n",
      "     |      the entry's full path name; equivalent to os.path.join(scandir_path, entry.name)\n",
      "\n",
      "    error = class OSError(Exception)\n",
      "     |  Base class for I/O related errors.\n",
      "     |\n",
      "     |  Method resolution order:\n",
      "     |      OSError\n",
      "     |      Exception\n",
      "     |      BaseException\n",
      "     |      object\n",
      "     |\n",
      "     |  Built-in subclasses:\n",
      "     |      BlockingIOError\n",
      "     |      ChildProcessError\n",
      "     |      ConnectionError\n",
      "     |      FileExistsError\n",
      "     |      ... and 7 other subclasses\n",
      "     |\n",
      "     |  Methods defined here:\n",
      "     |\n",
      "     |  __init__(self, /, *args, **kwargs)\n",
      "     |      Initialize self.  See help(type(self)) for accurate signature.\n",
      "     |\n",
      "     |  __reduce__(...)\n",
      "     |      Helper for pickle.\n",
      "     |\n",
      "     |  __str__(self, /)\n",
      "     |      Return str(self).\n",
      "     |\n",
      "     |  ----------------------------------------------------------------------\n",
      "     |  Static methods defined here:\n",
      "     |\n",
      "     |  __new__(*args, **kwargs)\n",
      "     |      Create and return a new object.  See help(type) for accurate signature.\n",
      "     |\n",
      "     |  ----------------------------------------------------------------------\n",
      "     |  Data descriptors defined here:\n",
      "     |\n",
      "     |  characters_written\n",
      "     |\n",
      "     |  errno\n",
      "     |      POSIX exception code\n",
      "     |\n",
      "     |  filename\n",
      "     |      exception filename\n",
      "     |\n",
      "     |  filename2\n",
      "     |      second exception filename\n",
      "     |\n",
      "     |  strerror\n",
      "     |      exception strerror\n",
      "     |\n",
      "     |  winerror\n",
      "     |      Win32 exception code\n",
      "     |\n",
      "     |  ----------------------------------------------------------------------\n",
      "     |  Methods inherited from BaseException:\n",
      "     |\n",
      "     |  __getattribute__(self, name, /)\n",
      "     |      Return getattr(self, name).\n",
      "     |\n",
      "     |  __repr__(self, /)\n",
      "     |      Return repr(self).\n",
      "     |\n",
      "     |  __setstate__(...)\n",
      "     |\n",
      "     |  add_note(...)\n",
      "     |      Exception.add_note(note) --\n",
      "     |      add a note to the exception\n",
      "     |\n",
      "     |  with_traceback(...)\n",
      "     |      Exception.with_traceback(tb) --\n",
      "     |      set self.__traceback__ to tb and return self.\n",
      "     |\n",
      "     |  ----------------------------------------------------------------------\n",
      "     |  Data descriptors inherited from BaseException:\n",
      "     |\n",
      "     |  __cause__\n",
      "     |      exception cause\n",
      "     |\n",
      "     |  __context__\n",
      "     |      exception context\n",
      "     |\n",
      "     |  __dict__\n",
      "     |\n",
      "     |  __suppress_context__\n",
      "     |\n",
      "     |  __traceback__\n",
      "     |\n",
      "     |  args\n",
      "\n",
      "    class stat_result(builtins.tuple)\n",
      "     |  stat_result(iterable=(), /)\n",
      "     |\n",
      "     |  stat_result: Result from stat, fstat, or lstat.\n",
      "     |\n",
      "     |  This object may be accessed either as a tuple of\n",
      "     |    (mode, ino, dev, nlink, uid, gid, size, atime, mtime, ctime)\n",
      "     |  or via the attributes st_mode, st_ino, st_dev, st_nlink, st_uid, and so on.\n",
      "     |\n",
      "     |  Posix/windows: If your platform supports st_blksize, st_blocks, st_rdev,\n",
      "     |  or st_flags, they are available as attributes only.\n",
      "     |\n",
      "     |  See os.stat for more information.\n",
      "     |\n",
      "     |  Method resolution order:\n",
      "     |      stat_result\n",
      "     |      builtins.tuple\n",
      "     |      builtins.object\n",
      "     |\n",
      "     |  Methods defined here:\n",
      "     |\n",
      "     |  __reduce__(...)\n",
      "     |      Helper for pickle.\n",
      "     |\n",
      "     |  __repr__(self, /)\n",
      "     |      Return repr(self).\n",
      "     |\n",
      "     |  ----------------------------------------------------------------------\n",
      "     |  Static methods defined here:\n",
      "     |\n",
      "     |  __new__(*args, **kwargs)\n",
      "     |      Create and return a new object.  See help(type) for accurate signature.\n",
      "     |\n",
      "     |  ----------------------------------------------------------------------\n",
      "     |  Data descriptors defined here:\n",
      "     |\n",
      "     |  st_atime\n",
      "     |      time of last access\n",
      "     |\n",
      "     |  st_atime_ns\n",
      "     |      time of last access in nanoseconds\n",
      "     |\n",
      "     |  st_birthtime\n",
      "     |      time of creation\n",
      "     |\n",
      "     |  st_birthtime_ns\n",
      "     |      time of creation in nanoseconds\n",
      "     |\n",
      "     |  st_ctime\n",
      "     |      time of last change\n",
      "     |\n",
      "     |  st_ctime_ns\n",
      "     |      time of last change in nanoseconds\n",
      "     |\n",
      "     |  st_dev\n",
      "     |      device\n",
      "     |\n",
      "     |  st_file_attributes\n",
      "     |      Windows file attribute bits\n",
      "     |\n",
      "     |  st_gid\n",
      "     |      group ID of owner\n",
      "     |\n",
      "     |  st_ino\n",
      "     |      inode\n",
      "     |\n",
      "     |  st_mode\n",
      "     |      protection bits\n",
      "     |\n",
      "     |  st_mtime\n",
      "     |      time of last modification\n",
      "     |\n",
      "     |  st_mtime_ns\n",
      "     |      time of last modification in nanoseconds\n",
      "     |\n",
      "     |  st_nlink\n",
      "     |      number of hard links\n",
      "     |\n",
      "     |  st_reparse_tag\n",
      "     |      Windows reparse tag\n",
      "     |\n",
      "     |  st_size\n",
      "     |      total size, in bytes\n",
      "     |\n",
      "     |  st_uid\n",
      "     |      user ID of owner\n",
      "     |\n",
      "     |  ----------------------------------------------------------------------\n",
      "     |  Data and other attributes defined here:\n",
      "     |\n",
      "     |  __match_args__ = ('st_mode', 'st_ino', 'st_dev', 'st_nlink', 'st_uid',...\n",
      "     |\n",
      "     |  n_fields = 20\n",
      "     |\n",
      "     |  n_sequence_fields = 10\n",
      "     |\n",
      "     |  n_unnamed_fields = 3\n",
      "     |\n",
      "     |  ----------------------------------------------------------------------\n",
      "     |  Methods inherited from builtins.tuple:\n",
      "     |\n",
      "     |  __add__(self, value, /)\n",
      "     |      Return self+value.\n",
      "     |\n",
      "     |  __contains__(self, key, /)\n",
      "     |      Return bool(key in self).\n",
      "     |\n",
      "     |  __eq__(self, value, /)\n",
      "     |      Return self==value.\n",
      "     |\n",
      "     |  __ge__(self, value, /)\n",
      "     |      Return self>=value.\n",
      "     |\n",
      "     |  __getattribute__(self, name, /)\n",
      "     |      Return getattr(self, name).\n",
      "     |\n",
      "     |  __getitem__(self, key, /)\n",
      "     |      Return self[key].\n",
      "     |\n",
      "     |  __getnewargs__(self, /)\n",
      "     |\n",
      "     |  __gt__(self, value, /)\n",
      "     |      Return self>value.\n",
      "     |\n",
      "     |  __hash__(self, /)\n",
      "     |      Return hash(self).\n",
      "     |\n",
      "     |  __iter__(self, /)\n",
      "     |      Implement iter(self).\n",
      "     |\n",
      "     |  __le__(self, value, /)\n",
      "     |      Return self<=value.\n",
      "     |\n",
      "     |  __len__(self, /)\n",
      "     |      Return len(self).\n",
      "     |\n",
      "     |  __lt__(self, value, /)\n",
      "     |      Return self<value.\n",
      "     |\n",
      "     |  __mul__(self, value, /)\n",
      "     |      Return self*value.\n",
      "     |\n",
      "     |  __ne__(self, value, /)\n",
      "     |      Return self!=value.\n",
      "     |\n",
      "     |  __rmul__(self, value, /)\n",
      "     |      Return value*self.\n",
      "     |\n",
      "     |  count(self, value, /)\n",
      "     |      Return number of occurrences of value.\n",
      "     |\n",
      "     |  index(self, value, start=0, stop=9223372036854775807, /)\n",
      "     |      Return first index of value.\n",
      "     |\n",
      "     |      Raises ValueError if the value is not present.\n",
      "     |\n",
      "     |  ----------------------------------------------------------------------\n",
      "     |  Class methods inherited from builtins.tuple:\n",
      "     |\n",
      "     |  __class_getitem__(...)\n",
      "     |      See PEP 585\n",
      "\n",
      "    class statvfs_result(builtins.tuple)\n",
      "     |  statvfs_result(iterable=(), /)\n",
      "     |\n",
      "     |  statvfs_result: Result from statvfs or fstatvfs.\n",
      "     |\n",
      "     |  This object may be accessed either as a tuple of\n",
      "     |    (bsize, frsize, blocks, bfree, bavail, files, ffree, favail, flag, namemax),\n",
      "     |  or via the attributes f_bsize, f_frsize, f_blocks, f_bfree, and so on.\n",
      "     |\n",
      "     |  See os.statvfs for more information.\n",
      "     |\n",
      "     |  Method resolution order:\n",
      "     |      statvfs_result\n",
      "     |      builtins.tuple\n",
      "     |      builtins.object\n",
      "     |\n",
      "     |  Methods defined here:\n",
      "     |\n",
      "     |  __reduce__(...)\n",
      "     |      Helper for pickle.\n",
      "     |\n",
      "     |  __repr__(self, /)\n",
      "     |      Return repr(self).\n",
      "     |\n",
      "     |  ----------------------------------------------------------------------\n",
      "     |  Static methods defined here:\n",
      "     |\n",
      "     |  __new__(*args, **kwargs)\n",
      "     |      Create and return a new object.  See help(type) for accurate signature.\n",
      "     |\n",
      "     |  ----------------------------------------------------------------------\n",
      "     |  Data descriptors defined here:\n",
      "     |\n",
      "     |  f_bavail\n",
      "     |\n",
      "     |  f_bfree\n",
      "     |\n",
      "     |  f_blocks\n",
      "     |\n",
      "     |  f_bsize\n",
      "     |\n",
      "     |  f_favail\n",
      "     |\n",
      "     |  f_ffree\n",
      "     |\n",
      "     |  f_files\n",
      "     |\n",
      "     |  f_flag\n",
      "     |\n",
      "     |  f_frsize\n",
      "     |\n",
      "     |  f_fsid\n",
      "     |\n",
      "     |  f_namemax\n",
      "     |\n",
      "     |  ----------------------------------------------------------------------\n",
      "     |  Data and other attributes defined here:\n",
      "     |\n",
      "     |  __match_args__ = ('f_bsize', 'f_frsize', 'f_blocks', 'f_bfree', 'f_bav...\n",
      "     |\n",
      "     |  n_fields = 11\n",
      "     |\n",
      "     |  n_sequence_fields = 10\n",
      "     |\n",
      "     |  n_unnamed_fields = 0\n",
      "     |\n",
      "     |  ----------------------------------------------------------------------\n",
      "     |  Methods inherited from builtins.tuple:\n",
      "     |\n",
      "     |  __add__(self, value, /)\n",
      "     |      Return self+value.\n",
      "     |\n",
      "     |  __contains__(self, key, /)\n",
      "     |      Return bool(key in self).\n",
      "     |\n",
      "     |  __eq__(self, value, /)\n",
      "     |      Return self==value.\n",
      "     |\n",
      "     |  __ge__(self, value, /)\n",
      "     |      Return self>=value.\n",
      "     |\n",
      "     |  __getattribute__(self, name, /)\n",
      "     |      Return getattr(self, name).\n",
      "     |\n",
      "     |  __getitem__(self, key, /)\n",
      "     |      Return self[key].\n",
      "     |\n",
      "     |  __getnewargs__(self, /)\n",
      "     |\n",
      "     |  __gt__(self, value, /)\n",
      "     |      Return self>value.\n",
      "     |\n",
      "     |  __hash__(self, /)\n",
      "     |      Return hash(self).\n",
      "     |\n",
      "     |  __iter__(self, /)\n",
      "     |      Implement iter(self).\n",
      "     |\n",
      "     |  __le__(self, value, /)\n",
      "     |      Return self<=value.\n",
      "     |\n",
      "     |  __len__(self, /)\n",
      "     |      Return len(self).\n",
      "     |\n",
      "     |  __lt__(self, value, /)\n",
      "     |      Return self<value.\n",
      "     |\n",
      "     |  __mul__(self, value, /)\n",
      "     |      Return self*value.\n",
      "     |\n",
      "     |  __ne__(self, value, /)\n",
      "     |      Return self!=value.\n",
      "     |\n",
      "     |  __rmul__(self, value, /)\n",
      "     |      Return value*self.\n",
      "     |\n",
      "     |  count(self, value, /)\n",
      "     |      Return number of occurrences of value.\n",
      "     |\n",
      "     |  index(self, value, start=0, stop=9223372036854775807, /)\n",
      "     |      Return first index of value.\n",
      "     |\n",
      "     |      Raises ValueError if the value is not present.\n",
      "     |\n",
      "     |  ----------------------------------------------------------------------\n",
      "     |  Class methods inherited from builtins.tuple:\n",
      "     |\n",
      "     |  __class_getitem__(...)\n",
      "     |      See PEP 585\n",
      "\n",
      "    class terminal_size(builtins.tuple)\n",
      "     |  terminal_size(iterable=(), /)\n",
      "     |\n",
      "     |  A tuple of (columns, lines) for holding terminal window size\n",
      "     |\n",
      "     |  Method resolution order:\n",
      "     |      terminal_size\n",
      "     |      builtins.tuple\n",
      "     |      builtins.object\n",
      "     |\n",
      "     |  Methods defined here:\n",
      "     |\n",
      "     |  __reduce__(...)\n",
      "     |      Helper for pickle.\n",
      "     |\n",
      "     |  __repr__(self, /)\n",
      "     |      Return repr(self).\n",
      "     |\n",
      "     |  ----------------------------------------------------------------------\n",
      "     |  Static methods defined here:\n",
      "     |\n",
      "     |  __new__(*args, **kwargs)\n",
      "     |      Create and return a new object.  See help(type) for accurate signature.\n",
      "     |\n",
      "     |  ----------------------------------------------------------------------\n",
      "     |  Data descriptors defined here:\n",
      "     |\n",
      "     |  columns\n",
      "     |      width of the terminal window in characters\n",
      "     |\n",
      "     |  lines\n",
      "     |      height of the terminal window in characters\n",
      "     |\n",
      "     |  ----------------------------------------------------------------------\n",
      "     |  Data and other attributes defined here:\n",
      "     |\n",
      "     |  __match_args__ = ('columns', 'lines')\n",
      "     |\n",
      "     |  n_fields = 2\n",
      "     |\n",
      "     |  n_sequence_fields = 2\n",
      "     |\n",
      "     |  n_unnamed_fields = 0\n",
      "     |\n",
      "     |  ----------------------------------------------------------------------\n",
      "     |  Methods inherited from builtins.tuple:\n",
      "     |\n",
      "     |  __add__(self, value, /)\n",
      "     |      Return self+value.\n",
      "     |\n",
      "     |  __contains__(self, key, /)\n",
      "     |      Return bool(key in self).\n",
      "     |\n",
      "     |  __eq__(self, value, /)\n",
      "     |      Return self==value.\n",
      "     |\n",
      "     |  __ge__(self, value, /)\n",
      "     |      Return self>=value.\n",
      "     |\n",
      "     |  __getattribute__(self, name, /)\n",
      "     |      Return getattr(self, name).\n",
      "     |\n",
      "     |  __getitem__(self, key, /)\n",
      "     |      Return self[key].\n",
      "     |\n",
      "     |  __getnewargs__(self, /)\n",
      "     |\n",
      "     |  __gt__(self, value, /)\n",
      "     |      Return self>value.\n",
      "     |\n",
      "     |  __hash__(self, /)\n",
      "     |      Return hash(self).\n",
      "     |\n",
      "     |  __iter__(self, /)\n",
      "     |      Implement iter(self).\n",
      "     |\n",
      "     |  __le__(self, value, /)\n",
      "     |      Return self<=value.\n",
      "     |\n",
      "     |  __len__(self, /)\n",
      "     |      Return len(self).\n",
      "     |\n",
      "     |  __lt__(self, value, /)\n",
      "     |      Return self<value.\n",
      "     |\n",
      "     |  __mul__(self, value, /)\n",
      "     |      Return self*value.\n",
      "     |\n",
      "     |  __ne__(self, value, /)\n",
      "     |      Return self!=value.\n",
      "     |\n",
      "     |  __rmul__(self, value, /)\n",
      "     |      Return value*self.\n",
      "     |\n",
      "     |  count(self, value, /)\n",
      "     |      Return number of occurrences of value.\n",
      "     |\n",
      "     |  index(self, value, start=0, stop=9223372036854775807, /)\n",
      "     |      Return first index of value.\n",
      "     |\n",
      "     |      Raises ValueError if the value is not present.\n",
      "     |\n",
      "     |  ----------------------------------------------------------------------\n",
      "     |  Class methods inherited from builtins.tuple:\n",
      "     |\n",
      "     |  __class_getitem__(...)\n",
      "     |      See PEP 585\n",
      "\n",
      "    class times_result(builtins.tuple)\n",
      "     |  times_result(iterable=(), /)\n",
      "     |\n",
      "     |  times_result: Result from os.times().\n",
      "     |\n",
      "     |  This object may be accessed either as a tuple of\n",
      "     |    (user, system, children_user, children_system, elapsed),\n",
      "     |  or via the attributes user, system, children_user, children_system,\n",
      "     |  and elapsed.\n",
      "     |\n",
      "     |  See os.times for more information.\n",
      "     |\n",
      "     |  Method resolution order:\n",
      "     |      times_result\n",
      "     |      builtins.tuple\n",
      "     |      builtins.object\n",
      "     |\n",
      "     |  Methods defined here:\n",
      "     |\n",
      "     |  __reduce__(...)\n",
      "     |      Helper for pickle.\n",
      "     |\n",
      "     |  __repr__(self, /)\n",
      "     |      Return repr(self).\n",
      "     |\n",
      "     |  ----------------------------------------------------------------------\n",
      "     |  Static methods defined here:\n",
      "     |\n",
      "     |  __new__(*args, **kwargs)\n",
      "     |      Create and return a new object.  See help(type) for accurate signature.\n",
      "     |\n",
      "     |  ----------------------------------------------------------------------\n",
      "     |  Data descriptors defined here:\n",
      "     |\n",
      "     |  children_system\n",
      "     |      system time of children\n",
      "     |\n",
      "     |  children_user\n",
      "     |      user time of children\n",
      "     |\n",
      "     |  elapsed\n",
      "     |      elapsed time since an arbitrary point in the past\n",
      "     |\n",
      "     |  system\n",
      "     |      system time\n",
      "     |\n",
      "     |  user\n",
      "     |      user time\n",
      "     |\n",
      "     |  ----------------------------------------------------------------------\n",
      "     |  Data and other attributes defined here:\n",
      "     |\n",
      "     |  __match_args__ = ('user', 'system', 'children_user', 'children_system'...\n",
      "     |\n",
      "     |  n_fields = 5\n",
      "     |\n",
      "     |  n_sequence_fields = 5\n",
      "     |\n",
      "     |  n_unnamed_fields = 0\n",
      "     |\n",
      "     |  ----------------------------------------------------------------------\n",
      "     |  Methods inherited from builtins.tuple:\n",
      "     |\n",
      "     |  __add__(self, value, /)\n",
      "     |      Return self+value.\n",
      "     |\n",
      "     |  __contains__(self, key, /)\n",
      "     |      Return bool(key in self).\n",
      "     |\n",
      "     |  __eq__(self, value, /)\n",
      "     |      Return self==value.\n",
      "     |\n",
      "     |  __ge__(self, value, /)\n",
      "     |      Return self>=value.\n",
      "     |\n",
      "     |  __getattribute__(self, name, /)\n",
      "     |      Return getattr(self, name).\n",
      "     |\n",
      "     |  __getitem__(self, key, /)\n",
      "     |      Return self[key].\n",
      "     |\n",
      "     |  __getnewargs__(self, /)\n",
      "     |\n",
      "     |  __gt__(self, value, /)\n",
      "     |      Return self>value.\n",
      "     |\n",
      "     |  __hash__(self, /)\n",
      "     |      Return hash(self).\n",
      "     |\n",
      "     |  __iter__(self, /)\n",
      "     |      Implement iter(self).\n",
      "     |\n",
      "     |  __le__(self, value, /)\n",
      "     |      Return self<=value.\n",
      "     |\n",
      "     |  __len__(self, /)\n",
      "     |      Return len(self).\n",
      "     |\n",
      "     |  __lt__(self, value, /)\n",
      "     |      Return self<value.\n",
      "     |\n",
      "     |  __mul__(self, value, /)\n",
      "     |      Return self*value.\n",
      "     |\n",
      "     |  __ne__(self, value, /)\n",
      "     |      Return self!=value.\n",
      "     |\n",
      "     |  __rmul__(self, value, /)\n",
      "     |      Return value*self.\n",
      "     |\n",
      "     |  count(self, value, /)\n",
      "     |      Return number of occurrences of value.\n",
      "     |\n",
      "     |  index(self, value, start=0, stop=9223372036854775807, /)\n",
      "     |      Return first index of value.\n",
      "     |\n",
      "     |      Raises ValueError if the value is not present.\n",
      "     |\n",
      "     |  ----------------------------------------------------------------------\n",
      "     |  Class methods inherited from builtins.tuple:\n",
      "     |\n",
      "     |  __class_getitem__(...)\n",
      "     |      See PEP 585\n",
      "\n",
      "    class uname_result(builtins.tuple)\n",
      "     |  uname_result(iterable=(), /)\n",
      "     |\n",
      "     |  uname_result: Result from os.uname().\n",
      "     |\n",
      "     |  This object may be accessed either as a tuple of\n",
      "     |    (sysname, nodename, release, version, machine),\n",
      "     |  or via the attributes sysname, nodename, release, version, and machine.\n",
      "     |\n",
      "     |  See os.uname for more information.\n",
      "     |\n",
      "     |  Method resolution order:\n",
      "     |      uname_result\n",
      "     |      builtins.tuple\n",
      "     |      builtins.object\n",
      "     |\n",
      "     |  Methods defined here:\n",
      "     |\n",
      "     |  __reduce__(...)\n",
      "     |      Helper for pickle.\n",
      "     |\n",
      "     |  __repr__(self, /)\n",
      "     |      Return repr(self).\n",
      "     |\n",
      "     |  ----------------------------------------------------------------------\n",
      "     |  Static methods defined here:\n",
      "     |\n",
      "     |  __new__(*args, **kwargs)\n",
      "     |      Create and return a new object.  See help(type) for accurate signature.\n",
      "     |\n",
      "     |  ----------------------------------------------------------------------\n",
      "     |  Data descriptors defined here:\n",
      "     |\n",
      "     |  machine\n",
      "     |      hardware identifier\n",
      "     |\n",
      "     |  nodename\n",
      "     |      name of machine on network (implementation-defined)\n",
      "     |\n",
      "     |  release\n",
      "     |      operating system release\n",
      "     |\n",
      "     |  sysname\n",
      "     |      operating system name\n",
      "     |\n",
      "     |  version\n",
      "     |      operating system version\n",
      "     |\n",
      "     |  ----------------------------------------------------------------------\n",
      "     |  Data and other attributes defined here:\n",
      "     |\n",
      "     |  __match_args__ = ('sysname', 'nodename', 'release', 'version', 'machin...\n",
      "     |\n",
      "     |  n_fields = 5\n",
      "     |\n",
      "     |  n_sequence_fields = 5\n",
      "     |\n",
      "     |  n_unnamed_fields = 0\n",
      "     |\n",
      "     |  ----------------------------------------------------------------------\n",
      "     |  Methods inherited from builtins.tuple:\n",
      "     |\n",
      "     |  __add__(self, value, /)\n",
      "     |      Return self+value.\n",
      "     |\n",
      "     |  __contains__(self, key, /)\n",
      "     |      Return bool(key in self).\n",
      "     |\n",
      "     |  __eq__(self, value, /)\n",
      "     |      Return self==value.\n",
      "     |\n",
      "     |  __ge__(self, value, /)\n",
      "     |      Return self>=value.\n",
      "     |\n",
      "     |  __getattribute__(self, name, /)\n",
      "     |      Return getattr(self, name).\n",
      "     |\n",
      "     |  __getitem__(self, key, /)\n",
      "     |      Return self[key].\n",
      "     |\n",
      "     |  __getnewargs__(self, /)\n",
      "     |\n",
      "     |  __gt__(self, value, /)\n",
      "     |      Return self>value.\n",
      "     |\n",
      "     |  __hash__(self, /)\n",
      "     |      Return hash(self).\n",
      "     |\n",
      "     |  __iter__(self, /)\n",
      "     |      Implement iter(self).\n",
      "     |\n",
      "     |  __le__(self, value, /)\n",
      "     |      Return self<=value.\n",
      "     |\n",
      "     |  __len__(self, /)\n",
      "     |      Return len(self).\n",
      "     |\n",
      "     |  __lt__(self, value, /)\n",
      "     |      Return self<value.\n",
      "     |\n",
      "     |  __mul__(self, value, /)\n",
      "     |      Return self*value.\n",
      "     |\n",
      "     |  __ne__(self, value, /)\n",
      "     |      Return self!=value.\n",
      "     |\n",
      "     |  __rmul__(self, value, /)\n",
      "     |      Return value*self.\n",
      "     |\n",
      "     |  count(self, value, /)\n",
      "     |      Return number of occurrences of value.\n",
      "     |\n",
      "     |  index(self, value, start=0, stop=9223372036854775807, /)\n",
      "     |      Return first index of value.\n",
      "     |\n",
      "     |      Raises ValueError if the value is not present.\n",
      "     |\n",
      "     |  ----------------------------------------------------------------------\n",
      "     |  Class methods inherited from builtins.tuple:\n",
      "     |\n",
      "     |  __class_getitem__(...)\n",
      "     |      See PEP 585\n",
      "\n",
      "FUNCTIONS\n",
      "    _exit(status)\n",
      "        Exit to the system with specified status, without normal exit processing.\n",
      "\n",
      "    abort()\n",
      "        Abort the interpreter immediately.\n",
      "\n",
      "        This function 'dumps core' or otherwise fails in the hardest way possible\n",
      "        on the hosting operating system.  This function never returns.\n",
      "\n",
      "    access(path, mode, *, dir_fd=None, effective_ids=False, follow_symlinks=True)\n",
      "        Use the real uid/gid to test for access to a path.\n",
      "\n",
      "          path\n",
      "            Path to be tested; can be string, bytes, or a path-like object.\n",
      "          mode\n",
      "            Operating-system mode bitfield.  Can be F_OK to test existence,\n",
      "            or the inclusive-OR of R_OK, W_OK, and X_OK.\n",
      "          dir_fd\n",
      "            If not None, it should be a file descriptor open to a directory,\n",
      "            and path should be relative; path will then be relative to that\n",
      "            directory.\n",
      "          effective_ids\n",
      "            If True, access will use the effective uid/gid instead of\n",
      "            the real uid/gid.\n",
      "          follow_symlinks\n",
      "            If False, and the last element of the path is a symbolic link,\n",
      "            access will examine the symbolic link itself instead of the file\n",
      "            the link points to.\n",
      "\n",
      "        dir_fd, effective_ids, and follow_symlinks may not be implemented\n",
      "          on your platform.  If they are unavailable, using them will raise a\n",
      "          NotImplementedError.\n",
      "\n",
      "        Note that most operations will use the effective uid/gid, therefore this\n",
      "          routine can be used in a suid/sgid environment to test if the invoking user\n",
      "          has the specified access to the path.\n",
      "\n",
      "    chdir(path)\n",
      "        Change the current working directory to the specified path.\n",
      "\n",
      "        path may always be specified as a string.\n",
      "        On some platforms, path may also be specified as an open file descriptor.\n",
      "          If this functionality is unavailable, using it raises an exception.\n",
      "\n",
      "    chmod(path, mode, *, dir_fd=None, follow_symlinks=True)\n",
      "        Change the access permissions of a file.\n",
      "\n",
      "          path\n",
      "            Path to be modified.  May always be specified as a str, bytes, or a path-like object.\n",
      "            On some platforms, path may also be specified as an open file descriptor.\n",
      "            If this functionality is unavailable, using it raises an exception.\n",
      "          mode\n",
      "            Operating-system mode bitfield.\n",
      "            Be careful when using number literals for *mode*. The conventional UNIX notation for\n",
      "            numeric modes uses an octal base, which needs to be indicated with a ``0o`` prefix in\n",
      "            Python.\n",
      "          dir_fd\n",
      "            If not None, it should be a file descriptor open to a directory,\n",
      "            and path should be relative; path will then be relative to that\n",
      "            directory.\n",
      "          follow_symlinks\n",
      "            If False, and the last element of the path is a symbolic link,\n",
      "            chmod will modify the symbolic link itself instead of the file\n",
      "            the link points to.\n",
      "\n",
      "        It is an error to use dir_fd or follow_symlinks when specifying path as\n",
      "          an open file descriptor.\n",
      "        dir_fd and follow_symlinks may not be implemented on your platform.\n",
      "          If they are unavailable, using them will raise a NotImplementedError.\n",
      "\n",
      "    close(fd)\n",
      "        Close a file descriptor.\n",
      "\n",
      "    closerange(fd_low, fd_high, /)\n",
      "        Closes all file descriptors in [fd_low, fd_high), ignoring errors.\n",
      "\n",
      "    cpu_count()\n",
      "        Return the number of CPUs in the system; return None if indeterminable.\n",
      "\n",
      "        This number is not equivalent to the number of CPUs the current process can\n",
      "        use.  The number of usable CPUs can be obtained with\n",
      "        ``len(os.sched_getaffinity(0))``\n",
      "\n",
      "    device_encoding(fd)\n",
      "        Return a string describing the encoding of a terminal's file descriptor.\n",
      "\n",
      "        The file descriptor must be attached to a terminal.\n",
      "        If the device is not a terminal, return None.\n",
      "\n",
      "    dup(fd, /)\n",
      "        Return a duplicate of a file descriptor.\n",
      "\n",
      "    dup2(fd, fd2, inheritable=True)\n",
      "        Duplicate file descriptor.\n",
      "\n",
      "    execl(file, *args)\n",
      "        execl(file, *args)\n",
      "\n",
      "        Execute the executable file with argument list args, replacing the\n",
      "        current process.\n",
      "\n",
      "    execle(file, *args)\n",
      "        execle(file, *args, env)\n",
      "\n",
      "        Execute the executable file with argument list args and\n",
      "        environment env, replacing the current process.\n",
      "\n",
      "    execlp(file, *args)\n",
      "        execlp(file, *args)\n",
      "\n",
      "        Execute the executable file (which is searched for along $PATH)\n",
      "        with argument list args, replacing the current process.\n",
      "\n",
      "    execlpe(file, *args)\n",
      "        execlpe(file, *args, env)\n",
      "\n",
      "        Execute the executable file (which is searched for along $PATH)\n",
      "        with argument list args and environment env, replacing the current\n",
      "        process.\n",
      "\n",
      "    execv(path, argv, /)\n",
      "        Execute an executable path with arguments, replacing current process.\n",
      "\n",
      "        path\n",
      "          Path of executable file.\n",
      "        argv\n",
      "          Tuple or list of strings.\n",
      "\n",
      "    execve(path, argv, env)\n",
      "        Execute an executable path with arguments, replacing current process.\n",
      "\n",
      "        path\n",
      "          Path of executable file.\n",
      "        argv\n",
      "          Tuple or list of strings.\n",
      "        env\n",
      "          Dictionary of strings mapping to strings.\n",
      "\n",
      "    execvp(file, args)\n",
      "        execvp(file, args)\n",
      "\n",
      "        Execute the executable file (which is searched for along $PATH)\n",
      "        with argument list args, replacing the current process.\n",
      "        args may be a list or tuple of strings.\n",
      "\n",
      "    execvpe(file, args, env)\n",
      "        execvpe(file, args, env)\n",
      "\n",
      "        Execute the executable file (which is searched for along $PATH)\n",
      "        with argument list args and environment env, replacing the\n",
      "        current process.\n",
      "        args may be a list or tuple of strings.\n",
      "\n",
      "    fdopen(fd, mode='r', buffering=-1, encoding=None, *args, **kwargs)\n",
      "\n",
      "    fsdecode(filename)\n",
      "        Decode filename (an os.PathLike, bytes, or str) from the filesystem\n",
      "        encoding with 'surrogateescape' error handler, return str unchanged. On\n",
      "        Windows, use 'strict' error handler if the file system encoding is\n",
      "        'mbcs' (which is the default encoding).\n",
      "\n",
      "    fsencode(filename)\n",
      "        Encode filename (an os.PathLike, bytes, or str) to the filesystem\n",
      "        encoding with 'surrogateescape' error handler, return bytes unchanged.\n",
      "        On Windows, use 'strict' error handler if the file system encoding is\n",
      "        'mbcs' (which is the default encoding).\n",
      "\n",
      "    fspath(path)\n",
      "        Return the file system path representation of the object.\n",
      "\n",
      "        If the object is str or bytes, then allow it to pass through as-is. If the\n",
      "        object defines __fspath__(), then return the result of that method. All other\n",
      "        types raise a TypeError.\n",
      "\n",
      "    fstat(fd)\n",
      "        Perform a stat system call on the given file descriptor.\n",
      "\n",
      "        Like stat(), but for an open file descriptor.\n",
      "        Equivalent to os.stat(fd).\n",
      "\n",
      "    fsync(fd)\n",
      "        Force write of fd to disk.\n",
      "\n",
      "    ftruncate(fd, length, /)\n",
      "        Truncate a file, specified by file descriptor, to a specific length.\n",
      "\n",
      "    get_blocking(fd, /)\n",
      "        Get the blocking mode of the file descriptor.\n",
      "\n",
      "        Return False if the O_NONBLOCK flag is set, True if the flag is cleared.\n",
      "\n",
      "    get_exec_path(env=None)\n",
      "        Returns the sequence of directories that will be searched for the\n",
      "        named executable (similar to a shell) when launching a process.\n",
      "\n",
      "        *env* must be an environment variable dict or None.  If *env* is None,\n",
      "        os.environ will be used.\n",
      "\n",
      "    get_handle_inheritable(handle, /)\n",
      "        Get the close-on-exe flag of the specified file descriptor.\n",
      "\n",
      "    get_inheritable(fd, /)\n",
      "        Get the close-on-exe flag of the specified file descriptor.\n",
      "\n",
      "    get_terminal_size(...)\n",
      "        Return the size of the terminal window as (columns, lines).\n",
      "\n",
      "        The optional argument fd (default standard output) specifies\n",
      "        which file descriptor should be queried.\n",
      "\n",
      "        If the file descriptor is not connected to a terminal, an OSError\n",
      "        is thrown.\n",
      "\n",
      "        This function will only be defined if an implementation is\n",
      "        available for this system.\n",
      "\n",
      "        shutil.get_terminal_size is the high-level function which should\n",
      "        normally be used, os.get_terminal_size is the low-level implementation.\n",
      "\n",
      "    getcwd()\n",
      "        Return a unicode string representing the current working directory.\n",
      "\n",
      "    getcwdb()\n",
      "        Return a bytes string representing the current working directory.\n",
      "\n",
      "    getenv(key, default=None)\n",
      "        Get an environment variable, return None if it doesn't exist.\n",
      "        The optional second argument can specify an alternate default.\n",
      "        key, default and the result are str.\n",
      "\n",
      "    getlogin()\n",
      "        Return the actual login name.\n",
      "\n",
      "    getpid()\n",
      "        Return the current process id.\n",
      "\n",
      "    getppid()\n",
      "        Return the parent's process id.\n",
      "\n",
      "        If the parent process has already exited, Windows machines will still\n",
      "        return its id; others systems will return the id of the 'init' process (1).\n",
      "\n",
      "    isatty(fd, /)\n",
      "        Return True if the fd is connected to a terminal.\n",
      "\n",
      "        Return True if the file descriptor is an open file descriptor\n",
      "        connected to the slave end of a terminal.\n",
      "\n",
      "    kill(pid, signal, /)\n",
      "        Kill a process with a signal.\n",
      "\n",
      "    link(src, dst, *, src_dir_fd=None, dst_dir_fd=None, follow_symlinks=True)\n",
      "        Create a hard link to a file.\n",
      "\n",
      "        If either src_dir_fd or dst_dir_fd is not None, it should be a file\n",
      "          descriptor open to a directory, and the respective path string (src or dst)\n",
      "          should be relative; the path will then be relative to that directory.\n",
      "        If follow_symlinks is False, and the last element of src is a symbolic\n",
      "          link, link will create a link to the symbolic link itself instead of the\n",
      "          file the link points to.\n",
      "        src_dir_fd, dst_dir_fd, and follow_symlinks may not be implemented on your\n",
      "          platform.  If they are unavailable, using them will raise a\n",
      "          NotImplementedError.\n",
      "\n",
      "    listdir(path=None)\n",
      "        Return a list containing the names of the files in the directory.\n",
      "\n",
      "        path can be specified as either str, bytes, or a path-like object.  If path is bytes,\n",
      "          the filenames returned will also be bytes; in all other circumstances\n",
      "          the filenames returned will be str.\n",
      "        If path is None, uses the path='.'.\n",
      "        On some platforms, path may also be specified as an open file descriptor;\\\n",
      "          the file descriptor must refer to a directory.\n",
      "          If this functionality is unavailable, using it raises NotImplementedError.\n",
      "\n",
      "        The list is in arbitrary order.  It does not include the special\n",
      "        entries '.' and '..' even if they are present in the directory.\n",
      "\n",
      "    listdrives()\n",
      "        Return a list containing the names of drives in the system.\n",
      "\n",
      "        A drive name typically looks like 'C:\\\\'.\n",
      "\n",
      "    listmounts(volume)\n",
      "        Return a list containing mount points for a particular volume.\n",
      "\n",
      "        'volume' should be a GUID path as returned from os.listvolumes.\n",
      "\n",
      "    listvolumes()\n",
      "        Return a list containing the volumes in the system.\n",
      "\n",
      "        Volumes are typically represented as a GUID path.\n",
      "\n",
      "    lseek(fd, position, whence, /)\n",
      "        Set the position of a file descriptor.  Return the new position.\n",
      "\n",
      "          fd\n",
      "            An open file descriptor, as returned by os.open().\n",
      "          position\n",
      "            Position, interpreted relative to 'whence'.\n",
      "          whence\n",
      "            The relative position to seek from. Valid values are:\n",
      "            - SEEK_SET: seek from the start of the file.\n",
      "            - SEEK_CUR: seek from the current file position.\n",
      "            - SEEK_END: seek from the end of the file.\n",
      "\n",
      "        The return value is the number of bytes relative to the beginning of the file.\n",
      "\n",
      "    lstat(path, *, dir_fd=None)\n",
      "        Perform a stat system call on the given path, without following symbolic links.\n",
      "\n",
      "        Like stat(), but do not follow symbolic links.\n",
      "        Equivalent to stat(path, follow_symlinks=False).\n",
      "\n",
      "    makedirs(name, mode=511, exist_ok=False)\n",
      "        makedirs(name [, mode=0o777][, exist_ok=False])\n",
      "\n",
      "        Super-mkdir; create a leaf directory and all intermediate ones.  Works like\n",
      "        mkdir, except that any intermediate path segment (not just the rightmost)\n",
      "        will be created if it does not exist. If the target directory already\n",
      "        exists, raise an OSError if exist_ok is False. Otherwise no exception is\n",
      "        raised.  This is recursive.\n",
      "\n",
      "    mkdir(path, mode=511, *, dir_fd=None)\n",
      "        Create a directory.\n",
      "\n",
      "        If dir_fd is not None, it should be a file descriptor open to a directory,\n",
      "          and path should be relative; path will then be relative to that directory.\n",
      "        dir_fd may not be implemented on your platform.\n",
      "          If it is unavailable, using it will raise a NotImplementedError.\n",
      "\n",
      "        The mode argument is ignored on Windows. Where it is used, the current umask\n",
      "        value is first masked out.\n",
      "\n",
      "    open(path, flags, mode=511, *, dir_fd=None)\n",
      "        Open a file for low level IO.  Returns a file descriptor (integer).\n",
      "\n",
      "        If dir_fd is not None, it should be a file descriptor open to a directory,\n",
      "          and path should be relative; path will then be relative to that directory.\n",
      "        dir_fd may not be implemented on your platform.\n",
      "          If it is unavailable, using it will raise a NotImplementedError.\n",
      "\n",
      "    pipe()\n",
      "        Create a pipe.\n",
      "\n",
      "        Returns a tuple of two file descriptors:\n",
      "          (read_fd, write_fd)\n",
      "\n",
      "    popen(cmd, mode='r', buffering=-1)\n",
      "\n",
      "    putenv(name, value, /)\n",
      "        Change or add an environment variable.\n",
      "\n",
      "    read(fd, length, /)\n",
      "        Read from a file descriptor.  Returns a bytes object.\n",
      "\n",
      "    readlink(path, *, dir_fd=None)\n",
      "        Return a string representing the path to which the symbolic link points.\n",
      "\n",
      "        If dir_fd is not None, it should be a file descriptor open to a directory,\n",
      "        and path should be relative; path will then be relative to that directory.\n",
      "\n",
      "        dir_fd may not be implemented on your platform.  If it is unavailable,\n",
      "        using it will raise a NotImplementedError.\n",
      "\n",
      "    remove(path, *, dir_fd=None)\n",
      "        Remove a file (same as unlink()).\n",
      "\n",
      "        If dir_fd is not None, it should be a file descriptor open to a directory,\n",
      "          and path should be relative; path will then be relative to that directory.\n",
      "        dir_fd may not be implemented on your platform.\n",
      "          If it is unavailable, using it will raise a NotImplementedError.\n",
      "\n",
      "    removedirs(name)\n",
      "        removedirs(name)\n",
      "\n",
      "        Super-rmdir; remove a leaf directory and all empty intermediate\n",
      "        ones.  Works like rmdir except that, if the leaf directory is\n",
      "        successfully removed, directories corresponding to rightmost path\n",
      "        segments will be pruned away until either the whole path is\n",
      "        consumed or an error occurs.  Errors during this latter phase are\n",
      "        ignored -- they generally mean that a directory was not empty.\n",
      "\n",
      "    rename(src, dst, *, src_dir_fd=None, dst_dir_fd=None)\n",
      "        Rename a file or directory.\n",
      "\n",
      "        If either src_dir_fd or dst_dir_fd is not None, it should be a file\n",
      "          descriptor open to a directory, and the respective path string (src or dst)\n",
      "          should be relative; the path will then be relative to that directory.\n",
      "        src_dir_fd and dst_dir_fd, may not be implemented on your platform.\n",
      "          If they are unavailable, using them will raise a NotImplementedError.\n",
      "\n",
      "    renames(old, new)\n",
      "        renames(old, new)\n",
      "\n",
      "        Super-rename; create directories as necessary and delete any left\n",
      "        empty.  Works like rename, except creation of any intermediate\n",
      "        directories needed to make the new pathname good is attempted\n",
      "        first.  After the rename, directories corresponding to rightmost\n",
      "        path segments of the old name will be pruned until either the\n",
      "        whole path is consumed or a nonempty directory is found.\n",
      "\n",
      "        Note: this function can fail with the new directory structure made\n",
      "        if you lack permissions needed to unlink the leaf directory or\n",
      "        file.\n",
      "\n",
      "    replace(src, dst, *, src_dir_fd=None, dst_dir_fd=None)\n",
      "        Rename a file or directory, overwriting the destination.\n",
      "\n",
      "        If either src_dir_fd or dst_dir_fd is not None, it should be a file\n",
      "          descriptor open to a directory, and the respective path string (src or dst)\n",
      "          should be relative; the path will then be relative to that directory.\n",
      "        src_dir_fd and dst_dir_fd, may not be implemented on your platform.\n",
      "          If they are unavailable, using them will raise a NotImplementedError.\n",
      "\n",
      "    rmdir(path, *, dir_fd=None)\n",
      "        Remove a directory.\n",
      "\n",
      "        If dir_fd is not None, it should be a file descriptor open to a directory,\n",
      "          and path should be relative; path will then be relative to that directory.\n",
      "        dir_fd may not be implemented on your platform.\n",
      "          If it is unavailable, using it will raise a NotImplementedError.\n",
      "\n",
      "    scandir(path=None)\n",
      "        Return an iterator of DirEntry objects for given path.\n",
      "\n",
      "        path can be specified as either str, bytes, or a path-like object.  If path\n",
      "        is bytes, the names of yielded DirEntry objects will also be bytes; in\n",
      "        all other circumstances they will be str.\n",
      "\n",
      "        If path is None, uses the path='.'.\n",
      "\n",
      "    set_blocking(fd, blocking, /)\n",
      "        Set the blocking mode of the specified file descriptor.\n",
      "\n",
      "        Set the O_NONBLOCK flag if blocking is False,\n",
      "        clear the O_NONBLOCK flag otherwise.\n",
      "\n",
      "    set_handle_inheritable(handle, inheritable, /)\n",
      "        Set the inheritable flag of the specified handle.\n",
      "\n",
      "    set_inheritable(fd, inheritable, /)\n",
      "        Set the inheritable flag of the specified file descriptor.\n",
      "\n",
      "    spawnl(mode, file, *args)\n",
      "        spawnl(mode, file, *args) -> integer\n",
      "\n",
      "        Execute file with arguments from args in a subprocess.\n",
      "        If mode == P_NOWAIT return the pid of the process.\n",
      "        If mode == P_WAIT return the process's exit code if it exits normally;\n",
      "        otherwise return -SIG, where SIG is the signal that killed it.\n",
      "\n",
      "    spawnle(mode, file, *args)\n",
      "        spawnle(mode, file, *args, env) -> integer\n",
      "\n",
      "        Execute file with arguments from args in a subprocess with the\n",
      "        supplied environment.\n",
      "        If mode == P_NOWAIT return the pid of the process.\n",
      "        If mode == P_WAIT return the process's exit code if it exits normally;\n",
      "        otherwise return -SIG, where SIG is the signal that killed it.\n",
      "\n",
      "    spawnv(mode, path, argv, /)\n",
      "        Execute the program specified by path in a new process.\n",
      "\n",
      "        mode\n",
      "          Mode of process creation.\n",
      "        path\n",
      "          Path of executable file.\n",
      "        argv\n",
      "          Tuple or list of strings.\n",
      "\n",
      "    spawnve(mode, path, argv, env, /)\n",
      "        Execute the program specified by path in a new process.\n",
      "\n",
      "        mode\n",
      "          Mode of process creation.\n",
      "        path\n",
      "          Path of executable file.\n",
      "        argv\n",
      "          Tuple or list of strings.\n",
      "        env\n",
      "          Dictionary of strings mapping to strings.\n",
      "\n",
      "    startfile(...)\n",
      "        Start a file with its associated application.\n",
      "\n",
      "        When \"operation\" is not specified or \"open\", this acts like\n",
      "        double-clicking the file in Explorer, or giving the file name as an\n",
      "        argument to the DOS \"start\" command: the file is opened with whatever\n",
      "        application (if any) its extension is associated.\n",
      "        When another \"operation\" is given, it specifies what should be done with\n",
      "        the file.  A typical operation is \"print\".\n",
      "\n",
      "        \"arguments\" is passed to the application, but should be omitted if the\n",
      "        file is a document.\n",
      "\n",
      "        \"cwd\" is the working directory for the operation. If \"filepath\" is\n",
      "        relative, it will be resolved against this directory. This argument\n",
      "        should usually be an absolute path.\n",
      "\n",
      "        \"show_cmd\" can be used to override the recommended visibility option.\n",
      "        See the Windows ShellExecute documentation for values.\n",
      "\n",
      "        startfile returns as soon as the associated application is launched.\n",
      "        There is no option to wait for the application to close, and no way\n",
      "        to retrieve the application's exit status.\n",
      "\n",
      "        The filepath is relative to the current directory.  If you want to use\n",
      "        an absolute path, make sure the first character is not a slash (\"/\");\n",
      "        the underlying Win32 ShellExecute function doesn't work if it is.\n",
      "\n",
      "    stat(path, *, dir_fd=None, follow_symlinks=True)\n",
      "        Perform a stat system call on the given path.\n",
      "\n",
      "          path\n",
      "            Path to be examined; can be string, bytes, a path-like object or\n",
      "            open-file-descriptor int.\n",
      "          dir_fd\n",
      "            If not None, it should be a file descriptor open to a directory,\n",
      "            and path should be a relative string; path will then be relative to\n",
      "            that directory.\n",
      "          follow_symlinks\n",
      "            If False, and the last element of the path is a symbolic link,\n",
      "            stat will examine the symbolic link itself instead of the file\n",
      "            the link points to.\n",
      "\n",
      "        dir_fd and follow_symlinks may not be implemented\n",
      "          on your platform.  If they are unavailable, using them will raise a\n",
      "          NotImplementedError.\n",
      "\n",
      "        It's an error to use dir_fd or follow_symlinks when specifying path as\n",
      "          an open file descriptor.\n",
      "\n",
      "    strerror(code, /)\n",
      "        Translate an error code to a message string.\n",
      "\n",
      "    symlink(src, dst, target_is_directory=False, *, dir_fd=None)\n",
      "        Create a symbolic link pointing to src named dst.\n",
      "\n",
      "        target_is_directory is required on Windows if the target is to be\n",
      "          interpreted as a directory.  (On Windows, symlink requires\n",
      "          Windows 6.0 or greater, and raises a NotImplementedError otherwise.)\n",
      "          target_is_directory is ignored on non-Windows platforms.\n",
      "\n",
      "        If dir_fd is not None, it should be a file descriptor open to a directory,\n",
      "          and path should be relative; path will then be relative to that directory.\n",
      "        dir_fd may not be implemented on your platform.\n",
      "          If it is unavailable, using it will raise a NotImplementedError.\n",
      "\n",
      "    system(command)\n",
      "        Execute the command in a subshell.\n",
      "\n",
      "    times()\n",
      "        Return a collection containing process timing information.\n",
      "\n",
      "        The object returned behaves like a named tuple with these fields:\n",
      "          (utime, stime, cutime, cstime, elapsed_time)\n",
      "        All fields are floating-point numbers.\n",
      "\n",
      "    truncate(path, length)\n",
      "        Truncate a file, specified by path, to a specific length.\n",
      "\n",
      "        On some platforms, path may also be specified as an open file descriptor.\n",
      "          If this functionality is unavailable, using it raises an exception.\n",
      "\n",
      "    umask(mask, /)\n",
      "        Set the current numeric umask and return the previous umask.\n",
      "\n",
      "    unlink(path, *, dir_fd=None)\n",
      "        Remove a file (same as remove()).\n",
      "\n",
      "        If dir_fd is not None, it should be a file descriptor open to a directory,\n",
      "          and path should be relative; path will then be relative to that directory.\n",
      "        dir_fd may not be implemented on your platform.\n",
      "          If it is unavailable, using it will raise a NotImplementedError.\n",
      "\n",
      "    unsetenv(name, /)\n",
      "        Delete an environment variable.\n",
      "\n",
      "    urandom(size, /)\n",
      "        Return a bytes object containing random bytes suitable for cryptographic use.\n",
      "\n",
      "    utime(...)\n",
      "        Set the access and modified time of path.\n",
      "\n",
      "        path may always be specified as a string.\n",
      "        On some platforms, path may also be specified as an open file descriptor.\n",
      "          If this functionality is unavailable, using it raises an exception.\n",
      "\n",
      "        If times is not None, it must be a tuple (atime, mtime);\n",
      "            atime and mtime should be expressed as float seconds since the epoch.\n",
      "        If ns is specified, it must be a tuple (atime_ns, mtime_ns);\n",
      "            atime_ns and mtime_ns should be expressed as integer nanoseconds\n",
      "            since the epoch.\n",
      "        If times is None and ns is unspecified, utime uses the current time.\n",
      "        Specifying tuples for both times and ns is an error.\n",
      "\n",
      "        If dir_fd is not None, it should be a file descriptor open to a directory,\n",
      "          and path should be relative; path will then be relative to that directory.\n",
      "        If follow_symlinks is False, and the last element of the path is a symbolic\n",
      "          link, utime will modify the symbolic link itself instead of the file the\n",
      "          link points to.\n",
      "        It is an error to use dir_fd or follow_symlinks when specifying path\n",
      "          as an open file descriptor.\n",
      "        dir_fd and follow_symlinks may not be available on your platform.\n",
      "          If they are unavailable, using them will raise a NotImplementedError.\n",
      "\n",
      "    waitpid(pid, options, /)\n",
      "        Wait for completion of a given process.\n",
      "\n",
      "        Returns a tuple of information regarding the process:\n",
      "            (pid, status << 8)\n",
      "\n",
      "        The options argument is ignored on Windows.\n",
      "\n",
      "    waitstatus_to_exitcode(status)\n",
      "        Convert a wait status to an exit code.\n",
      "\n",
      "        On Unix:\n",
      "\n",
      "        * If WIFEXITED(status) is true, return WEXITSTATUS(status).\n",
      "        * If WIFSIGNALED(status) is true, return -WTERMSIG(status).\n",
      "        * Otherwise, raise a ValueError.\n",
      "\n",
      "        On Windows, return status shifted right by 8 bits.\n",
      "\n",
      "        On Unix, if the process is being traced or if waitpid() was called with\n",
      "        WUNTRACED option, the caller must first check if WIFSTOPPED(status) is true.\n",
      "        This function must not be called if WIFSTOPPED(status) is true.\n",
      "\n",
      "    walk(top, topdown=True, onerror=None, followlinks=False)\n",
      "        Directory tree generator.\n",
      "\n",
      "        For each directory in the directory tree rooted at top (including top\n",
      "        itself, but excluding '.' and '..'), yields a 3-tuple\n",
      "\n",
      "            dirpath, dirnames, filenames\n",
      "\n",
      "        dirpath is a string, the path to the directory.  dirnames is a list of\n",
      "        the names of the subdirectories in dirpath (including symlinks to directories,\n",
      "        and excluding '.' and '..').\n",
      "        filenames is a list of the names of the non-directory files in dirpath.\n",
      "        Note that the names in the lists are just names, with no path components.\n",
      "        To get a full path (which begins with top) to a file or directory in\n",
      "        dirpath, do os.path.join(dirpath, name).\n",
      "\n",
      "        If optional arg 'topdown' is true or not specified, the triple for a\n",
      "        directory is generated before the triples for any of its subdirectories\n",
      "        (directories are generated top down).  If topdown is false, the triple\n",
      "        for a directory is generated after the triples for all of its\n",
      "        subdirectories (directories are generated bottom up).\n",
      "\n",
      "        When topdown is true, the caller can modify the dirnames list in-place\n",
      "        (e.g., via del or slice assignment), and walk will only recurse into the\n",
      "        subdirectories whose names remain in dirnames; this can be used to prune the\n",
      "        search, or to impose a specific order of visiting.  Modifying dirnames when\n",
      "        topdown is false has no effect on the behavior of os.walk(), since the\n",
      "        directories in dirnames have already been generated by the time dirnames\n",
      "        itself is generated. No matter the value of topdown, the list of\n",
      "        subdirectories is retrieved before the tuples for the directory and its\n",
      "        subdirectories are generated.\n",
      "\n",
      "        By default errors from the os.scandir() call are ignored.  If\n",
      "        optional arg 'onerror' is specified, it should be a function; it\n",
      "        will be called with one argument, an OSError instance.  It can\n",
      "        report the error to continue with the walk, or raise the exception\n",
      "        to abort the walk.  Note that the filename is available as the\n",
      "        filename attribute of the exception object.\n",
      "\n",
      "        By default, os.walk does not follow symbolic links to subdirectories on\n",
      "        systems that support them.  In order to get this functionality, set the\n",
      "        optional argument 'followlinks' to true.\n",
      "\n",
      "        Caution:  if you pass a relative pathname for top, don't change the\n",
      "        current working directory between resumptions of walk.  walk never\n",
      "        changes the current directory, and assumes that the client doesn't\n",
      "        either.\n",
      "\n",
      "        Example:\n",
      "\n",
      "        import os\n",
      "        from os.path import join, getsize\n",
      "        for root, dirs, files in os.walk('python/Lib/email'):\n",
      "            print(root, \"consumes \")\n",
      "            print(sum(getsize(join(root, name)) for name in files), end=\" \")\n",
      "            print(\"bytes in\", len(files), \"non-directory files\")\n",
      "            if 'CVS' in dirs:\n",
      "                dirs.remove('CVS')  # don't visit CVS directories\n",
      "\n",
      "    write(fd, data, /)\n",
      "        Write a bytes object to a file descriptor.\n",
      "\n",
      "DATA\n",
      "    EX_OK = 0\n",
      "    F_OK = 0\n",
      "    O_APPEND = 8\n",
      "    O_BINARY = 32768\n",
      "    O_CREAT = 256\n",
      "    O_EXCL = 1024\n",
      "    O_NOINHERIT = 128\n",
      "    O_RANDOM = 16\n",
      "    O_RDONLY = 0\n",
      "    O_RDWR = 2\n",
      "    O_SEQUENTIAL = 32\n",
      "    O_SHORT_LIVED = 4096\n",
      "    O_TEMPORARY = 64\n",
      "    O_TEXT = 16384\n",
      "    O_TRUNC = 512\n",
      "    O_WRONLY = 1\n",
      "    P_DETACH = 4\n",
      "    P_NOWAIT = 1\n",
      "    P_NOWAITO = 3\n",
      "    P_OVERLAY = 2\n",
      "    P_WAIT = 0\n",
      "    R_OK = 4\n",
      "    SEEK_CUR = 1\n",
      "    SEEK_END = 2\n",
      "    SEEK_SET = 0\n",
      "    TMP_MAX = 2147483647\n",
      "    W_OK = 2\n",
      "    X_OK = 1\n",
      "    __all__ = ['altsep', 'curdir', 'pardir', 'sep', 'pathsep', 'linesep', ...\n",
      "    altsep = '/'\n",
      "    curdir = '.'\n",
      "    defpath = r'.;C:\\bin'\n",
      "    devnull = 'nul'\n",
      "    environ = environ({'ALLUSERSPROFILE': 'C:\\\\ProgramData', '...D': 'modu...\n",
      "    extsep = '.'\n",
      "    linesep = '\\r\\n'\n",
      "    name = 'nt'\n",
      "    pardir = '..'\n",
      "    pathsep = ';'\n",
      "    sep = r'\\'\n",
      "    supports_bytes_environ = False\n",
      "\n",
      "FILE\n",
      "    c:\\users\\ashulah\\anaconda3\\lib\\os.py\n",
      "\n",
      "\n"
     ]
    }
   ],
   "source": [
    "help(os)"
   ]
  },
  {
   "cell_type": "code",
   "execution_count": 410,
   "id": "24691ecd-4dfb-4ca2-ab6e-d02c2ac44bfb",
   "metadata": {},
   "outputs": [
    {
     "ename": "UnsupportedOperation",
     "evalue": "not writable",
     "output_type": "error",
     "traceback": [
      "\u001b[1;31m---------------------------------------------------------------------------\u001b[0m",
      "\u001b[1;31mUnsupportedOperation\u001b[0m                      Traceback (most recent call last)",
      "Cell \u001b[1;32mIn[410], line 3\u001b[0m\n\u001b[0;32m      1\u001b[0m \u001b[38;5;66;03m# output_pos.path.join('data', 'data.txt')\u001b[39;00m\n\u001b[0;32m      2\u001b[0m \u001b[38;5;28;01mwith\u001b[39;00m \u001b[38;5;28mopen\u001b[39m(\u001b[38;5;124mr\u001b[39m\u001b[38;5;124m\"\u001b[39m\u001b[38;5;124mdata/output.txt\u001b[39m\u001b[38;5;124m\"\u001b[39m, \u001b[38;5;124m\"\u001b[39m\u001b[38;5;124mr\u001b[39m\u001b[38;5;124m\"\u001b[39m) \u001b[38;5;28;01mas\u001b[39;00m f:\n\u001b[1;32m----> 3\u001b[0m  f\u001b[38;5;241m.\u001b[39mwrite(\u001b[38;5;124m\"\u001b[39m\u001b[38;5;124mThis is some text in my file.\u001b[39m\u001b[38;5;124m\"\u001b[39m)\n",
      "\u001b[1;31mUnsupportedOperation\u001b[0m: not writable"
     ]
    }
   ],
   "source": [
    "# output_pos.path.join('data', 'data.txt')\n",
    "with open(\"output.txt\", \"r\") as f:\n",
    " f.write(\"This is some text in my file.\")"
   ]
  },
  {
   "cell_type": "markdown",
   "id": "22a89625-2e33-4948-8af3-6a0eeb4c0bba",
   "metadata": {},
   "source": [
    "### exercise 19"
   ]
  },
  {
   "cell_type": "code",
   "execution_count": 70,
   "id": "cb7f9f68-f08d-41ae-a6b3-9c8f9b797a6e",
   "metadata": {},
   "outputs": [
    {
     "name": "stdout",
     "output_type": "stream",
     "text": [
      "Name,Age,Score\n",
      "Alice,23,85\n",
      "Bob,30,90\n",
      "Charlie,25,88\n"
     ]
    }
   ],
   "source": [
    "data = \"\"\"Name,Age,Score\n",
    "Alice,23,85\n",
    "Bob,30,90\n",
    "Charlie,25,88\"\"\"\n",
    "\n",
    "with open(\"data.txt\", \"w\") as f:\n",
    "    f.write(data)\n",
    "\n",
    "# Then read and print the file line by line\n",
    "with open(\"data.txt\") as f:\n",
    "    for line in f:\n",
    "        print(line.strip())\n"
   ]
  },
  {
   "cell_type": "markdown",
   "id": "a1fa6fd2-ab40-448e-9d8d-c74b3fdedaff",
   "metadata": {},
   "source": [
    "## Exercise 20"
   ]
  },
  {
   "cell_type": "code",
   "execution_count": 80,
   "id": "3df4bc5c-620a-45fc-97af-a6cefbd3a9d1",
   "metadata": {},
   "outputs": [],
   "source": [
    "import os\n",
    "\n",
    "with open(\"example.txt\", \"a\") as f:  # 'a' mode for append\n",
    "    f.write(\"This is an example text file used for demonstration.\\n\")\n"
   ]
  },
  {
   "cell_type": "markdown",
   "id": "d60d9988-0f57-4801-bc20-9f0d682faaaa",
   "metadata": {},
   "source": [
    "### Exercise21"
   ]
  },
  {
   "cell_type": "code",
   "execution_count": 82,
   "id": "ec8461e1-576c-41c4-bebe-8c9d824208f8",
   "metadata": {},
   "outputs": [],
   "source": [
    "with open(\"notes.txt\", \"a\") as f:\n",
    "    f.write(\"\\nThis is a new line\")\n"
   ]
  },
  {
   "cell_type": "markdown",
   "id": "349438a3-0e92-4b7f-be76-ef0967e64b99",
   "metadata": {},
   "source": [
    "## Exercise 22"
   ]
  },
  {
   "cell_type": "code",
   "execution_count": 91,
   "id": "ed6bc493-e2cb-4687-9a3e-b9b0a9b03f25",
   "metadata": {},
   "outputs": [],
   "source": [
    "new_entries = [\n",
    "    \"2024-05-20 10:00:00 INFO Program started\",\n",
    "    \"2024-05-20 10:05:00 ERROR Invalid input\"\n",
    "]\n",
    "\n",
    "with open(\"log.txt\", \"a\") as f:  # 'a' mode appends to existing file\n",
    "    for entry in new_entries:\n",
    "        f.write(entry + \"\\n\")"
   ]
  },
  {
   "cell_type": "markdown",
   "id": "7348ad19-7d22-4be5-9431-bb4c756220ba",
   "metadata": {},
   "source": [
    "### Exercise 23"
   ]
  },
  {
   "cell_type": "code",
   "execution_count": 106,
   "id": "0b4d5461-4f1e-41e4-b33f-4c645bfcde0b",
   "metadata": {},
   "outputs": [],
   "source": [
    "report_data = \"\"\"Report Title: Data Analysis Summary\n",
    "Date: 2024-05-20\"\"\"\n",
    "\n",
    "# Write to the file (will create new file or overwrite existing one)\n",
    "with open(\"report.txt\", \"w\") as f:\n",
    "    f.write(\"report_data analysis\")\n"
   ]
  },
  {
   "cell_type": "markdown",
   "id": "2c30cdd2-a2c6-4be4-956b-0815ccb9e693",
   "metadata": {},
   "source": [
    "### Exercise 24"
   ]
  },
  {
   "cell_type": "code",
   "execution_count": 96,
   "id": "acea9f5d-6225-4290-960d-3bb6ac549b62",
   "metadata": {},
   "outputs": [],
   "source": [
    "with open(\"log.txt\") as f:\n",
    "    content = f.read()\n",
    "with open(\"log.txt\", \"w\") as f:\n",
    "    f.write(content.replace(\"error\", \"issue\"))"
   ]
  },
  {
   "cell_type": "markdown",
   "id": "7431736f-229e-4fa7-825f-62436f112c9b",
   "metadata": {},
   "source": [
    "### Exercise 25"
   ]
  },
  {
   "cell_type": "code",
   "execution_count": 112,
   "id": "26950149-a9d7-4b78-ba18-92136f83b15d",
   "metadata": {},
   "outputs": [
    {
     "name": "stdout",
     "output_type": "stream",
     "text": [
      "The document contains 12 words.\n"
     ]
    }
   ],
   "source": [
    "text = \"\"\"This document contains notes on data science.\n",
    "It is intended for beginners.\"\"\"\n",
    "\n",
    "# Write the text to document.txt\n",
    "with open(\"document.txt\", \"w\") as f:\n",
    "    f.write(text)\n",
    "\n",
    "# Count the words in the file\n",
    "with open(\"document.txt\") as f:\n",
    "    word_count = len(f.read().split())\n",
    "\n",
    "print(f\"The document contains {word_count} words.\")  "
   ]
  },
  {
   "cell_type": "markdown",
   "id": "cae718b2-cd4f-416b-a12d-35eb97317034",
   "metadata": {},
   "source": [
    "## Exercise 26 "
   ]
  },
  {
   "cell_type": "code",
   "execution_count": 119,
   "id": "f2141bfd-fbc7-4b7c-b40f-3bbb384e81ee",
   "metadata": {},
   "outputs": [
    {
     "name": "stdout",
     "output_type": "stream",
     "text": [
      "Lines: 1, Words: 10, Chars: 64\n"
     ]
    }
   ],
   "source": [
    "# First create the file with content\n",
    "with open(\"essay.txt\", \"w\") as f:\n",
    "    f.write(\"The impact of technology on society is profound and far-reaching\")\n",
    "\n",
    "# Then analyze it\n",
    "with open(\"essay.txt\") as f:\n",
    "    lines = f.readlines()\n",
    "    line_count = len(lines)\n",
    "    word_count = sum(len(line.split()) for line in lines)\n",
    "    char_count = sum(len(line) for line in lines)\n",
    "    print(f\"Lines: {line_count}, Words: {word_count}, Chars: {char_count}\")"
   ]
  },
  {
   "cell_type": "markdown",
   "id": "783cc789-bb5e-48e2-a2b9-6afbfaab9ea1",
   "metadata": {},
   "source": [
    "## Exercise 27"
   ]
  },
  {
   "cell_type": "code",
   "execution_count": 129,
   "id": "5b57eddf-cb69-4eb7-8bb0-676897c8aa4b",
   "metadata": {},
   "outputs": [
    {
     "name": "stdout",
     "output_type": "stream",
     "text": [
      "Destination file contains: The quick brown fox jumps over the lazy dog.\n"
     ]
    }
   ],
   "source": [
    "with open(\"source.txt\", \"w\") as f:\n",
    "    f.write(\"The quick brown fox jumps over the lazy dog.\")\n",
    "\n",
    "# Now copy from source.txt to destination.txt\n",
    "with open(\"source.txt\") as src, open(\"destination.txt\", \"w\") as dest:\n",
    "    dest.write(src.read())\n",
    "\n",
    "# Verify both files contain the same text\n",
    "with open(\"destination.txt\") as f:\n",
    "    print(\"Destination file contains:\", f.read())\n",
    "\n"
   ]
  },
  {
   "cell_type": "markdown",
   "id": "44549212-d144-4e35-bd9b-b52748290dd3",
   "metadata": {},
   "source": [
    "## Exercise 28"
   ]
  },
  {
   "cell_type": "code",
   "execution_count": 125,
   "id": "fa3763c4-da93-4ac0-ac8d-cbbf6b5770cb",
   "metadata": {},
   "outputs": [],
   "source": [
    "def count_lines(filename):\n",
    "    with open(filename) as f:\n",
    "        return len(f.readlines())"
   ]
  },
  {
   "cell_type": "markdown",
   "id": "9c1f303d-7768-4396-95af-725ec66e2de3",
   "metadata": {},
   "source": [
    "## Exercise 29"
   ]
  },
  {
   "cell_type": "code",
   "execution_count": 131,
   "id": "c4e8c9d2-fb35-4378-a768-f598da66cc99",
   "metadata": {},
   "outputs": [
    {
     "name": "stdout",
     "output_type": "stream",
     "text": [
      "Words longer than 5 characters: ['sample', 'article', 'applications.', 'multiple', 'lines.']\n"
     ]
    }
   ],
   "source": [
    "\n",
    "content = \"\"\"This is a sample article about AI and its applications.\n",
    "It spans multiple lines.\"\"\"\n",
    "\n",
    "with open(\"article.txt\", \"w\") as f:\n",
    "    f.write(content)\n",
    "\n",
    "with open(\"article.txt\") as f:\n",
    "    long_words = [word for word in f.read().split() if len(word) > 5]\n",
    "\n",
    "print(\"Words longer than 5 characters:\", long_words)"
   ]
  },
  {
   "cell_type": "markdown",
   "id": "bdc11a62-a506-4990-9b0e-0f2aa6230d21",
   "metadata": {},
   "source": [
    "### Exercise 30"
   ]
  },
  {
   "cell_type": "code",
   "execution_count": 133,
   "id": "7488a7db-5546-4107-9e6d-61c8d36fcf06",
   "metadata": {},
   "outputs": [],
   "source": [
    "with open(\"notes.txt\") as f:\n",
    "    content = f.read().upper()\n",
    "with open(\"uppercase_notes.txt\", \"w\") as f:\n",
    "    f.write(content)\n"
   ]
  },
  {
   "cell_type": "markdown",
   "id": "e78f9790-3728-4271-8d16-57116291e56a",
   "metadata": {},
   "source": [
    "## Exercise 31"
   ]
  },
  {
   "cell_type": "code",
   "execution_count": 347,
   "id": "1615cd18-d1fd-4312-84d9-63166d6edd12",
   "metadata": {},
   "outputs": [
    {
     "name": "stdout",
     "output_type": "stream",
     "text": [
      "Processed 'C:\\Users\\Ashulah\\Desktop\\klabfinal\\TekHer-Python-Basic\\data\\document.txt' successfully!\n"
     ]
    }
   ],
   "source": [
    "import os\n",
    "\n",
    "# defining file path\n",
    "file_path = r\"C:\\Users\\Ashulah\\Desktop\\klabfinal\\TekHer-Python-Basic\\data\\document.txt\"\n",
    "\n",
    "try:\n",
    "    with open(file_path) as f:\n",
    "        lines = [line for line in f if line.strip()]  # Remove empty lines\n",
    "\n",
    "    with open(file_path, \"w\") as f:\n",
    "        f.writelines(lines)\n",
    "\n",
    "    print(f\"Processed '{file_path}' successfully!\")\n",
    "except FileNotFoundError:\n",
    "    print(f\"Error: File not found at {file_path}\")\n",
    "except Exception as e:\n",
    "    print(f\"An error occurred: {str(e)}\")\n"
   ]
  },
  {
   "cell_type": "markdown",
   "id": "747768cb-3c6b-4afe-94c3-d5af7310bce6",
   "metadata": {},
   "source": [
    "### Exercise 32"
   ]
  },
  {
   "cell_type": "code",
   "execution_count": 147,
   "id": "32a4513b-dda3-4e0f-aa64-356d42d4ba89",
   "metadata": {},
   "outputs": [
    {
     "name": "stdout",
     "output_type": "stream",
     "text": [
      "Current config:\n",
      "setting1=true\n",
      "setting2=false\n",
      "threshold=0.8\n",
      "\n",
      "Updated config:\n",
      "setting1=true\n",
      "setting2=false\n",
      "threshold=0.9\n"
     ]
    }
   ],
   "source": [
    "config_content = \"\"\"setting1=true\n",
    "setting2=false\n",
    "threshold=0.8\"\"\"\n",
    "\n",
    "# Write the initial config\n",
    "with open(\"config.txt\", \"w\") as f:\n",
    "    f.write(config_content)\n",
    "\n",
    "# Now open in r+ mode to read and potentially modify\n",
    "with open(\"config.txt\", \"r+\") as f:\n",
    "    # Read existing content\n",
    "    content = f.read()\n",
    "    print(\"Current config:\")\n",
    "    print(content)\n",
    "    \n",
    "    # Example modification: Update threshold\n",
    "    new_content = content.replace(\"threshold=0.8\", \"threshold=0.9\")\n",
    "    \n",
    "    # Write back the changes\n",
    "    f.seek(0)  # Move to start of file\n",
    "    f.write(new_content)\n",
    "    f.truncate()  # Remove any remaining old content\n",
    "\n",
    "# Verify the update\n",
    "with open(\"config.txt\") as f:\n",
    "    print(\"\\nUpdated config:\")\n",
    "    print(f.read())"
   ]
  },
  {
   "cell_type": "markdown",
   "id": "7821bbb6-c9f3-4af9-842e-659053c44464",
   "metadata": {},
   "source": [
    "### Exercise 33"
   ]
  },
  {
   "cell_type": "code",
   "execution_count": 351,
   "id": "35e2b9e7-20d1-4866-8c56-3c757e281fb1",
   "metadata": {},
   "outputs": [
    {
     "name": "stdout",
     "output_type": "stream",
     "text": [
      "This is a much longer line than the others\n"
     ]
    }
   ],
   "source": [
    "with open(\"sample.txt\", \"w\") as file:\n",
    "    file.write(\"Short line\\n\")\n",
    "    file.write(\"This is a much longer line than the others\\n\")\n",
    "    file.write(\"Medium length\\n\")\n",
    "\n",
    "# Step 2: Define the function\n",
    "def print_longest_line(filename):\n",
    "    with open(filename, \"r\") as file:\n",
    "        lines = file.readlines()\n",
    "        longest = max(lines, key=len)\n",
    "        print(longest.strip())\n",
    "\n",
    "\n",
    "print_longest_line(\"sample.txt\")"
   ]
  },
  {
   "cell_type": "markdown",
   "id": "b6ca2cce-5a9f-43a6-ba48-19c64716859a",
   "metadata": {},
   "source": [
    "## Advanced File Operations Exercises 34-50"
   ]
  },
  {
   "cell_type": "markdown",
   "id": "d11055db-be9d-461c-a180-0c6398ea87a2",
   "metadata": {},
   "source": [
    "### Exercise 34"
   ]
  },
  {
   "cell_type": "code",
   "execution_count": 225,
   "id": "d599f04f-a179-4d44-a2fe-948dc06caa4f",
   "metadata": {},
   "outputs": [
    {
     "name": "stdout",
     "output_type": "stream",
     "text": [
      "Counter({'e': 6, 's': 4, 'h': 3, 'l': 3, 'i': 3, 't': 2, 'a': 2, 'o': 1, 'r': 1, 'm': 1, 'g': 1, 'f': 1})\n"
     ]
    }
   ],
   "source": [
    "from collections import Counter\n",
    "with open(r\"C:\\Users\\Ashulah\\Desktop\\klabfinal\\TekHer-Python-Basic\\\\data\\message.txt\",\"r\") as f:\n",
    "    letters = Counter(char.lower() for line in f for char in line if char.isalpha())\n",
    "    freq = Counter(letters)\n",
    "    print(freq)"
   ]
  },
  {
   "cell_type": "markdown",
   "id": "8b0247bc-eff1-4007-8c22-35e1e3e1967a",
   "metadata": {},
   "source": [
    "### Exercise 35"
   ]
  },
  {
   "cell_type": "code",
   "execution_count": 187,
   "id": "b0977158-c920-47a3-ab0f-b5343017207b",
   "metadata": {},
   "outputs": [],
   "source": [
    "with open(r\"C:\\Users\\Ashulah\\Desktop\\klabfinal\\TekHer-Python-Basic\\data\\essay.txt\",\"r\") as f:\n",
    "    count = sum(len(line.replace(\" \", \"\")) for line in f)"
   ]
  },
  {
   "cell_type": "code",
   "execution_count": 185,
   "id": "2a075735-9993-4abc-92ac-d6ec670bfccc",
   "metadata": {},
   "outputs": [
    {
     "name": "stdout",
     "output_type": "stream",
     "text": [
      "Characters (excluding spaces): 51\n"
     ]
    }
   ],
   "source": [
    "with open(\"text.txt\", \"w\") as file:\n",
    "    file.write(\"This is a sample text file.\\nIt has multiple lines and spaces.\")\n",
    "with open(\"text.txt\", \"r\") as file:\n",
    "    text = file.read().replace(\" \", \"\")\n",
    "    print(\"Characters (excluding spaces):\", len(text))"
   ]
  },
  {
   "cell_type": "markdown",
   "id": "0531102f-64d3-4bc8-8c38-ecdcf440a8ee",
   "metadata": {},
   "source": [
    "#### Exercise 36"
   ]
  },
  {
   "cell_type": "code",
   "execution_count": 189,
   "id": "15728f1b-8b84-4468-877b-b8175be9ef61",
   "metadata": {},
   "outputs": [
    {
     "name": "stdout",
     "output_type": "stream",
     "text": [
      "The file is empty.\n"
     ]
    }
   ],
   "source": [
    "with open(\"file.txt\", \"w\") as file:\n",
    "    pass \n",
    "\n",
    "  # Check if file is empty\n",
    "if os.path.getsize(\"file.txt\") == 0:\n",
    "    print(\"The file is empty.\")\n",
    "else:\n",
    "    print(\"The file is not empty.\")"
   ]
  },
  {
   "cell_type": "markdown",
   "id": "0cb80b31-f68e-4d3d-ba0c-27d22cbde89d",
   "metadata": {},
   "source": [
    "### Execise37"
   ]
  },
  {
   "cell_type": "code",
   "execution_count": 295,
   "id": "d5feb90a-8cd2-425c-b92e-06b91d12a647",
   "metadata": {},
   "outputs": [
    {
     "name": "stdout",
     "output_type": "stream",
     "text": [
      "This document contains notes on data science\n",
      "It is intended for beginners\n",
      "\n"
     ]
    }
   ],
   "source": [
    "def remove_custom_punctuation(filename):\n",
    "    \"\"\"Remove only specified punctuation marks from a file\"\"\"\n",
    "    punctuation_to_remove = \"!@#$%^&*()[]{}:;,.<>?/\\\\|`~\\\"'-=_+\"\n",
    "\n",
    "    try:\n",
    "        with open(filename, 'r', encoding='utf-8') as file:\n",
    "            text = file.read()\n",
    "            translator = str.maketrans('', '', punctuation_to_remove)\n",
    "            return text.translate(translator)\n",
    "    except IOError as e:\n",
    "        print(f\"Error: {e}\")\n",
    "        return None\n",
    "cleaned_text = remove_custom_punctuation(r\"C:\\Users\\Ashulah\\Desktop\\klabfinal\\TekHer-Python-Basic\\data\\document.txt\")\n",
    "\n",
    "if cleaned_text:\n",
    "    print(cleaned_text)\n"
   ]
  },
  {
   "cell_type": "markdown",
   "id": "67f07af6-71a8-4fcd-8aa3-fb14a3f39f0a",
   "metadata": {},
   "source": [
    "### EXERCISE38"
   ]
  },
  {
   "cell_type": "code",
   "execution_count": 277,
   "id": "0caa2f2e-d92c-43d2-b24a-e6d140f4c571",
   "metadata": {},
   "outputs": [
    {
     "name": "stdout",
     "output_type": "stream",
     "text": [
      "File content:\n",
      "Python is fun\n",
      "Files are powerful\n",
      "Practice makes perfect\n",
      "Oh my God\n",
      "\n"
     ]
    }
   ],
   "source": [
    "def write_list_to_file(filename, lines):\n",
    "    with open(filename, \"w\") as file:\n",
    "        for line in lines:\n",
    "            file.write(line + \"\\n\")\n",
    "\n",
    "\n",
    "my_lines = [\"Python is fun\", \"Files are powerful\", \"Practice makes perfect\",\"Oh my God\"]\n",
    "\n",
    "# Write to file\n",
    "write_list_to_file(\"myfile.txt\", my_lines)\n",
    "\n",
    "with open(\"myfile.txt\", \"r\") as file:\n",
    "    content = file.read()                  #  Read and print the result\n",
    "    print(\"File content:\\n\" + content)"
   ]
  },
  {
   "cell_type": "markdown",
   "id": "58eef04f-4d00-4698-ad1e-9e39b2ce5dc0",
   "metadata": {},
   "source": [
    "### Exercise 39"
   ]
  },
  {
   "cell_type": "code",
   "execution_count": 209,
   "id": "b131a8fb-7fe6-463e-8c6a-ad582d8a6d6f",
   "metadata": {},
   "outputs": [
    {
     "name": "stdout",
     "output_type": "stream",
     "text": [
      "Lines starting with A: 0\n"
     ]
    }
   ],
   "source": [
    "with open(\"file.txt\", \"r\") as file:\n",
    "    count = sum(1 for line in file if line.startswith(\"A\"))\n",
    "print(\"Lines starting with A:\", count)\n"
   ]
  },
  {
   "cell_type": "markdown",
   "id": "26fbb53b-9262-4ee6-9908-1d42705c1ef6",
   "metadata": {},
   "source": [
    "### Exercise 40"
   ]
  },
  {
   "cell_type": "code",
   "execution_count": 273,
   "id": "31203991-a2c5-43ae-8e08-6099e7d6f907",
   "metadata": {},
   "outputs": [
    {
     "name": "stdout",
     "output_type": "stream",
     "text": [
      "eno yreve olleH\n"
     ]
    }
   ],
   "source": [
    "def write_reversed(text):\n",
    "    reversed_text = text[::-1]\n",
    "    with open(\"output.txt\", \"w\") as file:\n",
    "        file.write(reversed_text)\n",
    "    print(reversed_text)\n",
    "\n",
    "write_reversed(\"Hello every one\")"
   ]
  },
  {
   "cell_type": "markdown",
   "id": "1c0b8313-6a74-48f3-8178-ef6fbd49c1b0",
   "metadata": {},
   "source": [
    "### Exercise41"
   ]
  },
  {
   "cell_type": "code",
   "execution_count": 297,
   "id": "30de7287-70e3-4767-9810-d6fd0a214dbf",
   "metadata": {},
   "outputs": [
    {
     "name": "stdout",
     "output_type": "stream",
     "text": [
      "Python is a great language.\n",
      "Python makes things easier.\n"
     ]
    }
   ],
   "source": [
    "with open(\"file.txt\", \"w\") as file:\n",
    "    file.write(\"Python is a great language.\\n\")\n",
    "    file.write(\"I love coding.\\n\")\n",
    "    file.write(\"Python makes things easier.\\n\")\n",
    "    file.write(\"This line does not mention it.\\n\")\n",
    "\n",
    "# Print lines containing \"Python\"\n",
    "with open(\"file.txt\", \"r\") as file:\n",
    "    for line in file:\n",
    "        if \"Python\" in line:\n",
    "            print(line.strip())\n"
   ]
  },
  {
   "cell_type": "markdown",
   "id": "ec36c786-0b47-44e8-b866-402984c2f803",
   "metadata": {},
   "source": [
    "## Exercise 42"
   ]
  },
  {
   "cell_type": "code",
   "execution_count": 299,
   "id": "527a44dd-9425-48f8-9840-060a49f9d68b",
   "metadata": {},
   "outputs": [
    {
     "name": "stdout",
     "output_type": "stream",
     "text": [
      "Python is a great language.\n",
      "I love coding.\n",
      "Python makes things easier.\n",
      "This line does not mention it.\n",
      "\n"
     ]
    }
   ],
   "source": [
    "with open(\"file.txt\", \"r\") as f:\n",
    "    content = f.read()\n",
    "cleaned = ''.join(c for c in content if not c.isdigit())\n",
    "print(cleaned)"
   ]
  },
  {
   "cell_type": "markdown",
   "id": "23c7de7e-0932-4dab-9003-b0bd9e64218b",
   "metadata": {},
   "source": [
    "### Exercise 43"
   ]
  },
  {
   "cell_type": "code",
   "execution_count": 303,
   "id": "281d7a01-c041-423c-9b03-409cd6999034",
   "metadata": {},
   "outputs": [
    {
     "name": "stdout",
     "output_type": "stream",
     "text": [
      "Most frequent word: a\n"
     ]
    }
   ],
   "source": [
    "from collections import Counter\n",
    "with open(r\"C:\\Users\\Ashulah\\Desktop\\klabfinal\\TekHer-Python-Basic\\data\\book.txt\") as f:\n",
    "    words = f.read().lower().split()\n",
    "    most_common = Counter(words).most_common(1)[0][0]\n",
    "print(\"Most frequent word:\", most_common)"
   ]
  },
  {
   "cell_type": "markdown",
   "id": "1be57c5f-6c8b-4141-b6de-689fe54d4165",
   "metadata": {},
   "source": [
    "#### Exercise44"
   ]
  },
  {
   "cell_type": "code",
   "execution_count": 312,
   "id": "f27ff5a9-497a-4689-966c-d0f475279a69",
   "metadata": {},
   "outputs": [
    {
     "name": "stdout",
     "output_type": "stream",
     "text": [
      "['Python is a great language.']\n"
     ]
    }
   ],
   "source": [
    "with open(\"file.txt\") as f:\n",
    "    five_word_lines = [line.strip() for line in f if len(line.split()) == 5]\n",
    "\n",
    "print(five_word_lines)\n"
   ]
  },
  {
   "cell_type": "markdown",
   "id": "0f3190cc-2023-473c-9838-928ed9e6396d",
   "metadata": {},
   "source": [
    "#### Exercise45"
   ]
  },
  {
   "cell_type": "code",
   "execution_count": 314,
   "id": "6402042a-7172-4baf-a36f-47de2bb068f6",
   "metadata": {},
   "outputs": [
    {
     "name": "stdout",
     "output_type": "stream",
     "text": [
      "First: Python is a great language.\n",
      ", Last: This line does not mention it.\n",
      "\n"
     ]
    }
   ],
   "source": [
    "with open(\"file.txt\") as f:\n",
    "    lines = f.readlines()\n",
    "    print(f\"First: {lines[0]}, Last: {lines[-1]}\")\n"
   ]
  },
  {
   "cell_type": "markdown",
   "id": "440e7bd0-c991-4496-8d19-74cb7b045517",
   "metadata": {},
   "source": [
    "#### Exercise 46"
   ]
  },
  {
   "cell_type": "code",
   "execution_count": 316,
   "id": "bc891089-064d-4f1c-9ff1-563efaba4f6f",
   "metadata": {},
   "outputs": [
    {
     "name": "stdout",
     "output_type": "stream",
     "text": [
      "The file 'document.txt' is NOT writable.\n"
     ]
    }
   ],
   "source": [
    "import os\n",
    "\n",
    "def is_writable(filename):\n",
    "    return os.access(filename, os.W_OK)\n",
    "\n",
    "# Example usage\n",
    "file_path = \"document.txt\"\n",
    "if is_writable(file_path):\n",
    "    print(f\"The file '{file_path}' is writable.\")\n",
    "else:\n",
    "    print(f\"The file '{file_path}' is NOT writable.\")\n"
   ]
  },
  {
   "cell_type": "markdown",
   "id": "ce5ad2b9-68b4-4c8c-9559-8faa4fd31816",
   "metadata": {},
   "source": [
    "#### Exercise 47"
   ]
  },
  {
   "cell_type": "code",
   "execution_count": 318,
   "id": "f9c551c6-4835-49d5-86a5-f37c5d5415d5",
   "metadata": {},
   "outputs": [
    {
     "name": "stdout",
     "output_type": "stream",
     "text": [
      "Unique word count: 8\n"
     ]
    }
   ],
   "source": [
    "with open(\"sample.txt\", \"w\") as file:\n",
    "    file.write(\"Python is fun. Python is easy to learn. Learning is good.\")\n",
    "\n",
    "# Step 2: Define the function\n",
    "def count_unique_words(filename):\n",
    "    with open(filename, \"r\") as file:\n",
    "        words = file.read().lower().split()\n",
    "        return len(set(words))\n",
    "\n",
    "# Step 3: Call the function and print the result\n",
    "unique_word_count = count_unique_words(\"sample.txt\")\n",
    "print(\"Unique word count:\", unique_word_count)"
   ]
  },
  {
   "cell_type": "markdown",
   "id": "0a7dc4d3-8a9b-462a-8ef6-6240aeaf0e30",
   "metadata": {},
   "source": [
    "### Exercise48"
   ]
  },
  {
   "cell_type": "code",
   "execution_count": 320,
   "id": "3bae8a55-ac32-4c9b-a32f-cd4579b392ca",
   "metadata": {},
   "outputs": [
    {
     "name": "stdout",
     "output_type": "stream",
     "text": [
      "This line does not mention it.\n",
      "Python makes things easier.\n",
      "I love coding.\n",
      "Python is a great language.\n"
     ]
    }
   ],
   "source": [
    "with open(\"file.txt\") as f:\n",
    "    lines = f.readlines()\n",
    "    for line in reversed(lines):\n",
    "        print(line.strip())\n"
   ]
  },
  {
   "cell_type": "markdown",
   "id": "d2f61acc-5048-4c0f-93c4-325934f0c52a",
   "metadata": {},
   "source": [
    "### Exercise 49"
   ]
  },
  {
   "cell_type": "code",
   "execution_count": 343,
   "id": "ec739b56-422f-4e47-96ce-62d9d2651dde",
   "metadata": {},
   "outputs": [
    {
     "name": "stdout",
     "output_type": "stream",
     "text": [
      "Most common letter: i\n"
     ]
    }
   ],
   "source": [
    "from collections import Counter\n",
    "\n",
    "def most_common_letter(filename):\n",
    "    with open(filename) as f:\n",
    "        letters = [char.lower() for line in f for char in line if char.isalpha()]\n",
    "        return Counter(letters).most_common(1)[0][0]\n",
    "\n",
    "result = most_common_letter(\"C:\\\\Users\\\\Ashulah\\\\Desktop\\\\klabfinal\\\\TekHer-Python-Basic\\\\data\\\\article.txt\")\n",
    "print(\"Most common letter:\", result)"
   ]
  },
  {
   "cell_type": "markdown",
   "id": "441a532c-4331-4689-acce-a8a7cc1e68ba",
   "metadata": {},
   "source": [
    "#### Exercise 50"
   ]
  },
  {
   "cell_type": "code",
   "execution_count": 333,
   "id": "fc5c4ce7-20ba-4bb8-87eb-d3d47ebcc36b",
   "metadata": {},
   "outputs": [
    {
     "name": "stdout",
     "output_type": "stream",
     "text": [
      "Updated content:\n",
      "Java is amazing.\n",
      "I enjoy Java programming.\n"
     ]
    }
   ],
   "source": [
    "with open(\"file.txt\", \"w\") as file:\n",
    "    file.write(\"Python is amazing.\\nI enjoy Python programming.\")\n",
    "\n",
    "# Replacing \"Python\" with \"Java\"\n",
    "with open(\"file.txt\", \"r\") as file:\n",
    "    content = file.read().replace(\"Python\", \"Java\")\n",
    "with open(\"file.txt\", \"w\") as file:\n",
    "    file.write(content)\n",
    "\n",
    "with open(\"file.txt\", \"r\") as file:\n",
    "    updated_content = file.read()\n",
    "    print(\"Updated content:\\n\" + updated_content)"
   ]
  },
  {
   "cell_type": "code",
   "execution_count": null,
   "id": "dcf6ca38",
   "metadata": {},
   "outputs": [],
   "source": []
  }
 ],
 "metadata": {
  "kernelspec": {
   "display_name": "Python 3 (ipykernel)",
   "language": "python",
   "name": "python3"
  },
  "language_info": {
   "codemirror_mode": {
    "name": "ipython",
    "version": 3
   },
   "file_extension": ".py",
   "mimetype": "text/x-python",
   "name": "python",
   "nbconvert_exporter": "python",
   "pygments_lexer": "ipython3",
   "version": "3.12.7"
  }
 },
 "nbformat": 4,
 "nbformat_minor": 5
}
