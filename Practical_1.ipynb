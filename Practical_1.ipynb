{
 "cells": [
  {
   "cell_type": "markdown",
   "id": "426486dd",
   "metadata": {},
   "source": [
    "# Practical_1: Variables and Assignments"
   ]
  },
  {
   "cell_type": "markdown",
   "id": "681375fb-c0d2-4b30-9f93-60f88f9c49ce",
   "metadata": {},
   "source": [
    "### Exercise1 "
   ]
  },
  {
   "cell_type": "code",
   "execution_count": 11,
   "id": "6afc40f3-db6f-44b9-8ad7-ab41e7b19114",
   "metadata": {},
   "outputs": [
    {
     "name": "stdout",
     "output_type": "stream",
     "text": [
      "10\n"
     ]
    }
   ],
   "source": [
    "x = 10\n",
    "print(x)"
   ]
  },
  {
   "cell_type": "markdown",
   "id": "734028c0-fcd0-4745-906b-9f3323fc1c72",
   "metadata": {},
   "source": [
    "###  Exercise2 assignning the value TRUE to valiable called 'is_valid'."
   ]
  },
  {
   "cell_type": "code",
   "execution_count": 14,
   "id": "56119d34-72f8-454e-8c20-ad90bb6e06c3",
   "metadata": {},
   "outputs": [
    {
     "name": "stdout",
     "output_type": "stream",
     "text": [
      "True\n"
     ]
    }
   ],
   "source": [
    "is_valid = True\n",
    "print(is_valid)"
   ]
  },
  {
   "cell_type": "markdown",
   "id": "068cb080-af67-446c-b0a0-ab8fba5304d2",
   "metadata": {},
   "source": [
    "### Excercise 3 create a string variable 'name'"
   ]
  },
  {
   "cell_type": "code",
   "execution_count": 18,
   "id": "ec696809-d55a-42a9-a694-a13a38665f61",
   "metadata": {},
   "outputs": [
    {
     "data": {
      "text/plain": [
       "'python Programming'"
      ]
     },
     "execution_count": 18,
     "metadata": {},
     "output_type": "execute_result"
    }
   ],
   "source": [
    "name = \"python Programming\"\n",
    "name"
   ]
  },
  {
   "cell_type": "markdown",
   "id": "a2b21b85-ed28-46f8-a13c-a560e813b4f5",
   "metadata": {},
   "source": [
    "### exercise4 assing result of 5+3 to variable"
   ]
  },
  {
   "cell_type": "code",
   "execution_count": 23,
   "id": "30259206-314c-4733-a560-be1d830446fb",
   "metadata": {},
   "outputs": [
    {
     "data": {
      "text/plain": [
       "8"
      ]
     },
     "execution_count": 23,
     "metadata": {},
     "output_type": "execute_result"
    }
   ],
   "source": [
    "sum_result = 5 + 3\n",
    "sum_result"
   ]
  },
  {
   "cell_type": "markdown",
   "id": "ffdadff2-d73d-4173-b56e-be0b19c68ea1",
   "metadata": {},
   "source": [
    "### Exercise 5   assign multiple variable on one line:"
   ]
  },
  {
   "cell_type": "code",
   "execution_count": 26,
   "id": "ae8532e6-3a15-482f-8252-214147d7d69e",
   "metadata": {},
   "outputs": [
    {
     "name": "stdout",
     "output_type": "stream",
     "text": [
      "5 10 15\n"
     ]
    }
   ],
   "source": [
    "a,b,c = 5, 10,15\n",
    "print(a,b,c)"
   ]
  },
  {
   "cell_type": "markdown",
   "id": "10d526a6-f3f7-4100-9746-a98a092a16f0",
   "metadata": {},
   "source": [
    "## Exercise 6 assign the value of one variable X to another variable"
   ]
  },
  {
   "cell_type": "code",
   "execution_count": 31,
   "id": "e0f33d25-92e4-4637-a74f-2702bf5a0ac8",
   "metadata": {},
   "outputs": [
    {
     "data": {
      "text/plain": [
       "10"
      ]
     },
     "execution_count": 31,
     "metadata": {},
     "output_type": "execute_result"
    }
   ],
   "source": [
    "y = x\n",
    "y"
   ]
  },
  {
   "cell_type": "markdown",
   "id": "fde83571-802e-4629-b936-70f400b264ef",
   "metadata": {},
   "source": [
    "## Exercise 7 Assign afloating point 9.8 to a variable graavity."
   ]
  },
  {
   "cell_type": "code",
   "execution_count": 36,
   "id": "97a27dd7-c7a5-461e-b719-26d311369e26",
   "metadata": {},
   "outputs": [
    {
     "data": {
      "text/plain": [
       "9.8"
      ]
     },
     "execution_count": 36,
     "metadata": {},
     "output_type": "execute_result"
    }
   ],
   "source": [
    "gravity = 9.8\n",
    "gravity"
   ]
  },
  {
   "cell_type": "markdown",
   "id": "6191b4a5-e93f-4987-9a56-5cc5599b72e1",
   "metadata": {},
   "source": [
    "## Exercise 8:Create a variable COUNTRY and assign it the string value of country"
   ]
  },
  {
   "cell_type": "code",
   "execution_count": 39,
   "id": "2c542d2c-a890-45e9-90cd-5aef60abd5e6",
   "metadata": {},
   "outputs": [
    {
     "data": {
      "text/plain": [
       "'Uk'"
      ]
     },
     "execution_count": 39,
     "metadata": {},
     "output_type": "execute_result"
    }
   ],
   "source": [
    "country = \"Uk\"\n",
    "country"
   ]
  },
  {
   "cell_type": "markdown",
   "id": "ab99020d-cbf8-4759-b8d1-8f411e0f7467",
   "metadata": {},
   "source": [
    "## Exercise 9 : change the value of variable age from 25 to 26 in two separate "
   ]
  },
  {
   "cell_type": "code",
   "execution_count": 42,
   "id": "7008f19b-e182-4b6d-830f-9875a2d0f9c7",
   "metadata": {},
   "outputs": [
    {
     "data": {
      "text/plain": [
       "26"
      ]
     },
     "execution_count": 42,
     "metadata": {},
     "output_type": "execute_result"
    }
   ],
   "source": [
    "age = 25 \n",
    "age = 26\n",
    "age "
   ]
  },
  {
   "cell_type": "markdown",
   "id": "485f6e83-64b4-4ffe-a77f-25ca3c3bbca3",
   "metadata": {},
   "source": [
    "## Exercise 10: use one variable to store the result of subtracting two numbers 20 - 7"
   ]
  },
  {
   "cell_type": "markdown",
   "id": "fe932897-1d11-43ce-b778-be99f372fb94",
   "metadata": {},
   "source": [
    "difference = 20 - 7\n",
    "difference"
   ]
  },
  {
   "cell_type": "markdown",
   "id": "802cf858-d60e-43e4-a4b3-8e27d025a149",
   "metadata": {},
   "source": [
    "## Exercise 11 : assign an integer value and a floating point value to two different variables."
   ]
  },
  {
   "cell_type": "code",
   "execution_count": 64,
   "id": "2ff9c426-dc3e-4e7a-b634-e3ccc05e50ca",
   "metadata": {},
   "outputs": [
    {
     "name": "stdout",
     "output_type": "stream",
     "text": [
      "42 5.14\n"
     ]
    }
   ],
   "source": [
    "integer_val = 42\n",
    "float_val =5.14\n",
    "print(integer_val, float_val)"
   ]
  },
  {
   "cell_type": "markdown",
   "id": "56a47a91-bf15-48ce-8030-95eece41bc2c",
   "metadata": {},
   "source": [
    "## Exercise12 assign a boolean value False to a variable is completed"
   ]
  },
  {
   "cell_type": "code",
   "execution_count": 59,
   "id": "87e45ddc-e63e-46ff-8100-c4a820fdb47d",
   "metadata": {},
   "outputs": [
    {
     "data": {
      "text/plain": [
       "False"
      ]
     },
     "execution_count": 59,
     "metadata": {},
     "output_type": "execute_result"
    }
   ],
   "source": [
    "is_completed = False\n",
    "is_completed"
   ]
  },
  {
   "cell_type": "markdown",
   "id": "7d8cffca-c90b-4842-9d5e-416d1282f839",
   "metadata": {},
   "source": [
    "## exercise 13: Swap the values of two variable X and Y"
   ]
  },
  {
   "cell_type": "code",
   "execution_count": 62,
   "id": "94c3faa1-60d6-4604-9978-fa8c9f8821c7",
   "metadata": {},
   "outputs": [
    {
     "name": "stdout",
     "output_type": "stream",
     "text": [
      "20 10\n"
     ]
    }
   ],
   "source": [
    "x = 30\n",
    "y =20\n",
    "x, y = y, x\n",
    "print(x,y)"
   ]
  },
  {
   "cell_type": "markdown",
   "id": "5c3abdf1-873d-40f9-a885-aefb0904b5f6",
   "metadata": {},
   "source": [
    "## Exercise 14: Complex number assignment 3 + 4j to a variable complex_num"
   ]
  },
  {
   "cell_type": "code",
   "execution_count": 68,
   "id": "5529e84b-f683-458f-960a-ab36bc4c2f8f",
   "metadata": {},
   "outputs": [
    {
     "data": {
      "text/plain": [
       "(3+4j)"
      ]
     },
     "execution_count": 68,
     "metadata": {},
     "output_type": "execute_result"
    }
   ],
   "source": [
    "complex_num = 3 +4j\n",
    "complex_num"
   ]
  },
  {
   "cell_type": "markdown",
   "id": "c38d64d6-a167-4671-b0ac-9fd149f632d6",
   "metadata": {},
   "source": [
    "### Exercise 15 Reassign a variable from integer to a string."
   ]
  },
  {
   "cell_type": "code",
   "execution_count": 71,
   "id": "317754fe-7800-463f-9223-e507d196a8cc",
   "metadata": {},
   "outputs": [
    {
     "data": {
      "text/plain": [
       "'hundred'"
      ]
     },
     "execution_count": 71,
     "metadata": {},
     "output_type": "execute_result"
    }
   ],
   "source": [
    "num_var = 100\n",
    "num_var = \"hundred\"\n",
    "num_var"
   ]
  },
  {
   "cell_type": "markdown",
   "id": "1bce46bf-0253-48f6-9762-df3928a4a852",
   "metadata": {},
   "source": [
    "### Exercise 16: create two variable first_name and last_name and assign them your first and last"
   ]
  },
  {
   "cell_type": "code",
   "execution_count": 74,
   "id": "bb5ab7c4-c2f3-46f0-bc2c-9a619336de4a",
   "metadata": {},
   "outputs": [
    {
     "name": "stdout",
     "output_type": "stream",
     "text": [
      "Jogh Doe\n"
     ]
    }
   ],
   "source": [
    "first_name = \"Jogh\"\n",
    "last_name = \"Doe\"\n",
    "print(first_name, last_name)"
   ]
  },
  {
   "cell_type": "markdown",
   "id": "26a00aed-e6e2-4e20-b14f-b15a7175f221",
   "metadata": {},
   "source": [
    "### Exercise 17: create a variable temperature and assign it the value of 35.5"
   ]
  },
  {
   "cell_type": "code",
   "execution_count": 77,
   "id": "c14bf0bb-a9b2-4f2a-9d55-51304244b53d",
   "metadata": {},
   "outputs": [
    {
     "data": {
      "text/plain": [
       "35.5"
      ]
     },
     "execution_count": 77,
     "metadata": {},
     "output_type": "execute_result"
    }
   ],
   "source": [
    "temperature = 35.5 \n",
    "temperature"
   ]
  },
  {
   "cell_type": "markdown",
   "id": "312e877a-7287-4f0c-94f9-b18ed870f599",
   "metadata": {},
   "source": [
    "### Exercise 18: assign the result of the multiplication of two number 8*6"
   ]
  },
  {
   "cell_type": "code",
   "execution_count": 80,
   "id": "0c1d7a54-eb7f-4359-aa85-39837a2698bf",
   "metadata": {},
   "outputs": [
    {
     "data": {
      "text/plain": [
       "48"
      ]
     },
     "execution_count": 80,
     "metadata": {},
     "output_type": "execute_result"
    }
   ],
   "source": [
    "multiplication = 8*6\n",
    "multiplication"
   ]
  },
  {
   "cell_type": "markdown",
   "id": "ba3a3346-17b4-4acc-a62a-c8b8623d0a69",
   "metadata": {},
   "source": [
    "### Exercise 19 assignmnent of sentence of your choice to a variable sentence"
   ]
  },
  {
   "cell_type": "code",
   "execution_count": 83,
   "id": "3754423c-71c9-4b10-bcf0-d93d330a7826",
   "metadata": {},
   "outputs": [
    {
     "data": {
      "text/plain": [
       "'python is a versatile programming language.'"
      ]
     },
     "execution_count": 83,
     "metadata": {},
     "output_type": "execute_result"
    }
   ],
   "source": [
    "sentence = \"python is a versatile programming language.\"\n",
    "sentence"
   ]
  },
  {
   "cell_type": "markdown",
   "id": "b669cb8d-4a53-48a0-9144-da99e2974e0f",
   "metadata": {},
   "source": [
    " ## exercise 20: use an assignment to convert a string \"50\" into an integer variable int_value"
   ]
  },
  {
   "cell_type": "code",
   "execution_count": 86,
   "id": "d3ade543-3b5b-4a57-b8a6-4d22515bbaa9",
   "metadata": {},
   "outputs": [
    {
     "data": {
      "text/plain": [
       "50"
      ]
     },
     "execution_count": 86,
     "metadata": {},
     "output_type": "execute_result"
    }
   ],
   "source": [
    "int_value = int('50')\n",
    "int_value"
   ]
  },
  {
   "cell_type": "markdown",
   "id": "51323dc6-15ee-416f-b9f5-0d7b8e7ae274",
   "metadata": {},
   "source": [
    "### Exercise Assignment of result of dividing 144 by 12 to variable quotient"
   ]
  },
  {
   "cell_type": "code",
   "execution_count": 89,
   "id": "4e906f8c-bfeb-4cb8-bbc0-08fabdb43711",
   "metadata": {},
   "outputs": [
    {
     "data": {
      "text/plain": [
       "12.0"
      ]
     },
     "execution_count": 89,
     "metadata": {},
     "output_type": "execute_result"
    }
   ],
   "source": [
    "quotient= 144/12\n",
    "quotient"
   ]
  },
  {
   "cell_type": "markdown",
   "id": "28bdccf0-a928-4b70-8aa3-7f7846565ce5",
   "metadata": {},
   "source": [
    "## Exercise assign the remainder of 47 divid by 5 to variable remainder"
   ]
  },
  {
   "cell_type": "code",
   "execution_count": 92,
   "id": "161f3b2e-a120-4c05-b325-94aca388b64e",
   "metadata": {},
   "outputs": [
    {
     "data": {
      "text/plain": [
       "2"
      ]
     },
     "execution_count": 92,
     "metadata": {},
     "output_type": "execute_result"
    }
   ],
   "source": [
    "remainder = 47%5\n",
    "remainder"
   ]
  },
  {
   "cell_type": "markdown",
   "id": "5dc82aa7-9c8e-4500-8a41-fe206362de49",
   "metadata": {},
   "source": [
    "## Exercise 23 create a variable is_student and assign it the value True."
   ]
  },
  {
   "cell_type": "code",
   "execution_count": 95,
   "id": "d341cc50-1b4f-4030-96dd-61e1a727edc9",
   "metadata": {},
   "outputs": [
    {
     "data": {
      "text/plain": [
       "True"
      ]
     },
     "execution_count": 95,
     "metadata": {},
     "output_type": "execute_result"
    }
   ],
   "source": [
    "is_student = True\n",
    "is_student"
   ]
  },
  {
   "cell_type": "markdown",
   "id": "b0877f34-7e21-4098-93e4-967c9555803c",
   "metadata": {},
   "source": [
    "## Exercise 25 use a variable to store the  result of a modulo operation:45%4"
   ]
  },
  {
   "cell_type": "code",
   "execution_count": 102,
   "id": "14100ef9-ef49-4cbd-98df-d340e6fb204c",
   "metadata": {},
   "outputs": [
    {
     "data": {
      "text/plain": [
       "1"
      ]
     },
     "execution_count": 102,
     "metadata": {},
     "output_type": "execute_result"
    }
   ],
   "source": [
    "moduloresult = 45 % 4\n",
    "moduloresult"
   ]
  },
  {
   "cell_type": "markdown",
   "id": "5994938e-a954-411c-b451-2494b1baab1d",
   "metadata": {},
   "source": [
    "## Exercise 25 create a variable pi and assign it the value 3.14159"
   ]
  },
  {
   "cell_type": "code",
   "execution_count": 105,
   "id": "71fa0466-a046-4b66-85a4-6b53fef25517",
   "metadata": {},
   "outputs": [
    {
     "data": {
      "text/plain": [
       "3.14159"
      ]
     },
     "execution_count": 105,
     "metadata": {},
     "output_type": "execute_result"
    }
   ],
   "source": [
    "pi = 3.14159\n",
    "pi"
   ]
  },
  {
   "cell_type": "markdown",
   "id": "345e1d8c-7f3c-469b-a62d-27dee3add181",
   "metadata": {},
   "source": [
    "## Exercise 26 Create two variables length and width  assign them values"
   ]
  },
  {
   "cell_type": "code",
   "execution_count": 109,
   "id": "d598a7ca-9682-4de3-9565-fabb140fcd71",
   "metadata": {},
   "outputs": [
    {
     "data": {
      "text/plain": [
       "15"
      ]
     },
     "execution_count": 109,
     "metadata": {},
     "output_type": "execute_result"
    }
   ],
   "source": [
    "length = 5\n",
    "width = 3\n",
    "area = length * width\n",
    "area"
   ]
  },
  {
   "cell_type": "markdown",
   "id": "291e6bc2-c6f7-4b61-9bc5-ae714b4a8702",
   "metadata": {},
   "source": [
    "## Exercise assign negative number to variable negative_value"
   ]
  },
  {
   "cell_type": "code",
   "execution_count": null,
   "id": "08f2ecd0-ecbd-4f5f-9876-f5fc4c150e2b",
   "metadata": {},
   "outputs": [],
   "source": [
    "negative_value"
   ]
  },
  {
   "cell_type": "code",
   "execution_count": null,
   "id": "498732ec-270c-471d-be1a-267770fcf0c0",
   "metadata": {},
   "outputs": [],
   "source": []
  },
  {
   "cell_type": "code",
   "execution_count": null,
   "id": "df43873e-888a-45e2-805b-42c13a6194f3",
   "metadata": {},
   "outputs": [],
   "source": []
  },
  {
   "cell_type": "code",
   "execution_count": null,
   "id": "035b6765-3548-49bc-876a-ab0715dbef02",
   "metadata": {},
   "outputs": [],
   "source": []
  },
  {
   "cell_type": "code",
   "execution_count": null,
   "id": "d6bb2392-c1cf-4e45-8211-c20e62c3f278",
   "metadata": {},
   "outputs": [],
   "source": []
  },
  {
   "cell_type": "code",
   "execution_count": null,
   "id": "c9b47b15-a80c-4581-9f94-6457504745c6",
   "metadata": {},
   "outputs": [],
   "source": []
  },
  {
   "cell_type": "code",
   "execution_count": null,
   "id": "659409f6-7808-4549-9157-b4ed142010d5",
   "metadata": {},
   "outputs": [],
   "source": []
  },
  {
   "cell_type": "code",
   "execution_count": null,
   "id": "c75bb074-bd85-4197-a27c-1191c754c45c",
   "metadata": {},
   "outputs": [],
   "source": []
  },
  {
   "cell_type": "code",
   "execution_count": null,
   "id": "784605db-42c4-4722-bedf-0dc82e53497a",
   "metadata": {},
   "outputs": [],
   "source": []
  },
  {
   "cell_type": "code",
   "execution_count": null,
   "id": "9da1d87e-d9cf-46b2-a676-acbc116b7359",
   "metadata": {},
   "outputs": [],
   "source": []
  },
  {
   "cell_type": "code",
   "execution_count": null,
   "id": "0df18f25-ade3-4824-a139-1d59195a3ef2",
   "metadata": {},
   "outputs": [],
   "source": []
  },
  {
   "cell_type": "code",
   "execution_count": null,
   "id": "afaecd8d-0dfc-430e-94ed-22ce3a323f83",
   "metadata": {},
   "outputs": [],
   "source": []
  },
  {
   "cell_type": "code",
   "execution_count": null,
   "id": "4adf4c1c-8179-4614-8b59-207a8470d91f",
   "metadata": {},
   "outputs": [],
   "source": []
  },
  {
   "cell_type": "code",
   "execution_count": null,
   "id": "f99263d3-35f9-4a8b-9ded-7fd9c46dad64",
   "metadata": {},
   "outputs": [],
   "source": []
  },
  {
   "cell_type": "code",
   "execution_count": null,
   "id": "1aac5821-7f79-428e-88b6-cff4222a21b5",
   "metadata": {},
   "outputs": [],
   "source": []
  },
  {
   "cell_type": "markdown",
   "id": "4fe837de-0f7c-4548-b006-29abdc054ef1",
   "metadata": {},
   "source": []
  },
  {
   "cell_type": "code",
   "execution_count": null,
   "id": "79465a81-b937-45fb-9039-d35b897fd0f1",
   "metadata": {},
   "outputs": [],
   "source": []
  },
  {
   "cell_type": "markdown",
   "id": "ca536e33-c1cd-4b90-837b-7dcc6fed6b0e",
   "metadata": {},
   "source": [
    "----\n",
    "\n",
    "### Exercise 1:\n",
    "Declare a variable `x` and assign it the value `10`.\n",
    "\n",
    "```python\n",
    "# Exercise 1\n",
    "```\n",
    "\n",
    "---\n",
    "\n",
    "### Exercise 2:\n",
    "Assign the value `True` to a variable called `is_valid`.\n",
    "\n",
    "```python\n",
    "# Exercise 2\n",
    "```\n",
    "\n",
    "---\n",
    "\n",
    "### Exercise 3:\n",
    "Create a string variable `name` with the value \"Python Programming\".\n",
    "\n",
    "```python\n",
    "# Exercise 3\n",
    "```\n",
    "\n",
    "---\n",
    "\n",
    "### Exercise 4:\n",
    "Assign the result of `5 + 3` to a variable `sum_result`.\n",
    "\n",
    "```python\n",
    "# Exercise 4\n",
    "```\n",
    "\n",
    "---\n",
    "\n",
    "### Exercise 5:\n",
    "Assign multiple variables in one line: `a = 5`, `b = 10`, `c = 15`.\n",
    "\n",
    "```python\n",
    "# Exercise 5\n",
    "```\n",
    "\n",
    "---\n",
    "\n",
    "### Exercise 6:\n",
    "Assign the value of one variable `x` to another variable `y`.\n",
    "\n",
    "```python\n",
    "# Exercise 6\n",
    "```\n",
    "\n",
    "---\n",
    "\n",
    "### Exercise 7:\n",
    "Assign a floating-point number `9.8` to a variable `gravity`.\n",
    "\n",
    "```python\n",
    "# Exercise 7\n",
    "```\n",
    "\n",
    "---\n",
    "\n",
    "### Exercise 8:\n",
    "Create a variable `country` and assign it the string value of your favorite country.\n",
    "\n",
    "```python\n",
    "# Exercise 8\n",
    "```\n",
    "\n",
    "---\n",
    "\n",
    "### Exercise 9:\n",
    "Change the value of variable `age` from `25` to `26` in two separate steps.\n",
    "\n",
    "```python\n",
    "# Exercise 9\n",
    "```\n",
    "\n",
    "---\n",
    "\n",
    "### Exercise 10:\n",
    "Use one variable to store the result of subtracting two numbers `20 - 7`.\n",
    "\n",
    "```python\n",
    "# Exercise 10\n",
    "```\n",
    "\n",
    "---\n",
    "\n",
    "### Exercise 11:\n",
    "Assign an integer value and a floating-point value to two different variables.\n",
    "\n",
    "```python\n",
    "# Exercise 11\n",
    "```\n",
    "\n",
    "---\n",
    "\n",
    "### Exercise 12:\n",
    "Assign a boolean value `False` to a variable `is_completed`.\n",
    "\n",
    "```python\n",
    "# Exercise 12\n",
    "```\n",
    "\n",
    "---\n",
    "\n",
    "### Exercise 13:\n",
    "Swap the values of two variables `x` and `y`.\n",
    "\n",
    "```python\n",
    "# Exercise 13\n",
    "```\n",
    "\n",
    "---\n",
    "\n",
    "### Exercise 14:\n",
    "Assign a complex number `3 + 4j` to a variable `complex_num`.\n",
    "\n",
    "```python\n",
    "# Exercise 14\n",
    "```\n",
    "\n",
    "---\n",
    "\n",
    "### Exercise 15:\n",
    "Reassign a variable from an integer to a string.\n",
    "\n",
    "```python\n",
    "# Exercise 15\n",
    "```\n",
    "\n",
    "---\n",
    "\n",
    "### Exercise 16:\n",
    "Create two variables `first_name` and `last_name`, and assign them your first and last names.\n",
    "\n",
    "```python\n",
    "# Exercise 16\n",
    "```\n",
    "\n",
    "---\n",
    "\n",
    "### Exercise 17:\n",
    "Create a variable `temperature` and assign it the value of `35.5`.\n",
    "\n",
    "```python\n",
    "# Exercise 17\n",
    "```\n",
    "\n",
    "---\n",
    "\n",
    "### Exercise 18:\n",
    "Assign the result of the multiplication of two numbers `8 * 6` to a variable `product`.\n",
    "\n",
    "```python\n",
    "# Exercise 18\n",
    "```\n",
    "\n",
    "---\n",
    "\n",
    "### Exercise 19:\n",
    "Assign a sentence of your choice to a variable `sentence`.\n",
    "\n",
    "```python\n",
    "# Exercise 19\n",
    "```\n",
    "\n",
    "---\n",
    "\n",
    "### Exercise 20:\n",
    "Use an assignment to convert a string `'50'` into an integer variable `int_value`.\n",
    "\n",
    "```python\n",
    "# Exercise 20\n",
    "```\n",
    "\n",
    "---\n",
    "\n",
    "### Exercise 21:\n",
    "Assign the result of dividing `144` by `12` to a variable `quotient`.\n",
    "\n",
    "```python\n",
    "# Exercise 21\n",
    "```\n",
    "\n",
    "---\n",
    "\n",
    "### Exercise 22:\n",
    "Assign the remainder of `47 divided by 5` to a variable `remainder`.\n",
    "\n",
    "```python\n",
    "# Exercise 22\n",
    "```\n",
    "\n",
    "---\n",
    "\n",
    "### Exercise 23:\n",
    "Create a variable `is_student` and assign it the value `True`.\n",
    "\n",
    "```python\n",
    "# Exercise 23\n",
    "```\n",
    "\n",
    "---\n",
    "\n",
    "### Exercise 24:\n",
    "Use a variable to store the result of a modulo operation: `45 % 4`.\n",
    "\n",
    "```python\n",
    "# Exercise 24\n",
    "```\n",
    "\n",
    "---\n",
    "\n",
    "### Exercise 25:\n",
    "Create a variable `pi` and assign it the value `3.14159`.\n",
    "\n",
    "```python\n",
    "# Exercise 25\n",
    "```\n",
    "\n",
    "---\n",
    "\n",
    "### Exercise 26:\n",
    "Create two variables `length` and `width`, assign them values, and calculate the area of a rectangle.\n",
    "\n",
    "```python\n",
    "# Exercise 26\n",
    "```\n",
    "\n",
    "---\n",
    "\n",
    "### Exercise 27:\n",
    "Assign a negative number to a variable `negative_value`.\n",
    "\n",
    "```python\n",
    "# Exercise 27\n",
    "```\n",
    "\n",
    "---\n",
    "\n",
    "### Exercise 28:\n",
    "Assign a string containing a special character (e.g., \"Hello, World!\") to a variable `greeting`.\n",
    "\n",
    "```python\n",
    "# Exercise 28\n",
    "```\n",
    "\n",
    "---\n",
    "\n",
    "### Exercise 29:\n",
    "Create a variable `population` and assign it a large integer value (in billions).\n",
    "\n",
    "```python\n",
    "# Exercise 29\n",
    "```\n",
    "\n",
    "---\n",
    "\n",
    "### Exercise 30:\n",
    "Use a variable to store the result of raising `2` to the power of `8`.\n",
    "\n",
    "```python\n",
    "# Exercise 30\n",
    "```\n",
    "\n",
    "---\n",
    "\n",
    "### Exercise 31:\n",
    "Assign a list of your favorite fruits to a variable `fruits`.\n",
    "\n",
    "```python\n",
    "# Exercise 31\n",
    "```\n",
    "\n",
    "---\n",
    "\n",
    "### Exercise 32:\n",
    "Assign a tuple of three numbers to a variable `coordinates`.\n",
    "\n",
    "```python\n",
    "# Exercise 32\n",
    "```\n",
    "\n",
    "---\n",
    "\n",
    "### Exercise 33:\n",
    "Assign a dictionary with keys `name` and `age` to a variable `person`.\n",
    "\n",
    "```python\n",
    "# Exercise 33\n",
    "```\n",
    "\n",
    "---\n",
    "\n",
    "### Exercise 34:\n",
    "Use variables to store the sum of two floating-point numbers.\n",
    "\n",
    "```python\n",
    "# Exercise 34\n",
    "```\n",
    "\n",
    "---\n",
    "\n",
    "### Exercise 35:\n",
    "Create a variable `is_sunny` and assign it the result of a comparison `10 > 5`.\n",
    "\n",
    "```python\n",
    "# Exercise 35\n",
    "```\n",
    "\n",
    "---\n",
    "\n",
    "### Exercise 36:\n",
    "Assign a string and an integer to two different variables, then print both on one line.\n",
    "\n",
    "```python\n",
    "# Exercise 36\n",
    "```\n",
    "\n",
    "---\n",
    "\n",
    "### Exercise 37:\n",
    "Reassign a variable that originally held a number to a boolean value.\n",
    "\n",
    "```python\n",
    "# Exercise 37\n",
    "```\n",
    "\n",
    "---\n",
    "\n",
    "### Exercise 38:\n",
    "Create a variable `is_weekend` and assign it the result of `False`.\n",
    "\n",
    "```python\n",
    "# Exercise 38\n",
    "```\n",
    "\n",
    "---\n",
    "\n",
    "### Exercise 39:\n",
    "Assign a multi-line string to a variable `description`.\n",
    "\n",
    "```python\n",
    "# Exercise 39\n",
    "```\n",
    "\n",
    "---\n",
    "\n",
    "### Exercise 40:\n",
    "Use variables to store the result of the absolute value of `-25`.\n",
    "\n",
    "```python\n",
    "# Exercise 40\n",
    "```\n",
    "\n",
    "---\n",
    "\n",
    "### Exercise 41:\n",
    "Assign the result of a floor division `100 // 6` to a variable `floor_div_result`.\n",
    "\n",
    "```python\n",
    "# Exercise 41\n",
    "```\n",
    "\n",
    "---\n",
    "\n",
    "### Exercise 42:\n",
    "Assign the result of adding a floating-point number to an integer to a variable `mixed_sum`.\n",
    "\n",
    "```python\n",
    "# Exercise 42\n",
    "```\n",
    "\n",
    "---\n",
    "\n",
    "### Exercise 43:\n",
    "Use variables to store a combination of string concatenation.\n",
    "\n",
    "```python\n",
    "# Exercise 43\n",
    "```\n",
    "\n",
    "---\n",
    "\n",
    "### Exercise 44:\n",
    "Assign an empty list to a variable `empty_list`.\n",
    "\n",
    "```python\n",
    "# Exercise 44\n",
    "```\n",
    "\n",
    "---\n",
    "\n",
    "### Exercise 45:\n",
    "Assign a boolean value based on the comparison of two variables `a = 10` and `b = 15`.\n",
    "\n",
    "```python\n",
    "# Exercise 45\n",
    "```\n",
    "\n",
    "---\n",
    "\n",
    "### Exercise 46:\n",
    "Assign a long sentence to a variable and count its characters using `len()`.\n",
    "\n",
    "```python\n",
    "# Exercise 46\n",
    "```\n",
    "\n",
    "---\n",
    "\n",
    "### Exercise 47:\n",
    "Assign a fractional result `7 / 3` to a variable `division_result`.\n",
    "\n",
    "```python\n",
    "# Exercise 47\n",
    "```\n",
    "\n",
    "---\n",
    "\n",
    "### Exercise 48:\n",
    "Create a variable `speed` and assign it the value of 100 kilometers per hour.\n",
    "\n",
    "```python\n",
    "# Exercise 48\n",
    "```\n",
    "\n",
    "---\n",
    "\n",
    "### Exercise 49:\n",
    "Assign a multi-variable equation like `y = 3x + 5` where `x = 4` to a variable `y`.\n",
    "\n",
    "```python\n",
    "# Exercise 49\n",
    "```\n",
    "\n",
    "---\n",
    "\n",
    "### Exercise 50:\n",
    "Use variables to calculate and store the average of three numbers.\n",
    "\n",
    "```python\n",
    "# Exercise 50\n",
    "```\n",
    "\n",
    "****"
   ]
  }
 ],
 "metadata": {
  "kernelspec": {
   "display_name": "Python 3 (ipykernel)",
   "language": "python",
   "name": "python3"
  },
  "language_info": {
   "codemirror_mode": {
    "name": "ipython",
    "version": 3
   },
   "file_extension": ".py",
   "mimetype": "text/x-python",
   "name": "python",
   "nbconvert_exporter": "python",
   "pygments_lexer": "ipython3",
   "version": "3.12.7"
  }
 },
 "nbformat": 4,
 "nbformat_minor": 5
}
