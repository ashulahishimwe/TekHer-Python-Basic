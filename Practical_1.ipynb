{
 "cells": [
  {
   "cell_type": "markdown",
   "id": "426486dd",
   "metadata": {},
   "source": [
    "# Practical_1: Variables and Assignments"
   ]
  },
  {
   "cell_type": "markdown",
   "id": "681375fb-c0d2-4b30-9f93-60f88f9c49ce",
   "metadata": {},
   "source": [
    "### Exercise1 "
   ]
  },
  {
   "cell_type": "code",
   "execution_count": 11,
   "id": "6afc40f3-db6f-44b9-8ad7-ab41e7b19114",
   "metadata": {},
   "outputs": [
    {
     "name": "stdout",
     "output_type": "stream",
     "text": [
      "10\n"
     ]
    }
   ],
   "source": [
    "x = 10\n",
    "print(x)"
   ]
  },
  {
   "cell_type": "markdown",
   "id": "734028c0-fcd0-4745-906b-9f3323fc1c72",
   "metadata": {},
   "source": [
    "###  Exercise2 assignning the value TRUE to valiable called 'is_valid'."
   ]
  },
  {
   "cell_type": "code",
   "execution_count": 14,
   "id": "56119d34-72f8-454e-8c20-ad90bb6e06c3",
   "metadata": {},
   "outputs": [
    {
     "name": "stdout",
     "output_type": "stream",
     "text": [
      "True\n"
     ]
    }
   ],
   "source": [
    "is_valid = True\n",
    "print(is_valid)"
   ]
  },
  {
   "cell_type": "markdown",
   "id": "068cb080-af67-446c-b0a0-ab8fba5304d2",
   "metadata": {},
   "source": [
    "### Excercise 3 create a string variable 'name'"
   ]
  },
  {
   "cell_type": "code",
   "execution_count": 18,
   "id": "ec696809-d55a-42a9-a694-a13a38665f61",
   "metadata": {},
   "outputs": [
    {
     "data": {
      "text/plain": [
       "'python Programming'"
      ]
     },
     "execution_count": 18,
     "metadata": {},
     "output_type": "execute_result"
    }
   ],
   "source": [
    "name = \"python Programming\"\n",
    "name"
   ]
  },
  {
   "cell_type": "markdown",
   "id": "a2b21b85-ed28-46f8-a13c-a560e813b4f5",
   "metadata": {},
   "source": [
    "### exercise4 assing result of 5+3 to variable"
   ]
  },
  {
   "cell_type": "code",
   "execution_count": 23,
   "id": "30259206-314c-4733-a560-be1d830446fb",
   "metadata": {},
   "outputs": [
    {
     "data": {
      "text/plain": [
       "8"
      ]
     },
     "execution_count": 23,
     "metadata": {},
     "output_type": "execute_result"
    }
   ],
   "source": [
    "sum_result = 5 + 3\n",
    "sum_result"
   ]
  },
  {
   "cell_type": "markdown",
   "id": "ffdadff2-d73d-4173-b56e-be0b19c68ea1",
   "metadata": {},
   "source": [
    "### Exercise 5   assign multiple variable on one line:"
   ]
  },
  {
   "cell_type": "code",
   "execution_count": 26,
   "id": "ae8532e6-3a15-482f-8252-214147d7d69e",
   "metadata": {},
   "outputs": [
    {
     "name": "stdout",
     "output_type": "stream",
     "text": [
      "5 10 15\n"
     ]
    }
   ],
   "source": [
    "a,b,c = 5, 10,15\n",
    "print(a,b,c)"
   ]
  },
  {
   "cell_type": "markdown",
   "id": "10d526a6-f3f7-4100-9746-a98a092a16f0",
   "metadata": {},
   "source": [
    "## Exercise 6 assign the value of one variable X to another variable"
   ]
  },
  {
   "cell_type": "code",
   "execution_count": 31,
   "id": "e0f33d25-92e4-4637-a74f-2702bf5a0ac8",
   "metadata": {},
   "outputs": [
    {
     "data": {
      "text/plain": [
       "10"
      ]
     },
     "execution_count": 31,
     "metadata": {},
     "output_type": "execute_result"
    }
   ],
   "source": [
    "y = x\n",
    "y"
   ]
  },
  {
   "cell_type": "markdown",
   "id": "fde83571-802e-4629-b936-70f400b264ef",
   "metadata": {},
   "source": [
    "## Exercise 7 Assign afloating point 9.8 to a variable graavity."
   ]
  },
  {
   "cell_type": "code",
   "execution_count": 36,
   "id": "97a27dd7-c7a5-461e-b719-26d311369e26",
   "metadata": {},
   "outputs": [
    {
     "data": {
      "text/plain": [
       "9.8"
      ]
     },
     "execution_count": 36,
     "metadata": {},
     "output_type": "execute_result"
    }
   ],
   "source": [
    "gravity = 9.8\n",
    "gravity"
   ]
  },
  {
   "cell_type": "markdown",
   "id": "6191b4a5-e93f-4987-9a56-5cc5599b72e1",
   "metadata": {},
   "source": [
    "## Exercise 8:Create a variable COUNTRY and assign it the string value of country"
   ]
  },
  {
   "cell_type": "code",
   "execution_count": 39,
   "id": "2c542d2c-a890-45e9-90cd-5aef60abd5e6",
   "metadata": {},
   "outputs": [
    {
     "data": {
      "text/plain": [
       "'Uk'"
      ]
     },
     "execution_count": 39,
     "metadata": {},
     "output_type": "execute_result"
    }
   ],
   "source": [
    "country = \"Uk\"\n",
    "country"
   ]
  },
  {
   "cell_type": "markdown",
   "id": "ab99020d-cbf8-4759-b8d1-8f411e0f7467",
   "metadata": {},
   "source": [
    "## Exercise 9 : change the value of variable age from 25 to 26 in two separate "
   ]
  },
  {
   "cell_type": "code",
   "execution_count": 42,
   "id": "7008f19b-e182-4b6d-830f-9875a2d0f9c7",
   "metadata": {},
   "outputs": [
    {
     "data": {
      "text/plain": [
       "26"
      ]
     },
     "execution_count": 42,
     "metadata": {},
     "output_type": "execute_result"
    }
   ],
   "source": [
    "age = 25 \n",
    "age = 26\n",
    "age "
   ]
  },
  {
   "cell_type": "markdown",
   "id": "485f6e83-64b4-4ffe-a77f-25ca3c3bbca3",
   "metadata": {},
   "source": [
    "## Exercise 10: use one variable to store the result of subtracting two numbers 20 - 7"
   ]
  },
  {
   "cell_type": "markdown",
   "id": "fe932897-1d11-43ce-b778-be99f372fb94",
   "metadata": {},
   "source": [
    "difference = 20 - 7\n",
    "difference"
   ]
  },
  {
   "cell_type": "markdown",
   "id": "802cf858-d60e-43e4-a4b3-8e27d025a149",
   "metadata": {},
   "source": [
    "## Exercise 11 : assign an integer value and a floating point value to two different variables."
   ]
  },
  {
   "cell_type": "code",
   "execution_count": 64,
   "id": "2ff9c426-dc3e-4e7a-b634-e3ccc05e50ca",
   "metadata": {},
   "outputs": [
    {
     "name": "stdout",
     "output_type": "stream",
     "text": [
      "42 5.14\n"
     ]
    }
   ],
   "source": [
    "integer_val = 42\n",
    "float_val =5.14\n",
    "print(integer_val, float_val)"
   ]
  },
  {
   "cell_type": "markdown",
   "id": "56a47a91-bf15-48ce-8030-95eece41bc2c",
   "metadata": {},
   "source": [
    "## Exercise12 assign a boolean value False to a variable is completed"
   ]
  },
  {
   "cell_type": "code",
   "execution_count": 59,
   "id": "87e45ddc-e63e-46ff-8100-c4a820fdb47d",
   "metadata": {},
   "outputs": [
    {
     "data": {
      "text/plain": [
       "False"
      ]
     },
     "execution_count": 59,
     "metadata": {},
     "output_type": "execute_result"
    }
   ],
   "source": [
    "is_completed = False\n",
    "is_completed"
   ]
  },
  {
   "cell_type": "markdown",
   "id": "7d8cffca-c90b-4842-9d5e-416d1282f839",
   "metadata": {},
   "source": [
    "## exercise 13: Swap the values of two variable X and Y"
   ]
  },
  {
   "cell_type": "code",
   "execution_count": 62,
   "id": "94c3faa1-60d6-4604-9978-fa8c9f8821c7",
   "metadata": {},
   "outputs": [
    {
     "name": "stdout",
     "output_type": "stream",
     "text": [
      "20 10\n"
     ]
    }
   ],
   "source": [
    "x = 30\n",
    "y =20\n",
    "x, y = y, x\n",
    "print(x,y)"
   ]
  },
  {
   "cell_type": "markdown",
   "id": "5c3abdf1-873d-40f9-a885-aefb0904b5f6",
   "metadata": {},
   "source": [
    "## Exercise 14: Complex number assignment 3 + 4j to a variable complex_num"
   ]
  },
  {
   "cell_type": "code",
   "execution_count": 68,
   "id": "5529e84b-f683-458f-960a-ab36bc4c2f8f",
   "metadata": {},
   "outputs": [
    {
     "data": {
      "text/plain": [
       "(3+4j)"
      ]
     },
     "execution_count": 68,
     "metadata": {},
     "output_type": "execute_result"
    }
   ],
   "source": [
    "complex_num = 3 +4j\n",
    "complex_num"
   ]
  },
  {
   "cell_type": "markdown",
   "id": "c38d64d6-a167-4671-b0ac-9fd149f632d6",
   "metadata": {},
   "source": [
    "### Exercise 15 Reassign a variable from integer to a string."
   ]
  },
  {
   "cell_type": "code",
   "execution_count": 71,
   "id": "317754fe-7800-463f-9223-e507d196a8cc",
   "metadata": {},
   "outputs": [
    {
     "data": {
      "text/plain": [
       "'hundred'"
      ]
     },
     "execution_count": 71,
     "metadata": {},
     "output_type": "execute_result"
    }
   ],
   "source": [
    "num_var = 100\n",
    "num_var = \"hundred\"\n",
    "num_var"
   ]
  },
  {
   "cell_type": "markdown",
   "id": "1bce46bf-0253-48f6-9762-df3928a4a852",
   "metadata": {},
   "source": [
    "### Exercise 16: create two variable first_name and last_name and assign them your first and last"
   ]
  },
  {
   "cell_type": "code",
   "execution_count": 74,
   "id": "bb5ab7c4-c2f3-46f0-bc2c-9a619336de4a",
   "metadata": {},
   "outputs": [
    {
     "name": "stdout",
     "output_type": "stream",
     "text": [
      "Jogh Doe\n"
     ]
    }
   ],
   "source": [
    "first_name = \"Jogh\"\n",
    "last_name = \"Doe\"\n",
    "print(first_name, last_name)"
   ]
  },
  {
   "cell_type": "markdown",
   "id": "26a00aed-e6e2-4e20-b14f-b15a7175f221",
   "metadata": {},
   "source": [
    "### Exercise 17: create a variable temperature and assign it the value of 35.5"
   ]
  },
  {
   "cell_type": "code",
   "execution_count": 77,
   "id": "c14bf0bb-a9b2-4f2a-9d55-51304244b53d",
   "metadata": {},
   "outputs": [
    {
     "data": {
      "text/plain": [
       "35.5"
      ]
     },
     "execution_count": 77,
     "metadata": {},
     "output_type": "execute_result"
    }
   ],
   "source": [
    "temperature = 35.5 \n",
    "temperature"
   ]
  },
  {
   "cell_type": "markdown",
   "id": "312e877a-7287-4f0c-94f9-b18ed870f599",
   "metadata": {},
   "source": [
    "### Exercise 18: assign the result of the multiplication of two number 8*6"
   ]
  },
  {
   "cell_type": "code",
   "execution_count": 80,
   "id": "0c1d7a54-eb7f-4359-aa85-39837a2698bf",
   "metadata": {},
   "outputs": [
    {
     "data": {
      "text/plain": [
       "48"
      ]
     },
     "execution_count": 80,
     "metadata": {},
     "output_type": "execute_result"
    }
   ],
   "source": [
    "multiplication = 8*6\n",
    "multiplication"
   ]
  },
  {
   "cell_type": "markdown",
   "id": "ba3a3346-17b4-4acc-a62a-c8b8623d0a69",
   "metadata": {},
   "source": [
    "### Exercise 19 assignmnent of sentence of your choice to a variable sentence"
   ]
  },
  {
   "cell_type": "code",
   "execution_count": 83,
   "id": "3754423c-71c9-4b10-bcf0-d93d330a7826",
   "metadata": {},
   "outputs": [
    {
     "data": {
      "text/plain": [
       "'python is a versatile programming language.'"
      ]
     },
     "execution_count": 83,
     "metadata": {},
     "output_type": "execute_result"
    }
   ],
   "source": [
    "sentence = \"python is a versatile programming language.\"\n",
    "sentence"
   ]
  },
  {
   "cell_type": "markdown",
   "id": "b669cb8d-4a53-48a0-9144-da99e2974e0f",
   "metadata": {},
   "source": [
    " ## exercise 20: use an assignment to convert a string \"50\" into an integer variable int_value"
   ]
  },
  {
   "cell_type": "code",
   "execution_count": 86,
   "id": "d3ade543-3b5b-4a57-b8a6-4d22515bbaa9",
   "metadata": {},
   "outputs": [
    {
     "data": {
      "text/plain": [
       "50"
      ]
     },
     "execution_count": 86,
     "metadata": {},
     "output_type": "execute_result"
    }
   ],
   "source": [
    "int_value = int('50')\n",
    "int_value"
   ]
  },
  {
   "cell_type": "markdown",
   "id": "51323dc6-15ee-416f-b9f5-0d7b8e7ae274",
   "metadata": {},
   "source": [
    "### Exercise Assignment of result of dividing 144 by 12 to variable quotient"
   ]
  },
  {
   "cell_type": "code",
   "execution_count": 89,
   "id": "4e906f8c-bfeb-4cb8-bbc0-08fabdb43711",
   "metadata": {},
   "outputs": [
    {
     "data": {
      "text/plain": [
       "12.0"
      ]
     },
     "execution_count": 89,
     "metadata": {},
     "output_type": "execute_result"
    }
   ],
   "source": [
    "quotient= 144/12\n",
    "quotient"
   ]
  },
  {
   "cell_type": "markdown",
   "id": "28bdccf0-a928-4b70-8aa3-7f7846565ce5",
   "metadata": {},
   "source": [
    "## Exercise assign the remainder of 47 divid by 5 to variable remainder"
   ]
  },
  {
   "cell_type": "code",
   "execution_count": 92,
   "id": "161f3b2e-a120-4c05-b325-94aca388b64e",
   "metadata": {},
   "outputs": [
    {
     "data": {
      "text/plain": [
       "2"
      ]
     },
     "execution_count": 92,
     "metadata": {},
     "output_type": "execute_result"
    }
   ],
   "source": [
    "remainder = 47%5\n",
    "remainder"
   ]
  },
  {
   "cell_type": "markdown",
   "id": "5dc82aa7-9c8e-4500-8a41-fe206362de49",
   "metadata": {},
   "source": [
    "## Exercise 23 create a variable is_student and assign it the value True."
   ]
  },
  {
   "cell_type": "code",
   "execution_count": 95,
   "id": "d341cc50-1b4f-4030-96dd-61e1a727edc9",
   "metadata": {},
   "outputs": [
    {
     "data": {
      "text/plain": [
       "True"
      ]
     },
     "execution_count": 95,
     "metadata": {},
     "output_type": "execute_result"
    }
   ],
   "source": [
    "is_student = True\n",
    "is_student"
   ]
  },
  {
   "cell_type": "markdown",
   "id": "b0877f34-7e21-4098-93e4-967c9555803c",
   "metadata": {},
   "source": [
    "## Exercise 25 use a variable to store the  result of a modulo operation:45%4"
   ]
  },
  {
   "cell_type": "code",
   "execution_count": 102,
   "id": "14100ef9-ef49-4cbd-98df-d340e6fb204c",
   "metadata": {},
   "outputs": [
    {
     "data": {
      "text/plain": [
       "1"
      ]
     },
     "execution_count": 102,
     "metadata": {},
     "output_type": "execute_result"
    }
   ],
   "source": [
    "moduloresult = 45 % 4\n",
    "moduloresult"
   ]
  },
  {
   "cell_type": "markdown",
   "id": "5994938e-a954-411c-b451-2494b1baab1d",
   "metadata": {},
   "source": [
    "## Exercise 25 create a variable pi and assign it the value 3.14159"
   ]
  },
  {
   "cell_type": "code",
   "execution_count": 105,
   "id": "71fa0466-a046-4b66-85a4-6b53fef25517",
   "metadata": {},
   "outputs": [
    {
     "data": {
      "text/plain": [
       "3.14159"
      ]
     },
     "execution_count": 105,
     "metadata": {},
     "output_type": "execute_result"
    }
   ],
   "source": [
    "pi = 3.14159\n",
    "pi"
   ]
  },
  {
   "cell_type": "markdown",
   "id": "345e1d8c-7f3c-469b-a62d-27dee3add181",
   "metadata": {},
   "source": [
    "## Exercise 26 Create two variables length and width  assign them values"
   ]
  },
  {
   "cell_type": "code",
   "execution_count": 109,
   "id": "d598a7ca-9682-4de3-9565-fabb140fcd71",
   "metadata": {},
   "outputs": [
    {
     "data": {
      "text/plain": [
       "15"
      ]
     },
     "execution_count": 109,
     "metadata": {},
     "output_type": "execute_result"
    }
   ],
   "source": [
    "length = 5\n",
    "width = 3\n",
    "area = length * width\n",
    "area"
   ]
  },
  {
   "cell_type": "markdown",
   "id": "291e6bc2-c6f7-4b61-9bc5-ae714b4a8702",
   "metadata": {},
   "source": [
    "## Exercise assign negative number to variable negative_value"
   ]
  },
  {
   "cell_type": "code",
   "execution_count": 112,
   "id": "08f2ecd0-ecbd-4f5f-9876-f5fc4c150e2b",
   "metadata": {},
   "outputs": [
    {
     "data": {
      "text/plain": [
       "-42"
      ]
     },
     "execution_count": 112,
     "metadata": {},
     "output_type": "execute_result"
    }
   ],
   "source": [
    "negative_value= -42\n",
    "negative_value"
   ]
  },
  {
   "cell_type": "markdown",
   "id": "ff8544c1-ecf9-46ae-9dfc-f06d108dc1e3",
   "metadata": {},
   "source": [
    "## Exercise 28 assign a string containing a special charactor"
   ]
  },
  {
   "cell_type": "code",
   "execution_count": 115,
   "id": "df43873e-888a-45e2-805b-42c13a6194f3",
   "metadata": {},
   "outputs": [
    {
     "data": {
      "text/plain": [
       "'hello ther'"
      ]
     },
     "execution_count": 115,
     "metadata": {},
     "output_type": "execute_result"
    }
   ],
   "source": [
    "Greeting = \"hello ther\"\n",
    "Greeting"
   ]
  },
  {
   "cell_type": "markdown",
   "id": "daf1638f-384e-4008-879f-81b57f8b56b1",
   "metadata": {},
   "source": [
    "## Exercise 29 creating a variable population and assign it a large integer value"
   ]
  },
  {
   "cell_type": "code",
   "execution_count": 118,
   "id": "d6bb2392-c1cf-4e45-8211-c20e62c3f278",
   "metadata": {},
   "outputs": [
    {
     "data": {
      "text/plain": [
       "7800988"
      ]
     },
     "execution_count": 118,
     "metadata": {},
     "output_type": "execute_result"
    }
   ],
   "source": [
    "population = 7800988       # 7.8 billion\n",
    "population"
   ]
  },
  {
   "cell_type": "markdown",
   "id": "dbf4cff9-a848-46ec-b791-c8e5ed7bdbb7",
   "metadata": {},
   "source": [
    "### Exercise30 use variable to store the result of raising 2 to the power 8"
   ]
  },
  {
   "cell_type": "code",
   "execution_count": 121,
   "id": "c75bb074-bd85-4197-a27c-1191c754c45c",
   "metadata": {},
   "outputs": [
    {
     "data": {
      "text/plain": [
       "256"
      ]
     },
     "execution_count": 121,
     "metadata": {},
     "output_type": "execute_result"
    }
   ],
   "source": [
    "power_result = 2 ** 8\n",
    "power_result"
   ]
  },
  {
   "cell_type": "markdown",
   "id": "82d9dd14-274f-45e8-86ca-fe5609748e33",
   "metadata": {},
   "source": [
    "### Exercise 31 Assignment a list of your favorite fruits to a variable fruits"
   ]
  },
  {
   "cell_type": "code",
   "execution_count": 125,
   "id": "9da1d87e-d9cf-46b2-a676-acbc116b7359",
   "metadata": {},
   "outputs": [
    {
     "data": {
      "text/plain": [
       "['apple', 'banana', 'strowbery', 'mango']"
      ]
     },
     "execution_count": 125,
     "metadata": {},
     "output_type": "execute_result"
    }
   ],
   "source": [
    "Fruit = [\"apple\", \"banana\",\"strowbery\",\"mango\"]\n",
    "Fruit"
   ]
  },
  {
   "cell_type": "markdown",
   "id": "7c4348b1-7b75-45ac-b4d7-aa68e406eda5",
   "metadata": {},
   "source": [
    "### Exercise32 assign a tuple of three numbers to a variable coordinates."
   ]
  },
  {
   "cell_type": "code",
   "execution_count": 130,
   "id": "afaecd8d-0dfc-430e-94ed-22ce3a323f83",
   "metadata": {},
   "outputs": [
    {
     "data": {
      "text/plain": [
       "(10, 20, 30)"
      ]
     },
     "execution_count": 130,
     "metadata": {},
     "output_type": "execute_result"
    }
   ],
   "source": [
    "coordinate = (10,20,30)\n",
    "coordinate"
   ]
  },
  {
   "cell_type": "markdown",
   "id": "9cc36ddb-c438-428c-9c4e-9b7869183d55",
   "metadata": {},
   "source": [
    "## Exercise 33: assigna dictionary eith keys name and age to a variable person"
   ]
  },
  {
   "cell_type": "code",
   "execution_count": 133,
   "id": "bd762d6e-f1e5-457a-b365-ed59deef6779",
   "metadata": {},
   "outputs": [
    {
     "data": {
      "text/plain": [
       "{'name': 'alice', 'age': 30}"
      ]
     },
     "execution_count": 133,
     "metadata": {},
     "output_type": "execute_result"
    }
   ],
   "source": [
    "person = {\"name\":\"alice\",\"age\":30 }\n",
    "person"
   ]
  },
  {
   "cell_type": "markdown",
   "id": "e99efc55-1a4e-4df5-87d9-c437a367ad03",
   "metadata": {},
   "source": [
    "### Exercise 34 use variables to store the sum of two floating-point numbers."
   ]
  },
  {
   "cell_type": "code",
   "execution_count": 138,
   "id": "8f974ea4-1a06-493d-8988-bb8d415e3a97",
   "metadata": {},
   "outputs": [
    {
     "data": {
      "text/plain": [
       "6.2"
      ]
     },
     "execution_count": 138,
     "metadata": {},
     "output_type": "execute_result"
    }
   ],
   "source": [
    "float1 = 3.5\n",
    "float2 = 2.7\n",
    "float_sum = float1 + float2\n",
    "float_sum\n"
   ]
  },
  {
   "cell_type": "markdown",
   "id": "3cdbb82a-d38c-4e86-9022-7a9a893d3560",
   "metadata": {},
   "source": [
    "### Exercise 35 is_sunny and assign it the result of a comparison 10 > 5"
   ]
  },
  {
   "cell_type": "code",
   "execution_count": 142,
   "id": "fde1d3b0-e171-44b4-a59d-a83b1a9cea82",
   "metadata": {},
   "outputs": [
    {
     "data": {
      "text/plain": [
       "True"
      ]
     },
     "execution_count": 142,
     "metadata": {},
     "output_type": "execute_result"
    }
   ],
   "source": [
    "is_sunny =10 > 5\n",
    "is_sunny"
   ]
  },
  {
   "cell_type": "markdown",
   "id": "7f0f6624-8481-4aaa-ad67-e10732b37767",
   "metadata": {},
   "source": [
    "### Exercise 36 assign a string and an integer to two different variables, then print both on one line."
   ]
  },
  {
   "cell_type": "code",
   "execution_count": 145,
   "id": "42452fd1-8f49-435e-8539-720352b3fa64",
   "metadata": {},
   "outputs": [
    {
     "name": "stdout",
     "output_type": "stream",
     "text": [
      "The answer is 42\n"
     ]
    }
   ],
   "source": [
    "message = \"The answer is\"\n",
    "number = 42\n",
    "print (message, number)"
   ]
  },
  {
   "cell_type": "markdown",
   "id": "cbf97382-ebca-4c20-b970-2d9d48cbcf64",
   "metadata": {},
   "source": [
    "### Exercice 37 : Reassign a variable that originally held a number to a boolean valuea"
   ]
  },
  {
   "cell_type": "code",
   "execution_count": 148,
   "id": "77b43a6c-a0f3-4661-b7bf-bc30d21931d4",
   "metadata": {},
   "outputs": [
    {
     "data": {
      "text/plain": [
       "True"
      ]
     },
     "execution_count": 148,
     "metadata": {},
     "output_type": "execute_result"
    }
   ],
   "source": [
    "var = 100\n",
    "var = True\n",
    "var"
   ]
  },
  {
   "cell_type": "markdown",
   "id": "95e95b93-9bc7-40bd-962f-0b71700ea832",
   "metadata": {},
   "source": [
    "### Exercise 38: create a variable is_weekend and assign it the result of false."
   ]
  },
  {
   "cell_type": "code",
   "execution_count": 151,
   "id": "1aac5821-7f79-428e-88b6-cff4222a21b5",
   "metadata": {},
   "outputs": [
    {
     "data": {
      "text/plain": [
       "False"
      ]
     },
     "execution_count": 151,
     "metadata": {},
     "output_type": "execute_result"
    }
   ],
   "source": [
    "is_weekend = False\n",
    "is_weekend"
   ]
  },
  {
   "cell_type": "markdown",
   "id": "4fe837de-0f7c-4548-b006-29abdc054ef1",
   "metadata": {},
   "source": [
    "### Exercise39 assign a multi-line string to a variable description."
   ]
  },
  {
   "cell_type": "code",
   "execution_count": 154,
   "id": "79465a81-b937-45fb-9039-d35b897fd0f1",
   "metadata": {},
   "outputs": [
    {
     "data": {
      "text/plain": [
       "\"this is multi-line string.\\n              It spans across multiple lines\\n              It's useful for longer text content.\""
      ]
     },
     "execution_count": 154,
     "metadata": {},
     "output_type": "execute_result"
    }
   ],
   "source": [
    "description = \"\"\"this is multi-line string.\n",
    "              It spans across multiple lines\n",
    "              It's useful for longer text content.\"\"\"\n",
    "description "
   ]
  },
  {
   "cell_type": "markdown",
   "id": "833d6ab4-4e0c-4c43-97c8-0841de0299ca",
   "metadata": {},
   "source": [
    "### Exercise 40 use variables to store the result of the absolute value of -25."
   ]
  },
  {
   "cell_type": "code",
   "execution_count": 158,
   "id": "fa81a38a-0c45-4238-a779-be90aeda6f44",
   "metadata": {},
   "outputs": [
    {
     "data": {
      "text/plain": [
       "25"
      ]
     },
     "execution_count": 158,
     "metadata": {},
     "output_type": "execute_result"
    }
   ],
   "source": [
    "abs_value = abs(-25)\n",
    "abs_value "
   ]
  },
  {
   "cell_type": "markdown",
   "id": "40b9a01c-94de-4bce-932d-0d1b1c242ad6",
   "metadata": {},
   "source": [
    "### Exercise41 assign the result of a floor division 100 //6 to variable floor_dir_result. "
   ]
  },
  {
   "cell_type": "code",
   "execution_count": 161,
   "id": "b12573fc-c3dd-4ff6-abfb-c05451a6f6d0",
   "metadata": {},
   "outputs": [
    {
     "data": {
      "text/plain": [
       "16"
      ]
     },
     "execution_count": 161,
     "metadata": {},
     "output_type": "execute_result"
    }
   ],
   "source": [
    "floor_div_result = 100 // 6\n",
    "floor_div_result"
   ]
  },
  {
   "cell_type": "markdown",
   "id": "660e9906-df73-4f89-b320-ca544c28dcb0",
   "metadata": {},
   "source": [
    "### Exercise 42: assign the result of adding a floatinf point number to an integer to a variable mixed sum."
   ]
  },
  {
   "cell_type": "code",
   "execution_count": 164,
   "id": "2c30cdfa-199f-4bff-957d-ec272c3c3fab",
   "metadata": {},
   "outputs": [
    {
     "data": {
      "text/plain": [
       "15.5"
      ]
     },
     "execution_count": 164,
     "metadata": {},
     "output_type": "execute_result"
    }
   ],
   "source": [
    "integer_num = 10\n",
    "float_num = 5.5 \n",
    "mixed_sum = integer_num + float_num\n",
    "mixed_sum"
   ]
  },
  {
   "cell_type": "markdown",
   "id": "a20bf662-7d6e-44ff-9fb1-fcca15b284e2",
   "metadata": {},
   "source": [
    "###  Exercise 43 Use variables to store a combination of string concatenation"
   ]
  },
  {
   "cell_type": "code",
   "execution_count": 167,
   "id": "eb085803-4d89-47d1-b52f-e196c4b11dbc",
   "metadata": {},
   "outputs": [
    {
     "data": {
      "text/plain": [
       "'Hello world'"
      ]
     },
     "execution_count": 167,
     "metadata": {},
     "output_type": "execute_result"
    }
   ],
   "source": [
    "str1 = \"Hello\"\n",
    "str2 =\"world\"\n",
    "combined_str = str1 + \" \" + str2\n",
    "combined_str"
   ]
  },
  {
   "cell_type": "markdown",
   "id": "714fde62-4bfe-41b1-87fa-f67381971b70",
   "metadata": {},
   "source": [
    "### Exercise 44: Assign an empty list to a variable empty_list "
   ]
  },
  {
   "cell_type": "code",
   "execution_count": 171,
   "id": "84a2901a-82a9-4152-be52-834e5166f649",
   "metadata": {},
   "outputs": [
    {
     "data": {
      "text/plain": [
       "[]"
      ]
     },
     "execution_count": 171,
     "metadata": {},
     "output_type": "execute_result"
    }
   ],
   "source": [
    "empty_list = []\n",
    "empty_list"
   ]
  },
  {
   "cell_type": "markdown",
   "id": "f72e304d-89c8-400f-9e7c-3e097ae0abe5",
   "metadata": {},
   "source": [
    "### Exercise 45 Assign a boolean value based on the comparison of two variables a= 10 and b = 15"
   ]
  },
  {
   "cell_type": "code",
   "execution_count": 174,
   "id": "a9c82c93-6ec0-4956-9bbd-fd8aa5532de2",
   "metadata": {},
   "outputs": [
    {
     "data": {
      "text/plain": [
       "True"
      ]
     },
     "execution_count": 174,
     "metadata": {},
     "output_type": "execute_result"
    }
   ],
   "source": [
    "a = 10\n",
    "b = 15\n",
    "comparison_result = a<b\n",
    "comparison_result"
   ]
  },
  {
   "cell_type": "markdown",
   "id": "215678e0-5505-4133-929a-0a865e5bc974",
   "metadata": {},
   "source": [
    "### Exercise 46 Assign a long sentence to a variable and count its charactersusing len()"
   ]
  },
  {
   "cell_type": "code",
   "execution_count": 177,
   "id": "285ea399-cb63-4cb7-b5f5-6b79a4beec1c",
   "metadata": {},
   "outputs": [
    {
     "data": {
      "text/plain": [
       "141"
      ]
     },
     "execution_count": 177,
     "metadata": {},
     "output_type": "execute_result"
    }
   ],
   "source": [
    "long_sentence = \"This is a rather lomg sentence that will be used to demonstrate how to count the number of characters in a string using python len() function\"\n",
    "char_count = len(long_sentence)\n",
    "char_count"
   ]
  },
  {
   "cell_type": "markdown",
   "id": "b601f704-424c-4cfc-aa1d-78366ed02f96",
   "metadata": {},
   "source": [
    "### Exercise 47 Assign a fractional result 7/3 to a variable division_result"
   ]
  },
  {
   "cell_type": "code",
   "execution_count": 180,
   "id": "573e003a-03e3-484b-88cb-c0c96c2278f4",
   "metadata": {},
   "outputs": [
    {
     "data": {
      "text/plain": [
       "2.3333333333333335"
      ]
     },
     "execution_count": 180,
     "metadata": {},
     "output_type": "execute_result"
    }
   ],
   "source": [
    "division_result = 7/3\n",
    "division_result"
   ]
  },
  {
   "cell_type": "markdown",
   "id": "c0181694-446b-494d-a32e-cfc043e7feba",
   "metadata": {},
   "source": [
    "### Exercise 48 : Create a variable speed and assign it the value  of 100K per hour"
   ]
  },
  {
   "cell_type": "code",
   "execution_count": 183,
   "id": "8dfa49d8-3965-4798-a375-15fdb48b1af7",
   "metadata": {},
   "outputs": [
    {
     "data": {
      "text/plain": [
       "100"
      ]
     },
     "execution_count": 183,
     "metadata": {},
     "output_type": "execute_result"
    }
   ],
   "source": [
    "speed =100 # km/h\n",
    "speed"
   ]
  },
  {
   "cell_type": "markdown",
   "id": "59f077da-242a-49b3-8161-6c88c0b8d96d",
   "metadata": {},
   "source": [
    "### Exercise 49 assign a mult_variable equation like y =3x + 5 wherex = 4 to a variable y."
   ]
  },
  {
   "cell_type": "code",
   "execution_count": 186,
   "id": "d0d1a5b3-1919-493e-8442-f033dcdb5535",
   "metadata": {},
   "outputs": [
    {
     "data": {
      "text/plain": [
       "20"
      ]
     },
     "execution_count": 186,
     "metadata": {},
     "output_type": "execute_result"
    }
   ],
   "source": [
    "x = 5\n",
    "y = 3 * x + 5\n",
    "y"
   ]
  },
  {
   "cell_type": "markdown",
   "id": "cc6d3836-63a0-4657-be09-b2cb3dec6859",
   "metadata": {},
   "source": [
    "### Exercise 50 Use variables to calculate and store the average of three numbers."
   ]
  },
  {
   "cell_type": "code",
   "execution_count": 193,
   "id": "4c8dfb6d-bde4-4d16-b84f-0c4bdfa5afbb",
   "metadata": {},
   "outputs": [
    {
     "data": {
      "text/plain": [
       "15.0"
      ]
     },
     "execution_count": 193,
     "metadata": {},
     "output_type": "execute_result"
    }
   ],
   "source": [
    "num1 = 10\n",
    "num2 = 15\n",
    "num3 = 20\n",
    "average = (num1 + num2 + num3)/3\n",
    "average\n"
   ]
  },
  {
   "cell_type": "code",
   "execution_count": null,
   "id": "577a5438-9753-429a-bedc-bf0ed148ff7c",
   "metadata": {},
   "outputs": [],
   "source": []
  }
 ],
 "metadata": {
  "kernelspec": {
   "display_name": "Python 3 (ipykernel)",
   "language": "python",
   "name": "python3"
  },
  "language_info": {
   "codemirror_mode": {
    "name": "ipython",
    "version": 3
   },
   "file_extension": ".py",
   "mimetype": "text/x-python",
   "name": "python",
   "nbconvert_exporter": "python",
   "pygments_lexer": "ipython3",
   "version": "3.12.7"
  }
 },
 "nbformat": 4,
 "nbformat_minor": 5
}
