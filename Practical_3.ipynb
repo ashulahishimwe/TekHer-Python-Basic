{
 "cells": [
  {
   "cell_type": "markdown",
   "id": "cb9ebacc",
   "metadata": {},
   "source": [
    "# Practical_3: Iterable objects or Containers"
   ]
  },
  {
   "cell_type": "markdown",
   "id": "95af436e",
   "metadata": {},
   "source": [
    "\n",
    "---\n",
    "\n",
    "### Exercise 1:\n",
    "Create a list of integers from 1 to 10.\n"
   ]
  },
  {
   "cell_type": "code",
   "execution_count": 13,
   "id": "c99db8f5",
   "metadata": {},
   "outputs": [
    {
     "data": {
      "text/plain": [
       "[1, 2, 3, 4, 5, 6, 7, 8, 9]"
      ]
     },
     "execution_count": 13,
     "metadata": {},
     "output_type": "execute_result"
    }
   ],
   "source": [
    "list_int = list(range(1,10))\n",
    "list_int"
   ]
  },
  {
   "cell_type": "markdown",
   "id": "03698ae8",
   "metadata": {},
   "source": [
    "\n",
    "---\n",
    "\n",
    "### Exercise 2:\n",
    "Create a tuple containing the elements `\"apple\"`, `\"banana\"`, and `\"cherry\"`.\n"
   ]
  },
  {
   "cell_type": "code",
   "execution_count": 15,
   "id": "e8bad276",
   "metadata": {},
   "outputs": [
    {
     "data": {
      "text/plain": [
       "('apple', 'banana', 'cherry')"
      ]
     },
     "execution_count": 15,
     "metadata": {},
     "output_type": "execute_result"
    }
   ],
   "source": [
    "tuple_ele = (\"apple\",\"banana\",\"cherry\")\n",
    "tuple_ele"
   ]
  },
  {
   "cell_type": "markdown",
   "id": "f966d443",
   "metadata": {},
   "source": [
    "\n",
    "---\n",
    "\n",
    "### Exercise 3:\n",
    "Convert the list `numbers = [10, 20, 30, 40]` into a tuple.\n"
   ]
  },
  {
   "cell_type": "code",
   "execution_count": 17,
   "id": "82f344f9",
   "metadata": {},
   "outputs": [
    {
     "name": "stdout",
     "output_type": "stream",
     "text": [
      "(10, 20, 30, 40)\n"
     ]
    }
   ],
   "source": [
    "# Exercise 3\n",
    "numbers = [10, 20, 30, 40]\n",
    "x=tuple(numbers)\n",
    "print(x)"
   ]
  },
  {
   "cell_type": "markdown",
   "id": "e7116820",
   "metadata": {},
   "source": [
    "\n",
    "---\n",
    "\n",
    "### Exercise 4:\n",
    "Create a set containing the elements `1, 2, 3, 4, 5`.\n"
   ]
  },
  {
   "cell_type": "code",
   "execution_count": 23,
   "id": "eeb3faad",
   "metadata": {},
   "outputs": [
    {
     "name": "stdout",
     "output_type": "stream",
     "text": [
      "{1, 2, 3, 4, 5, 6}\n"
     ]
    }
   ],
   "source": [
    "# Exercise 4\n",
    "element =[1,2,3,4,5,6]\n",
    "elementset= set(element)\n",
    "print(elementset)"
   ]
  },
  {
   "cell_type": "markdown",
   "id": "6ff44a5e",
   "metadata": {},
   "source": [
    "\n",
    "---\n",
    "\n",
    "### Exercise 5:\n",
    "Create a dictionary `student` with the keys `\"name\"`, `\"age\"`, and `\"grade\"` and corresponding values `\"Alice\"`, `20`, and `\"A\"`.\n"
   ]
  },
  {
   "cell_type": "code",
   "execution_count": 25,
   "id": "4343c280",
   "metadata": {},
   "outputs": [
    {
     "data": {
      "text/plain": [
       "{'name': 'alice', 'age': 23, 'grade': 'A'}"
      ]
     },
     "execution_count": 25,
     "metadata": {},
     "output_type": "execute_result"
    }
   ],
   "source": [
    "student_dict={\"name\":\"alice\",\"age\":23,\"grade\":\"A\"}\n",
    "student_dict"
   ]
  },
  {
   "cell_type": "markdown",
   "id": "e6133eec",
   "metadata": {},
   "source": [
    "\n",
    "---\n",
    "\n",
    "### Exercise 6:\n",
    "Access the second element of the list `[10, 20, 30, 40, 50]` using indexing.\n"
   ]
  },
  {
   "cell_type": "code",
   "execution_count": 33,
   "id": "98325501",
   "metadata": {},
   "outputs": [
    {
     "name": "stdout",
     "output_type": "stream",
     "text": [
      "20\n"
     ]
    }
   ],
   "source": [
    "# Exercise 6\n",
    "element_list = [10, 20, 30, 40, 50]\n",
    "print(element_list[1])"
   ]
  },
  {
   "cell_type": "markdown",
   "id": "6ad0cee3",
   "metadata": {},
   "source": [
    "\n",
    "---\n",
    "\n",
    "### Exercise 7:\n",
    "Change the third element of the list `fruits = [\"apple\", \"banana\", \"cherry\", \"orange\"]` to `\"mango\"`.\n"
   ]
  },
  {
   "cell_type": "code",
   "execution_count": 35,
   "id": "edf8e912",
   "metadata": {},
   "outputs": [
    {
     "data": {
      "text/plain": [
       "['apple', 'banana', 'cherry', 'mango']"
      ]
     },
     "execution_count": 35,
     "metadata": {},
     "output_type": "execute_result"
    }
   ],
   "source": [
    "# Exercise 7\n",
    "fruits = [\"apple\", \"banana\", \"cherry\", \"orange\"]\n",
    "fruits[3]=\"mango\"\n",
    "fruits"
   ]
  },
  {
   "cell_type": "markdown",
   "id": "113d5721",
   "metadata": {},
   "source": [
    "\n",
    "---\n",
    "\n",
    "### Exercise 8:\n",
    "Add the number `6` to the set `numbers = {1, 2, 3, 4, 5}`.\n"
   ]
  },
  {
   "cell_type": "code",
   "execution_count": 43,
   "id": "201e7dd8",
   "metadata": {},
   "outputs": [
    {
     "data": {
      "text/plain": [
       "{1, 2, 3, 4, 5, 6}"
      ]
     },
     "execution_count": 43,
     "metadata": {},
     "output_type": "execute_result"
    }
   ],
   "source": [
    "# Exercise 8\n",
    "numbers = {1, 2, 3, 4, 5}\n",
    "numbers.add(6)\n",
    "numbers"
   ]
  },
  {
   "cell_type": "markdown",
   "id": "1fbe664f",
   "metadata": {},
   "source": [
    "\n",
    "---\n",
    "\n",
    "### Exercise 9:\n",
    "Remove the key `\"age\"` from the dictionary `person = {\"name\": \"John\", \"age\": 25, \"city\": \"New York\"}`.\n"
   ]
  },
  {
   "cell_type": "code",
   "execution_count": 49,
   "id": "9df67448",
   "metadata": {},
   "outputs": [
    {
     "data": {
      "text/plain": [
       "{'name': 'John', 'city': 'New York'}"
      ]
     },
     "execution_count": 49,
     "metadata": {},
     "output_type": "execute_result"
    }
   ],
   "source": [
    "# Exercise 9\n",
    "person = {\"name\": \"John\", \"age\": 25, \"city\": \"New York\"}\n",
    "del person[\"age\"]\n",
    "person"
   ]
  },
  {
   "cell_type": "markdown",
   "id": "7b3e4700",
   "metadata": {},
   "source": [
    "\n",
    "---\n",
    "\n",
    "### Exercise 10:\n",
    "Create a range object starting from 0 to 9.\n"
   ]
  },
  {
   "cell_type": "code",
   "execution_count": 55,
   "id": "5debcc0f",
   "metadata": {},
   "outputs": [
    {
     "data": {
      "text/plain": [
       "[0, 1, 2, 3, 4, 5, 6, 7, 8, 9]"
      ]
     },
     "execution_count": 55,
     "metadata": {},
     "output_type": "execute_result"
    }
   ],
   "source": [
    "# Exercise 10\n",
    "y =range(10)\n",
    "list(y)"
   ]
  },
  {
   "cell_type": "markdown",
   "id": "c252718b",
   "metadata": {},
   "source": [
    "\n",
    "---\n",
    "\n",
    "### Exercise 11:\n",
    "Use a list comprehension to create a list of squares of numbers from 1 to 10.\n"
   ]
  },
  {
   "cell_type": "code",
   "execution_count": 59,
   "id": "05398773",
   "metadata": {},
   "outputs": [
    {
     "data": {
      "text/plain": [
       "[2, 4, 6, 8, 10, 12, 14, 16, 18, 20]"
      ]
     },
     "execution_count": 59,
     "metadata": {},
     "output_type": "execute_result"
    }
   ],
   "source": [
    "# Exercise 11\n",
    "my_list = [i*2 for i in range(1,11)]\n",
    "my_list"
   ]
  },
  {
   "cell_type": "markdown",
   "id": "3768839d",
   "metadata": {},
   "source": [
    "\n",
    "---\n",
    "\n",
    "### Exercise 12:\n",
    "Create a tuple of even numbers between 2 and 10 using a tuple comprehension.\n"
   ]
  },
  {
   "cell_type": "code",
   "execution_count": 69,
   "id": "b835355f",
   "metadata": {},
   "outputs": [
    {
     "data": {
      "text/plain": [
       "(2, 4, 6, 8, 10)"
      ]
     },
     "execution_count": 69,
     "metadata": {},
     "output_type": "execute_result"
    }
   ],
   "source": [
    "# Exercise 12\n",
    "my_tuple = tuple(i for i in range(2, 11) if i % 2 == 0)\n",
    "my_tuple"
   ]
  },
  {
   "cell_type": "markdown",
   "id": "101d1b59",
   "metadata": {},
   "source": [
    "\n",
    "---\n",
    "\n",
    "### Exercise 13:\n",
    "Use a for loop to iterate through the list `fruits = [\"apple\", \"banana\", \"cherry\"]` and print each element.\n"
   ]
  },
  {
   "cell_type": "code",
   "execution_count": 73,
   "id": "27fccbc4",
   "metadata": {},
   "outputs": [
    {
     "name": "stdout",
     "output_type": "stream",
     "text": [
      "apple\n",
      "banana\n",
      "cherry\n"
     ]
    }
   ],
   "source": [
    "# Exercise 13\n",
    "fruits = [\"apple\", \"banana\", \"cherry\"]\n",
    "for i in fruits:\n",
    "    print(i)\n"
   ]
  },
  {
   "cell_type": "markdown",
   "id": "a44c67a3",
   "metadata": {},
   "source": [
    "\n",
    "---\n",
    "\n",
    "### Exercise 14:\n",
    "Check if the value `3` exists in the set `numbers = {1, 2, 3, 4, 5}`.\n"
   ]
  },
  {
   "cell_type": "code",
   "execution_count": 98,
   "id": "72e1068d",
   "metadata": {},
   "outputs": [],
   "source": [
    "# Exercise 14\n",
    "numbers = {1, 2, 3, 4, 5}\n",
    "if 8 in numbers:\n",
    "    print(numbers)\n",
    "\n"
   ]
  },
  {
   "cell_type": "markdown",
   "id": "c80a4ba4",
   "metadata": {},
   "source": [
    "\n",
    "---\n",
    "\n",
    "### Exercise 15:\n",
    "Use the `len()` function to find the length of the tuple `numbers = (10, 20, 30)`.\n"
   ]
  },
  {
   "cell_type": "code",
   "execution_count": 100,
   "id": "82d5bb30",
   "metadata": {},
   "outputs": [
    {
     "data": {
      "text/plain": [
       "3"
      ]
     },
     "execution_count": 100,
     "metadata": {},
     "output_type": "execute_result"
    }
   ],
   "source": [
    "# Exercise 15\n",
    "numbers = (10, 20, 30)\n",
    "len(numbers)"
   ]
  },
  {
   "cell_type": "markdown",
   "id": "5b491bb0",
   "metadata": {},
   "source": [
    "# ---\n",
    "\n",
    "### Exercise 16:\n",
    "Add the value `100` at the end of the list `scores = [80, 85, 90, 95]`.\n"
   ]
  },
  {
   "cell_type": "code",
   "execution_count": 106,
   "id": "3a6f2e42",
   "metadata": {},
   "outputs": [
    {
     "name": "stdout",
     "output_type": "stream",
     "text": [
      "[80, 85, 90, 95, 100]\n"
     ]
    }
   ],
   "source": [
    "# Exercise 16\n",
    "scores = [80, 85, 90, 95]\n",
    "scores.append(100)\n",
    "print(scores)"
   ]
  },
  {
   "cell_type": "markdown",
   "id": "0ee5adfc",
   "metadata": {},
   "source": [
    "\n",
    "---\n",
    "\n",
    "### Exercise 17:\n",
    "Write a function that takes a list as input and returns the sum of all elements in the list.\n"
   ]
  },
  {
   "cell_type": "code",
   "execution_count": 122,
   "id": "c345753d",
   "metadata": {},
   "outputs": [
    {
     "name": "stdout",
     "output_type": "stream",
     "text": [
      "15\n"
     ]
    }
   ],
   "source": [
    "# Exercise 17\n",
    "def sum_list_elements(input_list):\n",
    "    \"\"\"Return the sum of all elements in the input list.\"\"\"\n",
    "    return sum(input_list)\n",
    "    \n",
    "input_list = [1, 2, 3, 4, 5]\n",
    "result = sum_list_elements(input_list)\n",
    "print(result)"
   ]
  },
  {
   "cell_type": "markdown",
   "id": "35d5d0b1",
   "metadata": {},
   "source": [
    "\n",
    "---\n",
    "\n",
    "### Exercise 18:\n",
    "Create a set containing the unique elements of the list `numbers = [1, 2, 2, 3, 4, 4, 5]`.\n"
   ]
  },
  {
   "cell_type": "code",
   "execution_count": 126,
   "id": "e55a23e9-d256-4436-ab3e-edbcffedd61b",
   "metadata": {},
   "outputs": [
    {
     "name": "stdout",
     "output_type": "stream",
     "text": [
      "{1, 2, 3, 4, 5}\n"
     ]
    }
   ],
   "source": [
    "numbers = [1, 2, 2, 3, 4, 4, 5]\n",
    "unique_ele = set(numbers)\n",
    "print(unique_ele)"
   ]
  },
  {
   "cell_type": "code",
   "execution_count": 116,
   "id": "e2f801ad",
   "metadata": {},
   "outputs": [
    {
     "name": "stdout",
     "output_type": "stream",
     "text": [
      "Please enter any positive number:  "
     ]
    },
    {
     "name": "stdin",
     "output_type": "stream",
     "text": [
      " 45\n"
     ]
    },
    {
     "name": "stdout",
     "output_type": "stream",
     "text": [
      "The square of 45 is 2025\n"
     ]
    }
   ],
   "source": [
    "# Exercise 18\n",
    "print(\"Please enter any positive number: \", end=\" \")\n",
    "ch = input()\n",
    "num = int(ch)  # Convert the string to an integer\n",
    "print(\"The square of\", num, \"is\", num**2)\n"
   ]
  },
  {
   "cell_type": "markdown",
   "id": "6c102900",
   "metadata": {},
   "source": [
    "\n",
    "---\n",
    "\n",
    "### Exercise 19:\n",
    "Convert the string `\"hello\"` into a list of characters.\n"
   ]
  },
  {
   "cell_type": "code",
   "execution_count": 132,
   "id": "07c63fed",
   "metadata": {},
   "outputs": [
    {
     "data": {
      "text/plain": [
       "{'e', 'h', 'l', 'o'}"
      ]
     },
     "execution_count": 132,
     "metadata": {},
     "output_type": "execute_result"
    }
   ],
   "source": [
    "# Exercise 19\n",
    "name = \"hello\"\n",
    "lise_name = set(name)\n",
    "lise_name"
   ]
  },
  {
   "cell_type": "markdown",
   "id": "c22d6b97",
   "metadata": {},
   "source": [
    "\n",
    "---\n",
    "\n",
    "### Exercise 20:\n",
    "Write a Python function that reverses a tuple `(1, 2, 3, 4)`.\n"
   ]
  },
  {
   "cell_type": "code",
   "execution_count": 136,
   "id": "e2a7b1be",
   "metadata": {},
   "outputs": [
    {
     "name": "stdout",
     "output_type": "stream",
     "text": [
      "(4, 3, 2, 1)\n"
     ]
    }
   ],
   "source": [
    "# Exercise 20\n",
    "def reverse_tuple(t):\n",
    "    return t[::-1]\n",
    "num= (1, 2, 3, 4)\n",
    "reverse_tuple= reverse_tuple(num)\n",
    "print(reverse_tuple)"
   ]
  },
  {
   "cell_type": "markdown",
   "id": "4c12cf45",
   "metadata": {},
   "source": [
    "\n",
    "---\n",
    "\n",
    "### Exercise 21:\n",
    "Merge two dictionaries `dict1 = {\"a\": 1, \"b\": 2}` and `dict2 = {\"c\": 3, \"d\": 4}` into a single dictionary.\n"
   ]
  },
  {
   "cell_type": "code",
   "execution_count": 142,
   "id": "537c61a1",
   "metadata": {},
   "outputs": [
    {
     "name": "stdout",
     "output_type": "stream",
     "text": [
      "{'a': 1, 'b': 2, 'c': 3, 'd': 4}\n"
     ]
    }
   ],
   "source": [
    "# Exercise 21\n",
    "dict1 = {\"a\": 1, \"b\": 2}\n",
    "dict2 = {\"c\": 3, \"d\": 4}\n",
    "dict1.update(dict2)\n",
    "print(dict1)"
   ]
  },
  {
   "cell_type": "markdown",
   "id": "752fc2f0",
   "metadata": {},
   "source": [
    "\n",
    "---\n",
    "\n",
    "### Exercise 22:\n",
    "Create a dictionary where keys are numbers from 1 to 5, and values are their squares.\n"
   ]
  },
  {
   "cell_type": "code",
   "execution_count": 160,
   "id": "f4b8b50a",
   "metadata": {},
   "outputs": [
    {
     "data": {
      "text/plain": [
       "{1: 1, 2: 4, 3: 9, 4: 16, 5: 25}"
      ]
     },
     "execution_count": 160,
     "metadata": {},
     "output_type": "execute_result"
    }
   ],
   "source": [
    "# Exercise 22\n",
    "dict_keys ={k: k**2 for k in range(1,6)}\n",
    "dict_keys"
   ]
  },
  {
   "cell_type": "markdown",
   "id": "87925b31",
   "metadata": {},
   "source": [
    "\n",
    "---\n",
    "\n",
    "### Exercise 23:\n",
    "Write a Python program to iterate through a dictionary and print each key-value pair.\n"
   ]
  },
  {
   "cell_type": "code",
   "execution_count": null,
   "id": "65c5827c",
   "metadata": {},
   "outputs": [],
   "source": [
    "# Exercise 23\n"
   ]
  },
  {
   "cell_type": "markdown",
   "id": "291aba22",
   "metadata": {},
   "source": [
    "\n",
    "---\n",
    "\n",
    "### Exercise 24:\n",
    "Create a list of the first 5 letters of the alphabet using the `chr()` function.\n"
   ]
  },
  {
   "cell_type": "code",
   "execution_count": null,
   "id": "ad91182e",
   "metadata": {},
   "outputs": [],
   "source": [
    "# Exercise 24"
   ]
  },
  {
   "cell_type": "markdown",
   "id": "b26fbe9e",
   "metadata": {},
   "source": [
    "\n",
    "---\n",
    "\n",
    "### Exercise 25:\n",
    "Use the `zip()` function to combine two lists `[1, 2, 3]` and `[\"a\", \"b\", \"c\"]` into a list of tuples.\n"
   ]
  },
  {
   "cell_type": "code",
   "execution_count": null,
   "id": "acbd5a20",
   "metadata": {},
   "outputs": [],
   "source": [
    "# Exercise 25"
   ]
  },
  {
   "cell_type": "markdown",
   "id": "fb1b544b",
   "metadata": {},
   "source": [
    "\n",
    "---\n",
    "\n",
    "### Exercise 26:\n",
    "Find the index of the value `50` in the list `[10, 20, 30, 40, 50]`.\n"
   ]
  },
  {
   "cell_type": "code",
   "execution_count": null,
   "id": "4be341e2",
   "metadata": {},
   "outputs": [],
   "source": [
    "# Exercise 26"
   ]
  },
  {
   "cell_type": "markdown",
   "id": "cc1f1bbc",
   "metadata": {},
   "source": [
    "\n",
    "---\n",
    "\n",
    "### Exercise 27:\n",
    "Sort the list `names = [\"Alice\", \"Bob\", \"Charlie\", \"David\"]` in alphabetical order.\n"
   ]
  },
  {
   "cell_type": "code",
   "execution_count": null,
   "id": "5da06905",
   "metadata": {},
   "outputs": [],
   "source": [
    "# Exercise 27"
   ]
  },
  {
   "cell_type": "markdown",
   "id": "cac11304",
   "metadata": {},
   "source": [
    "\n",
    "---\n",
    "\n",
    "### Exercise 28:\n",
    "Write a Python function that takes a list of integers as input and returns the largest number.\n"
   ]
  },
  {
   "cell_type": "code",
   "execution_count": null,
   "id": "1bfc6919",
   "metadata": {},
   "outputs": [],
   "source": [
    "# Exercise 28"
   ]
  },
  {
   "cell_type": "markdown",
   "id": "d90195b7",
   "metadata": {},
   "source": [
    "\n",
    "---\n",
    "\n",
    "### Exercise 29:\n",
    "Use the `count()` method to count how many times `\"apple\"` appears in the list `fruits = [\"apple\", \"banana\", \"apple\", \"orange\"]`.\n"
   ]
  },
  {
   "cell_type": "code",
   "execution_count": null,
   "id": "8a8448c7",
   "metadata": {},
   "outputs": [],
   "source": [
    "# Exercise 29"
   ]
  },
  {
   "cell_type": "markdown",
   "id": "45c41ffe",
   "metadata": {},
   "source": [
    "\n",
    "---\n",
    "\n",
    "### Exercise 30:\n",
    "Create a dictionary `person` where keys are `\"name\"`, `\"age\"`, and `\"city\"`, and values are `\"Alice\"`, `25`, and `\"New York\"` respectively. Then access the value of the `\"city\"` key.\n"
   ]
  },
  {
   "cell_type": "code",
   "execution_count": null,
   "id": "01c8b6e2",
   "metadata": {},
   "outputs": [],
   "source": [
    "# Exercise 30"
   ]
  },
  {
   "cell_type": "markdown",
   "id": "0b95c68b",
   "metadata": {},
   "source": [
    "\n",
    "---\n",
    "\n",
    "### Exercise 31:\n",
    "Write a Python function that takes a list as input and returns a new list with all duplicates removed.\n"
   ]
  },
  {
   "cell_type": "code",
   "execution_count": null,
   "id": "5fc377d7",
   "metadata": {},
   "outputs": [],
   "source": [
    "# Exercise 31"
   ]
  },
  {
   "cell_type": "markdown",
   "id": "8ee587cd",
   "metadata": {},
   "source": [
    "\n",
    "---\n",
    "\n",
    "### Exercise 32:\n",
    "Write a Python function that takes two lists and returns their intersection.\n"
   ]
  },
  {
   "cell_type": "code",
   "execution_count": null,
   "id": "dd7c0e7a",
   "metadata": {},
   "outputs": [],
   "source": [
    "# Exercise 32"
   ]
  },
  {
   "cell_type": "markdown",
   "id": "57d89740",
   "metadata": {},
   "source": [
    "\n",
    "---\n",
    "\n",
    "### Exercise 33:\n",
    "Create a generator that yields the squares of numbers from 1 to 10.\n"
   ]
  },
  {
   "cell_type": "code",
   "execution_count": null,
   "id": "b83f66a7",
   "metadata": {},
   "outputs": [],
   "source": [
    "# Exercise 33"
   ]
  },
  {
   "cell_type": "markdown",
   "id": "662d4f36",
   "metadata": {},
   "source": [
    "\n",
    "---\n",
    "\n",
    "### Exercise 34:\n",
    "Write a Python function that takes a dictionary as input and returns the sum of all its values.\n"
   ]
  },
  {
   "cell_type": "code",
   "execution_count": null,
   "id": "7c119210",
   "metadata": {},
   "outputs": [],
   "source": [
    "# Exercise 34"
   ]
  },
  {
   "cell_type": "markdown",
   "id": "6e6330bd",
   "metadata": {},
   "source": [
    "\n",
    "---\n",
    "\n",
    "### Exercise 35:\n",
    "Use the `sorted()` function to sort the list `[3, 1, 4, 1, 5, 9]` in ascending order.\n"
   ]
  },
  {
   "cell_type": "code",
   "execution_count": null,
   "id": "cc89b4b3",
   "metadata": {},
   "outputs": [],
   "source": [
    "# Exercise 35"
   ]
  },
  {
   "cell_type": "markdown",
   "id": "a0faab20",
   "metadata": {},
   "source": [
    "\n",
    "---\n",
    "\n",
    "### Exercise 36:\n",
    "Write a Python function that takes a list of strings as input and returns the longest string.\n"
   ]
  },
  {
   "cell_type": "code",
   "execution_count": null,
   "id": "f9f10963",
   "metadata": {},
   "outputs": [],
   "source": [
    "# Exercise 36"
   ]
  },
  {
   "cell_type": "markdown",
   "id": "b607894e",
   "metadata": {},
   "source": [
    "\n",
    "---\n",
    "\n",
    "### Exercise 37:\n",
    "Check if all the elements in the list `[1, 2, 3, 4, 5]` are greater than 0 using the `all()` function.\n"
   ]
  },
  {
   "cell_type": "code",
   "execution_count": null,
   "id": "2c70c929",
   "metadata": {},
   "outputs": [],
   "source": [
    "# Exercise 37"
   ]
  },
  {
   "cell_type": "markdown",
   "id": "c7a96b9d",
   "metadata": {},
   "source": [
    "\n",
    "---\n",
    "\n",
    "### Exercise 38:\n",
    "Create a list of tuples where each tuple contains a number and its square for numbers from 1 to 5.\n"
   ]
  },
  {
   "cell_type": "code",
   "execution_count": null,
   "id": "5957f979",
   "metadata": {},
   "outputs": [],
   "source": [
    "# Exercise 38"
   ]
  },
  {
   "cell_type": "markdown",
   "id": "81c8b43e",
   "metadata": {},
   "source": [
    "\n",
    "---\n",
    "\n",
    "### Exercise 39:\n",
    "Write a Python function that takes a list of tuples and returns a list of the second elements from each tuple.\n"
   ]
  },
  {
   "cell_type": "code",
   "execution_count": null,
   "id": "524043c8",
   "metadata": {},
   "outputs": [],
   "source": [
    "# Exercise 39"
   ]
  },
  {
   "cell_type": "markdown",
   "id": "48bc26d7",
   "metadata": {},
   "source": [
    "\n",
    "---\n",
    "\n",
    "### Exercise 40:\n",
    "Write a Python function that flattens a list of lists into a single list.\n"
   ]
  },
  {
   "cell_type": "code",
   "execution_count": null,
   "id": "b944b52c",
   "metadata": {},
   "outputs": [],
   "source": [
    "# Exercise 40"
   ]
  },
  {
   "cell_type": "markdown",
   "id": "89e77dfb",
   "metadata": {},
   "source": [
    "\n",
    "---\n",
    "\n",
    "### Exercise 41:\n",
    "Use the `enumerate()` function to iterate through the list `[\"apple\", \"banana\", \"cherry\"]` and print the index and value.\n"
   ]
  },
  {
   "cell_type": "code",
   "execution_count": null,
   "id": "287d36e1",
   "metadata": {},
   "outputs": [],
   "source": [
    "# Exercise 41"
   ]
  },
  {
   "cell_type": "markdown",
   "id": "ce43eb37",
   "metadata": {},
   "source": [
    "\n",
    "---\n",
    "\n",
    "### Exercise 42:\n",
    "Write a Python program that checks if a tuple is empty.\n"
   ]
  },
  {
   "cell_type": "code",
   "execution_count": null,
   "id": "dffe61c2",
   "metadata": {},
   "outputs": [],
   "source": [
    "# Exercise 42"
   ]
  },
  {
   "cell_type": "markdown",
   "id": "b77d431a",
   "metadata": {},
   "source": [
    "\n",
    "---\n",
    "\n",
    "### Exercise 43:\n",
    "Create a list of even numbers between 1 and 20 using the `range()` function.\n"
   ]
  },
  {
   "cell_type": "code",
   "execution_count": null,
   "id": "e7668e50",
   "metadata": {},
   "outputs": [],
   "source": [
    "# Exercise 43"
   ]
  },
  {
   "cell_type": "markdown",
   "id": "acdaed92",
   "metadata": {},
   "source": [
    "\n",
    "---\n",
    "\n",
    "### Exercise 44:\n",
    "Write a Python function that takes a list of numbers as input and returns the list in reverse order.\n"
   ]
  },
  {
   "cell_type": "code",
   "execution_count": null,
   "id": "d67bdd24",
   "metadata": {},
   "outputs": [],
   "source": [
    "# Exercise 44"
   ]
  },
  {
   "cell_type": "markdown",
   "id": "5354b3c4",
   "metadata": {},
   "source": [
    "\n",
    "---\n",
    "\n",
    "### Exercise 45:\n",
    "Create a dictionary comprehension that maps numbers from 1 to 5 to their cubes.\n"
   ]
  },
  {
   "cell_type": "code",
   "execution_count": null,
   "id": "231f0012",
   "metadata": {},
   "outputs": [],
   "source": [
    "# Exercise 45"
   ]
  },
  {
   "cell_type": "markdown",
   "id": "faabb654",
   "metadata": {},
   "source": [
    "\n",
    "---\n",
    "\n",
    "### Exercise 46:\n",
    "Write a Python program that creates a new list containing only the unique elements of the list `[1, 2, 2, 3, 4, 4, 5]`.\n"
   ]
  },
  {
   "cell_type": "code",
   "execution_count": null,
   "id": "3b769de9",
   "metadata": {},
   "outputs": [],
   "source": [
    "# Exercise 46"
   ]
  },
  {
   "cell_type": "markdown",
   "id": "dbe53215",
   "metadata": {},
   "source": [
    "\n",
    "---\n",
    "\n",
    "### Exercise 47:\n",
    "Write a Python function that takes a list of dictionaries and returns a list of the values for a given key.\n"
   ]
  },
  {
   "cell_type": "code",
   "execution_count": null,
   "id": "f560389e",
   "metadata": {},
   "outputs": [],
   "source": [
    "# Exercise 47"
   ]
  },
  {
   "cell_type": "markdown",
   "id": "297c79ff",
   "metadata": {},
   "source": [
    "\n",
    "---\n",
    "\n",
    "### Exercise 48:\n",
    "Write a Python function that uses a generator to yield the Fibonacci sequence up to `n` terms.\n"
   ]
  },
  {
   "cell_type": "code",
   "execution_count": null,
   "id": "63380ce6",
   "metadata": {},
   "outputs": [],
   "source": [
    "# Exercise 48"
   ]
  },
  {
   "cell_type": "markdown",
   "id": "45f7536e",
   "metadata": {},
   "source": [
    "\n",
    "---\n",
    "\n",
    "### Exercise 49:\n",
    "Write a Python function that takes a string and returns a list of all unique characters in the string.\n"
   ]
  },
  {
   "cell_type": "code",
   "execution_count": null,
   "id": "bab510f2",
   "metadata": {},
   "outputs": [],
   "source": [
    "# Exercise 49"
   ]
  },
  {
   "cell_type": "markdown",
   "id": "79cfed08",
   "metadata": {},
   "source": [
    "\n",
    "---\n",
    "\n",
    "### Exercise 50:\n",
    "Write a Python function that merges two sorted lists into a single sorted list.\n"
   ]
  },
  {
   "cell_type": "code",
   "execution_count": null,
   "id": "7fcb6676",
   "metadata": {},
   "outputs": [],
   "source": [
    "# Exercise 50"
   ]
  },
  {
   "cell_type": "markdown",
   "id": "4359c140",
   "metadata": {},
   "source": [
    "\n",
    "---\n",
    "\n",
    "### Exercise 51:\n",
    "Use the\n",
    "\n",
    " `filter()` function to filter out odd numbers from the list `[1, 2, 3, 4, 5, 6]`.\n"
   ]
  },
  {
   "cell_type": "code",
   "execution_count": null,
   "id": "3ec07449",
   "metadata": {},
   "outputs": [],
   "source": [
    "# Exercise 51"
   ]
  },
  {
   "cell_type": "markdown",
   "id": "311d2578",
   "metadata": {},
   "source": [
    "\n",
    "---\n",
    "\n",
    "### Exercise 52:\n",
    "Write a Python program that converts a list of tuples `[(1, 2), (3, 4), (5, 6)]` into a dictionary.\n"
   ]
  },
  {
   "cell_type": "code",
   "execution_count": null,
   "id": "abb42173",
   "metadata": {},
   "outputs": [],
   "source": [
    "# Exercise 52"
   ]
  },
  {
   "cell_type": "markdown",
   "id": "85fd7247",
   "metadata": {},
   "source": [
    "\n",
    "---\n",
    "\n",
    "### Exercise 53:\n",
    "Write a Python function that takes two sets and returns their symmetric difference.\n"
   ]
  },
  {
   "cell_type": "code",
   "execution_count": null,
   "id": "256f45dc",
   "metadata": {},
   "outputs": [],
   "source": [
    "# Exercise 53"
   ]
  },
  {
   "cell_type": "markdown",
   "id": "3583669c",
   "metadata": {},
   "source": [
    "\n",
    "---\n",
    "\n",
    "### Exercise 54:\n",
    "Write a Python program that finds the common elements in three lists `list1`, `list2`, and `list3`.\n"
   ]
  },
  {
   "cell_type": "code",
   "execution_count": null,
   "id": "d7d8ee5e",
   "metadata": {},
   "outputs": [],
   "source": [
    "# Exercise 54"
   ]
  },
  {
   "cell_type": "markdown",
   "id": "9a25e857",
   "metadata": {},
   "source": [
    "\n",
    "---\n",
    "\n",
    "### Exercise 55:\n",
    "Write a Python function that returns the factorial of a number using recursion.\n"
   ]
  },
  {
   "cell_type": "code",
   "execution_count": null,
   "id": "ebc5c223",
   "metadata": {},
   "outputs": [],
   "source": [
    "# Exercise 55"
   ]
  },
  {
   "cell_type": "markdown",
   "id": "b54aac43",
   "metadata": {},
   "source": [
    "\n",
    "---\n",
    "\n",
    "### Exercise 56:\n",
    "Write a Python program that removes all empty strings from the list `[\"apple\", \"\", \"banana\", \"\", \"cherry\"]`.\n"
   ]
  },
  {
   "cell_type": "code",
   "execution_count": null,
   "id": "7fde547c",
   "metadata": {},
   "outputs": [],
   "source": [
    "# Exercise 56"
   ]
  },
  {
   "cell_type": "markdown",
   "id": "a698981c",
   "metadata": {},
   "source": [
    "\n",
    "---\n",
    "\n",
    "### Exercise 57:\n",
    "Write a Python function that takes a dictionary and returns a new dictionary with the keys and values swapped.\n"
   ]
  },
  {
   "cell_type": "code",
   "execution_count": null,
   "id": "ab632d15",
   "metadata": {},
   "outputs": [],
   "source": [
    "# Exercise 57"
   ]
  },
  {
   "cell_type": "markdown",
   "id": "dfdc2034",
   "metadata": {},
   "source": [
    "\n",
    "---\n",
    "\n",
    "### Exercise 58:\n",
    "Write a Python function that takes a list of integers and returns a new list with only the even numbers.\n"
   ]
  },
  {
   "cell_type": "code",
   "execution_count": null,
   "id": "db0feb48",
   "metadata": {},
   "outputs": [],
   "source": [
    "# Exercise 58"
   ]
  },
  {
   "cell_type": "markdown",
   "id": "5c14b9e2",
   "metadata": {},
   "source": [
    "\n",
    "---\n",
    "\n",
    "### Exercise 59:\n",
    "Write a Python function that takes a list of tuples and returns a list of the first elements of each tuple.\n"
   ]
  },
  {
   "cell_type": "code",
   "execution_count": null,
   "id": "e481b81a",
   "metadata": {},
   "outputs": [],
   "source": [
    "# Exercise 59"
   ]
  },
  {
   "cell_type": "markdown",
   "id": "5ffc4a73",
   "metadata": {},
   "source": [
    "\n",
    "---\n",
    "\n",
    "### Exercise 60:\n",
    "Write a Python program that removes duplicates from a list without changing the order of elements.\n"
   ]
  },
  {
   "cell_type": "code",
   "execution_count": null,
   "id": "69b5483c",
   "metadata": {},
   "outputs": [],
   "source": [
    "# Exercise 60"
   ]
  },
  {
   "cell_type": "markdown",
   "id": "1b9b50b4",
   "metadata": {},
   "source": [
    "\n",
    "---\n",
    "\n",
    "### Exercise 61:\n",
    "Use the `map()` function to convert a list of strings to a list of their lengths.\n"
   ]
  },
  {
   "cell_type": "code",
   "execution_count": null,
   "id": "4a4781f3",
   "metadata": {},
   "outputs": [],
   "source": [
    "# Exercise 61"
   ]
  },
  {
   "cell_type": "markdown",
   "id": "320f3aca",
   "metadata": {},
   "source": [
    "\n",
    "---\n",
    "\n",
    "### Exercise 62:\n",
    "Write a Python program that calculates the average of a list of numbers.\n"
   ]
  },
  {
   "cell_type": "code",
   "execution_count": null,
   "id": "0ddf6294",
   "metadata": {},
   "outputs": [],
   "source": [
    "# Exercise 62"
   ]
  },
  {
   "cell_type": "markdown",
   "id": "ada7c412",
   "metadata": {},
   "source": [
    "\n",
    "---\n",
    "\n",
    "### Exercise 63:\n",
    "Write a Python function that generates a list of the first `n` Fibonacci numbers.\n"
   ]
  },
  {
   "cell_type": "code",
   "execution_count": null,
   "id": "5c1281c7",
   "metadata": {},
   "outputs": [],
   "source": [
    "# Exercise 63"
   ]
  },
  {
   "cell_type": "markdown",
   "id": "6a67ece7",
   "metadata": {},
   "source": [
    "\n",
    "---\n",
    "\n",
    "### Exercise 64:\n",
    "Write a Python program that counts how many times each element appears in the list `[\"apple\", \"banana\", \"apple\", \"cherry\"]`.\n"
   ]
  },
  {
   "cell_type": "code",
   "execution_count": null,
   "id": "57213561",
   "metadata": {},
   "outputs": [],
   "source": [
    "# Exercise 64"
   ]
  },
  {
   "cell_type": "markdown",
   "id": "aa829fa6",
   "metadata": {},
   "source": [
    "\n",
    "---\n",
    "\n",
    "### Exercise 65:\n",
    "Write a Python program that removes all occurrences of a specific value from a list.\n"
   ]
  },
  {
   "cell_type": "code",
   "execution_count": null,
   "id": "16b868ee",
   "metadata": {},
   "outputs": [],
   "source": [
    "# Exercise 65"
   ]
  },
  {
   "cell_type": "markdown",
   "id": "d67afd7d",
   "metadata": {},
   "source": [
    "\n",
    "---\n",
    "\n",
    "### Exercise 66:\n",
    "Write a Python function that takes a list of strings and returns a list of the strings that start with a vowel.\n"
   ]
  },
  {
   "cell_type": "code",
   "execution_count": null,
   "id": "51721e69",
   "metadata": {},
   "outputs": [],
   "source": [
    "# Exercise 66"
   ]
  },
  {
   "cell_type": "markdown",
   "id": "25cef748",
   "metadata": {},
   "source": [
    "\n",
    "---\n",
    "\n",
    "### Exercise 67:\n",
    "Write a Python program that finds the intersection of two sets `set1` and `set2`.\n"
   ]
  },
  {
   "cell_type": "code",
   "execution_count": null,
   "id": "e72a1ab5",
   "metadata": {},
   "outputs": [],
   "source": [
    "# Exercise 67"
   ]
  },
  {
   "cell_type": "markdown",
   "id": "7f72b8f0",
   "metadata": {},
   "source": [
    "\n",
    "---\n",
    "\n",
    "### Exercise 68:\n",
    "Write a Python function that flattens a nested list.\n"
   ]
  },
  {
   "cell_type": "code",
   "execution_count": null,
   "id": "3f11ec5b",
   "metadata": {},
   "outputs": [],
   "source": [
    "# Exercise 68"
   ]
  },
  {
   "cell_type": "markdown",
   "id": "6f048ddb",
   "metadata": {},
   "source": [
    "\n",
    "---\n",
    "\n",
    "### Exercise 69:\n",
    "Write a Python program that checks if all the elements in a list are unique.\n"
   ]
  },
  {
   "cell_type": "code",
   "execution_count": null,
   "id": "3ed01a59",
   "metadata": {},
   "outputs": [],
   "source": [
    "# Exercise 69"
   ]
  },
  {
   "cell_type": "markdown",
   "id": "39f80d26",
   "metadata": {},
   "source": [
    "\n",
    "---\n",
    "\n",
    "### Exercise 70:\n",
    "Use the `reduce()` function from the `functools` module to multiply all elements in a list.\n"
   ]
  },
  {
   "cell_type": "code",
   "execution_count": null,
   "id": "c9392f51",
   "metadata": {},
   "outputs": [],
   "source": [
    "# Exercise 70"
   ]
  },
  {
   "cell_type": "markdown",
   "id": "405c9fac",
   "metadata": {},
   "source": [
    "\n",
    "---\n",
    "\n",
    "### Exercise 71:\n",
    "Write a Python function that takes a list of strings and returns a dictionary where keys are strings and values are their lengths.\n"
   ]
  },
  {
   "cell_type": "code",
   "execution_count": null,
   "id": "5a22c6ba",
   "metadata": {},
   "outputs": [],
   "source": [
    "# Exercise 71"
   ]
  },
  {
   "cell_type": "markdown",
   "id": "8447d495",
   "metadata": {},
   "source": [
    "\n",
    "---\n",
    "\n",
    "### Exercise 72:\n",
    "Write a Python program that counts the number of vowels in a string.\n"
   ]
  },
  {
   "cell_type": "code",
   "execution_count": null,
   "id": "a97366b2",
   "metadata": {},
   "outputs": [],
   "source": [
    "# Exercise 72"
   ]
  },
  {
   "cell_type": "markdown",
   "id": "a2daf99e",
   "metadata": {},
   "source": [
    "\n",
    "---\n",
    "\n",
    "### Exercise 73:\n",
    "Create a list of tuples where each tuple contains a number from 1 to 5 and its factorial.\n"
   ]
  },
  {
   "cell_type": "code",
   "execution_count": null,
   "id": "26a95d77",
   "metadata": {},
   "outputs": [],
   "source": [
    "# Exercise 73"
   ]
  },
  {
   "cell_type": "markdown",
   "id": "574c7b40",
   "metadata": {},
   "source": [
    "\n",
    "---\n",
    "\n",
    "### Exercise 74:\n",
    "Write a Python program that converts a list of dictionaries into a single dictionary by merging them.\n"
   ]
  },
  {
   "cell_type": "code",
   "execution_count": null,
   "id": "fe108bc9",
   "metadata": {},
   "outputs": [],
   "source": [
    "# Exercise 74"
   ]
  },
  {
   "cell_type": "markdown",
   "id": "36381b03",
   "metadata": {},
   "source": [
    "\n",
    "---\n",
    "\n",
    "### Exercise 75:\n",
    "Write a Python function that checks if a set is a subset of another set.\n"
   ]
  },
  {
   "cell_type": "code",
   "execution_count": null,
   "id": "a8ce9282",
   "metadata": {},
   "outputs": [],
   "source": [
    "# Exercise 75"
   ]
  },
  {
   "cell_type": "markdown",
   "id": "5fa98235",
   "metadata": {},
   "source": [
    "\n",
    "---\n",
    "\n",
    "### Exercise 76:\n",
    "Write a Python program that sorts a list of tuples based on the second element in each tuple.\n"
   ]
  },
  {
   "cell_type": "code",
   "execution_count": null,
   "id": "547434ea",
   "metadata": {},
   "outputs": [],
   "source": [
    "# Exercise 76"
   ]
  },
  {
   "cell_type": "markdown",
   "id": "3713ff96",
   "metadata": {},
   "source": [
    "\n",
    "---\n",
    "\n",
    "### Exercise 77:\n",
    "Write a Python function that takes a list of integers and returns a new list with only the positive integers.\n"
   ]
  },
  {
   "cell_type": "code",
   "execution_count": null,
   "id": "6f109433",
   "metadata": {},
   "outputs": [],
   "source": [
    "# Exercise 77"
   ]
  },
  {
   "cell_type": "markdown",
   "id": "fd1b38b2",
   "metadata": {},
   "source": [
    "\n",
    "---\n",
    "\n",
    "### Exercise 78:\n",
    "Write a Python function that takes two sets and returns their union.\n"
   ]
  },
  {
   "cell_type": "code",
   "execution_count": null,
   "id": "9ebbf168",
   "metadata": {},
   "outputs": [],
   "source": [
    "# Exercise 78"
   ]
  },
  {
   "cell_type": "markdown",
   "id": "3810cede",
   "metadata": {},
   "source": [
    "\n",
    "---\n",
    "\n",
    "### Exercise 79:\n",
    "Write a Python function that takes a list of numbers and returns the product of all the numbers.\n"
   ]
  },
  {
   "cell_type": "code",
   "execution_count": null,
   "id": "6051255e",
   "metadata": {},
   "outputs": [],
   "source": [
    "# Exercise 79"
   ]
  },
  {
   "cell_type": "markdown",
   "id": "9e0df32b",
   "metadata": {},
   "source": [
    "\n",
    "---\n",
    "\n",
    "### Exercise 80:\n",
    "Write a Python program that converts a list of characters into a string.\n"
   ]
  },
  {
   "cell_type": "code",
   "execution_count": null,
   "id": "379112dd",
   "metadata": {},
   "outputs": [],
   "source": [
    "# Exercise 80"
   ]
  },
  {
   "cell_type": "markdown",
   "id": "146b572c",
   "metadata": {},
   "source": [
    "\n",
    "---\n",
    "\n",
    "### Exercise 81:\n",
    "Write a Python program that finds the second largest number in a list of integers.\n"
   ]
  },
  {
   "cell_type": "code",
   "execution_count": null,
   "id": "676e61dd",
   "metadata": {},
   "outputs": [],
   "source": [
    "# Exercise 81"
   ]
  },
  {
   "cell_type": "markdown",
   "id": "08bf9c38",
   "metadata": {},
   "source": [
    "\n",
    "---\n",
    "\n",
    "### Exercise 82:\n",
    "Write a Python function that takes a dictionary and returns a list of its keys in sorted order.\n"
   ]
  },
  {
   "cell_type": "code",
   "execution_count": null,
   "id": "07840783",
   "metadata": {},
   "outputs": [],
   "source": [
    "# Exercise 82"
   ]
  },
  {
   "cell_type": "markdown",
   "id": "63dcfc04",
   "metadata": {},
   "source": [
    "\n",
    "---\n",
    "\n",
    "### Exercise 83:\n",
    "Write a Python program that finds the most common element in a list.\n"
   ]
  },
  {
   "cell_type": "code",
   "execution_count": null,
   "id": "2abbdaa6",
   "metadata": {},
   "outputs": [],
   "source": [
    "# Exercise 83"
   ]
  },
  {
   "cell_type": "markdown",
   "id": "3ac8727c",
   "metadata": {},
   "source": [
    "\n",
    "---\n",
    "\n",
    "### Exercise 84:\n",
    "Write a Python function that takes a list of tuples and returns a list of the tuples sorted by the first element.\n"
   ]
  },
  {
   "cell_type": "code",
   "execution_count": null,
   "id": "a2f3af06",
   "metadata": {},
   "outputs": [],
   "source": [
    "# Exercise 84"
   ]
  },
  {
   "cell_type": "markdown",
   "id": "fe10fcd0",
   "metadata": {},
   "source": [
    "\n",
    "---\n",
    "\n",
    "### Exercise 85:\n",
    "Write a Python program that removes duplicates from a list of dictionaries.\n"
   ]
  },
  {
   "cell_type": "code",
   "execution_count": null,
   "id": "5da29451",
   "metadata": {},
   "outputs": [],
   "source": [
    "# Exercise 85"
   ]
  },
  {
   "cell_type": "markdown",
   "id": "76e005e6",
   "metadata": {},
   "source": [
    "\n",
    "---\n",
    "\n",
    "### Exercise 86:\n",
    "Write a Python function that takes a list of numbers and returns the minimum and maximum numbers in the list.\n"
   ]
  },
  {
   "cell_type": "code",
   "execution_count": null,
   "id": "2573ccd9",
   "metadata": {},
   "outputs": [],
   "source": [
    "# Exercise 86"
   ]
  },
  {
   "cell_type": "markdown",
   "id": "c13d74a1",
   "metadata": {},
   "source": [
    "\n",
    "---\n",
    "\n",
    "### Exercise 87:\n",
    "Write a Python program that creates a list of tuples from two lists.\n"
   ]
  },
  {
   "cell_type": "code",
   "execution_count": null,
   "id": "e1e91424",
   "metadata": {},
   "outputs": [],
   "source": [
    "# Exercise 87"
   ]
  },
  {
   "cell_type": "markdown",
   "id": "f0f3f4ad",
   "metadata": {},
   "source": [
    "\n",
    "---\n",
    "\n",
    "### Exercise 88:\n",
    "Write a Python function that takes a list of strings and returns a list of the strings in reverse order.\n"
   ]
  },
  {
   "cell_type": "code",
   "execution_count": null,
   "id": "25b9437c",
   "metadata": {},
   "outputs": [],
   "source": [
    "# Exercise 88"
   ]
  },
  {
   "cell_type": "markdown",
   "id": "43dc3593",
   "metadata": {},
   "source": [
    "\n",
    "---\n",
    "\n",
    "### Exercise 89:\n",
    "Write a Python function that takes a list of integers and returns the sum of all odd numbers.\n"
   ]
  },
  {
   "cell_type": "code",
   "execution_count": null,
   "id": "d44a17e4",
   "metadata": {},
   "outputs": [],
   "source": [
    "# Exercise 89"
   ]
  },
  {
   "cell_type": "markdown",
   "id": "b494aae8",
   "metadata": {},
   "source": [
    "\n",
    "---\n",
    "\n",
    "### Exercise 90:\n",
    "Write a Python program that checks if a string is a palindrome.\n"
   ]
  },
  {
   "cell_type": "code",
   "execution_count": null,
   "id": "73fdee3b",
   "metadata": {},
   "outputs": [],
   "source": [
    "# Exercise 90"
   ]
  },
  {
   "cell_type": "markdown",
   "id": "632ba2b9",
   "metadata": {},
   "source": [
    "\n",
    "---\n",
    "\n",
    "### Exercise 91:\n",
    "Write a Python program that finds the median of a list of numbers.\n"
   ]
  },
  {
   "cell_type": "code",
   "execution_count": null,
   "id": "e01eb242",
   "metadata": {},
   "outputs": [],
   "source": [
    "# Exercise 91"
   ]
  },
  {
   "cell_type": "markdown",
   "id": "cc98919a",
   "metadata": {},
   "source": [
    "\n",
    "---\n",
    "\n",
    "### Exercise 92:\n",
    "Write a Python function that takes a list of dictionaries and returns a dictionary with the total value for each key.\n"
   ]
  },
  {
   "cell_type": "code",
   "execution_count": null,
   "id": "4b823f16",
   "metadata": {},
   "outputs": [],
   "source": [
    "# Exercise 92"
   ]
  },
  {
   "cell_type": "markdown",
   "id": "2a7b4a1f",
   "metadata": {},
   "source": [
    "\n",
    "---\n",
    "\n",
    "### Exercise 93:\n",
    "Write a Python program that calculates the mode of a list of numbers.\n"
   ]
  },
  {
   "cell_type": "code",
   "execution_count": null,
   "id": "42035756",
   "metadata": {},
   "outputs": [],
   "source": [
    "# Exercise 93"
   ]
  },
  {
   "cell_type": "markdown",
   "id": "b37470a9",
   "metadata": {},
   "source": [
    "\n",
    "---\n",
    "\n",
    "### Exercise 94:\n",
    "Write a Python function that takes a list of numbers and returns the sum of the squares of all the numbers.\n"
   ]
  },
  {
   "cell_type": "code",
   "execution_count": null,
   "id": "6ce9e87b",
   "metadata": {},
   "outputs": [],
   "source": [
    "# Exercise 94"
   ]
  },
  {
   "cell_type": "markdown",
   "id": "cd40161b",
   "metadata": {},
   "source": [
    "\n",
    "---\n",
    "\n",
    "### Exercise 95:\n",
    "Write a Python program that creates a list of tuples, where each tuple contains a number and its cube for numbers from 1 to 5.\n"
   ]
  },
  {
   "cell_type": "code",
   "execution_count": null,
   "id": "6d8fe1a0",
   "metadata": {},
   "outputs": [],
   "source": [
    "# Exercise 95"
   ]
  },
  {
   "cell_type": "markdown",
   "id": "ae965a3c",
   "metadata": {},
   "source": [
    "\n",
    "---\n",
    "\n",
    "### Exercise 96:\n",
    "Write a Python function that returns a list of all prime numbers up to `n`.\n"
   ]
  },
  {
   "cell_type": "code",
   "execution_count": null,
   "id": "922ee043",
   "metadata": {},
   "outputs": [],
   "source": [
    "# Exercise 96"
   ]
  },
  {
   "cell_type": "markdown",
   "id": "d5568b95",
   "metadata": {},
   "source": [
    "\n",
    "---\n",
    "\n",
    "### Exercise 97:\n",
    "Write a Python program that finds the common keys between two dictionaries.\n"
   ]
  },
  {
   "cell_type": "code",
   "execution_count": null,
   "id": "7dc99fcf",
   "metadata": {},
   "outputs": [],
   "source": [
    "# Exercise 97"
   ]
  },
  {
   "cell_type": "markdown",
   "id": "bc63aa23",
   "metadata": {},
   "source": [
    "\n",
    "---\n",
    "\n",
    "### Exercise 98:\n",
    "Write a Python function that takes a list of strings and returns a list of the strings that contain more than 5 characters.\n"
   ]
  },
  {
   "cell_type": "code",
   "execution_count": null,
   "id": "5d279573",
   "metadata": {},
   "outputs": [],
   "source": [
    "# Exercise 98"
   ]
  },
  {
   "cell_type": "markdown",
   "id": "d7b1bc80",
   "metadata": {},
   "source": [
    "\n",
    "---\n",
    "\n",
    "### Exercise 99:\n",
    "Write a Python program that converts a list of strings into a list of tuples, where each tuple contains the string and its length.\n"
   ]
  },
  {
   "cell_type": "code",
   "execution_count": null,
   "id": "872e6d36",
   "metadata": {},
   "outputs": [],
   "source": [
    "# Exercise 99"
   ]
  },
  {
   "cell_type": "markdown",
   "id": "277dc676",
   "metadata": {},
   "source": [
    "\n",
    "---\n",
    "\n",
    "### Exercise 100:\n",
    "Write a Python function that takes a list of dictionaries and returns a new dictionary by summing the values of each key across all dictionaries.\n"
   ]
  },
  {
   "cell_type": "code",
   "execution_count": null,
   "id": "7667d86f",
   "metadata": {},
   "outputs": [],
   "source": [
    "# Exercise 100"
   ]
  },
  {
   "cell_type": "markdown",
   "id": "683a0ab7",
   "metadata": {},
   "source": [
    "\n",
    "---"
   ]
  },
  {
   "cell_type": "code",
   "execution_count": null,
   "id": "4e7202b1-2504-4f93-9664-f1b1c42bf507",
   "metadata": {},
   "outputs": [],
   "source": []
  }
 ],
 "metadata": {
  "kernelspec": {
   "display_name": "Python 3 (ipykernel)",
   "language": "python",
   "name": "python3"
  },
  "language_info": {
   "codemirror_mode": {
    "name": "ipython",
    "version": 3
   },
   "file_extension": ".py",
   "mimetype": "text/x-python",
   "name": "python",
   "nbconvert_exporter": "python",
   "pygments_lexer": "ipython3",
   "version": "3.12.7"
  }
 },
 "nbformat": 4,
 "nbformat_minor": 5
}
